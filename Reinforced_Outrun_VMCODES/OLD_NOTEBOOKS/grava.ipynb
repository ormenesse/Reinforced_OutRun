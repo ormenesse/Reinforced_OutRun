{
 "cells": [
  {
   "cell_type": "code",
   "execution_count": 1,
   "metadata": {},
   "outputs": [
    {
     "data": {
      "text/html": [
       "<style>.container { width:100% !important; }</style>"
      ],
      "text/plain": [
       "<IPython.core.display.HTML object>"
      ]
     },
     "metadata": {},
     "output_type": "display_data"
    }
   ],
   "source": [
    "from functions import *\n",
    "from IPython.core.display import display, HTML\n",
    "display(HTML(\"<style>.container { width:100% !important; }</style>\"))\n",
    "import matplotlib.pyplot as plt\n",
    "import numpy as np\n",
    "import pandas as pd\n",
    "import seaborn as sns\n",
    "import matplotlib.pyplot as plt\n",
    "from PIL import Image\n",
    "import mss\n",
    "import sched, time\n",
    "import cv2\n",
    "from XboxController import *\n",
    "import time\n",
    "from tqdm import tqdm"
   ]
  },
  {
   "cell_type": "code",
   "execution_count": 2,
   "metadata": {},
   "outputs": [],
   "source": [
    "from subprocess import Popen, PIPE"
   ]
  },
  {
   "cell_type": "code",
   "execution_count": 3,
   "metadata": {},
   "outputs": [],
   "source": [
    "import keyboard"
   ]
  },
  {
   "cell_type": "code",
   "execution_count": 5,
   "metadata": {
    "scrolled": true
   },
   "outputs": [
    {
     "ename": "ImportError",
     "evalue": "You must be root to use this library on linux.",
     "output_type": "error",
     "traceback": [
      "\u001b[0;31m---------------------------------------------------------------------------\u001b[0m",
      "\u001b[0;31mImportError\u001b[0m                               Traceback (most recent call last)",
      "\u001b[0;32m<ipython-input-5-f7aa966bdd09>\u001b[0m in \u001b[0;36m<module>\u001b[0;34m\u001b[0m\n\u001b[1;32m      1\u001b[0m \u001b[0mp\u001b[0m \u001b[0;34m=\u001b[0m \u001b[0mPopen\u001b[0m\u001b[0;34m(\u001b[0m\u001b[0;34m[\u001b[0m\u001b[0;34m'gens'\u001b[0m\u001b[0;34m,\u001b[0m\u001b[0;34m'/home/ormenesse/Documents/Reinforced_Outrun/OutRun (USA, Europe).md'\u001b[0m\u001b[0;34m]\u001b[0m\u001b[0;34m,\u001b[0m \u001b[0mstdin\u001b[0m\u001b[0;34m=\u001b[0m\u001b[0mPIPE\u001b[0m\u001b[0;34m,\u001b[0m \u001b[0mstdout\u001b[0m\u001b[0;34m=\u001b[0m\u001b[0mPIPE\u001b[0m\u001b[0;34m,\u001b[0m \u001b[0mstderr\u001b[0m\u001b[0;34m=\u001b[0m\u001b[0mPIPE\u001b[0m\u001b[0;34m,\u001b[0m \u001b[0mclose_fds\u001b[0m\u001b[0;34m=\u001b[0m\u001b[0;32mTrue\u001b[0m\u001b[0;34m)\u001b[0m\u001b[0;34m\u001b[0m\u001b[0;34m\u001b[0m\u001b[0m\n\u001b[0;32m----> 2\u001b[0;31m \u001b[0mkeyboard\u001b[0m\u001b[0;34m.\u001b[0m\u001b[0mpress_and_release\u001b[0m\u001b[0;34m(\u001b[0m\u001b[0;34m'F8'\u001b[0m\u001b[0;34m)\u001b[0m\u001b[0;34m\u001b[0m\u001b[0;34m\u001b[0m\u001b[0m\n\u001b[0m",
      "\u001b[0;32m~/anaconda3/lib/python3.7/site-packages/keyboard/__init__.py\u001b[0m in \u001b[0;36msend\u001b[0;34m(hotkey, do_press, do_release)\u001b[0m\n\u001b[1;32m    377\u001b[0m     \u001b[0m_listener\u001b[0m\u001b[0;34m.\u001b[0m\u001b[0mis_replaying\u001b[0m \u001b[0;34m=\u001b[0m \u001b[0;32mTrue\u001b[0m\u001b[0;34m\u001b[0m\u001b[0;34m\u001b[0m\u001b[0m\n\u001b[1;32m    378\u001b[0m \u001b[0;34m\u001b[0m\u001b[0m\n\u001b[0;32m--> 379\u001b[0;31m     \u001b[0mparsed\u001b[0m \u001b[0;34m=\u001b[0m \u001b[0mparse_hotkey\u001b[0m\u001b[0;34m(\u001b[0m\u001b[0mhotkey\u001b[0m\u001b[0;34m)\u001b[0m\u001b[0;34m\u001b[0m\u001b[0;34m\u001b[0m\u001b[0m\n\u001b[0m\u001b[1;32m    380\u001b[0m     \u001b[0;32mfor\u001b[0m \u001b[0mstep\u001b[0m \u001b[0;32min\u001b[0m \u001b[0mparsed\u001b[0m\u001b[0;34m:\u001b[0m\u001b[0;34m\u001b[0m\u001b[0;34m\u001b[0m\u001b[0m\n\u001b[1;32m    381\u001b[0m         \u001b[0;32mif\u001b[0m \u001b[0mdo_press\u001b[0m\u001b[0;34m:\u001b[0m\u001b[0;34m\u001b[0m\u001b[0;34m\u001b[0m\u001b[0m\n",
      "\u001b[0;32m~/anaconda3/lib/python3.7/site-packages/keyboard/__init__.py\u001b[0m in \u001b[0;36mparse_hotkey\u001b[0;34m(hotkey)\u001b[0m\n\u001b[1;32m    356\u001b[0m     \u001b[0;32mfor\u001b[0m \u001b[0mstep\u001b[0m \u001b[0;32min\u001b[0m \u001b[0m_re\u001b[0m\u001b[0;34m.\u001b[0m\u001b[0msplit\u001b[0m\u001b[0;34m(\u001b[0m\u001b[0;34mr',\\s?'\u001b[0m\u001b[0;34m,\u001b[0m \u001b[0mhotkey\u001b[0m\u001b[0;34m)\u001b[0m\u001b[0;34m:\u001b[0m\u001b[0;34m\u001b[0m\u001b[0;34m\u001b[0m\u001b[0m\n\u001b[1;32m    357\u001b[0m         \u001b[0mkeys\u001b[0m \u001b[0;34m=\u001b[0m \u001b[0m_re\u001b[0m\u001b[0;34m.\u001b[0m\u001b[0msplit\u001b[0m\u001b[0;34m(\u001b[0m\u001b[0;34mr'\\s?\\+\\s?'\u001b[0m\u001b[0;34m,\u001b[0m \u001b[0mstep\u001b[0m\u001b[0;34m)\u001b[0m\u001b[0;34m\u001b[0m\u001b[0;34m\u001b[0m\u001b[0m\n\u001b[0;32m--> 358\u001b[0;31m         \u001b[0msteps\u001b[0m\u001b[0;34m.\u001b[0m\u001b[0mappend\u001b[0m\u001b[0;34m(\u001b[0m\u001b[0mtuple\u001b[0m\u001b[0;34m(\u001b[0m\u001b[0mkey_to_scan_codes\u001b[0m\u001b[0;34m(\u001b[0m\u001b[0mkey\u001b[0m\u001b[0;34m)\u001b[0m \u001b[0;32mfor\u001b[0m \u001b[0mkey\u001b[0m \u001b[0;32min\u001b[0m \u001b[0mkeys\u001b[0m\u001b[0;34m)\u001b[0m\u001b[0;34m)\u001b[0m\u001b[0;34m\u001b[0m\u001b[0;34m\u001b[0m\u001b[0m\n\u001b[0m\u001b[1;32m    359\u001b[0m     \u001b[0;32mreturn\u001b[0m \u001b[0mtuple\u001b[0m\u001b[0;34m(\u001b[0m\u001b[0msteps\u001b[0m\u001b[0;34m)\u001b[0m\u001b[0;34m\u001b[0m\u001b[0;34m\u001b[0m\u001b[0m\n\u001b[1;32m    360\u001b[0m \u001b[0;34m\u001b[0m\u001b[0m\n",
      "\u001b[0;32m~/anaconda3/lib/python3.7/site-packages/keyboard/__init__.py\u001b[0m in \u001b[0;36m<genexpr>\u001b[0;34m(.0)\u001b[0m\n\u001b[1;32m    356\u001b[0m     \u001b[0;32mfor\u001b[0m \u001b[0mstep\u001b[0m \u001b[0;32min\u001b[0m \u001b[0m_re\u001b[0m\u001b[0;34m.\u001b[0m\u001b[0msplit\u001b[0m\u001b[0;34m(\u001b[0m\u001b[0;34mr',\\s?'\u001b[0m\u001b[0;34m,\u001b[0m \u001b[0mhotkey\u001b[0m\u001b[0;34m)\u001b[0m\u001b[0;34m:\u001b[0m\u001b[0;34m\u001b[0m\u001b[0;34m\u001b[0m\u001b[0m\n\u001b[1;32m    357\u001b[0m         \u001b[0mkeys\u001b[0m \u001b[0;34m=\u001b[0m \u001b[0m_re\u001b[0m\u001b[0;34m.\u001b[0m\u001b[0msplit\u001b[0m\u001b[0;34m(\u001b[0m\u001b[0;34mr'\\s?\\+\\s?'\u001b[0m\u001b[0;34m,\u001b[0m \u001b[0mstep\u001b[0m\u001b[0;34m)\u001b[0m\u001b[0;34m\u001b[0m\u001b[0;34m\u001b[0m\u001b[0m\n\u001b[0;32m--> 358\u001b[0;31m         \u001b[0msteps\u001b[0m\u001b[0;34m.\u001b[0m\u001b[0mappend\u001b[0m\u001b[0;34m(\u001b[0m\u001b[0mtuple\u001b[0m\u001b[0;34m(\u001b[0m\u001b[0mkey_to_scan_codes\u001b[0m\u001b[0;34m(\u001b[0m\u001b[0mkey\u001b[0m\u001b[0;34m)\u001b[0m \u001b[0;32mfor\u001b[0m \u001b[0mkey\u001b[0m \u001b[0;32min\u001b[0m \u001b[0mkeys\u001b[0m\u001b[0;34m)\u001b[0m\u001b[0;34m)\u001b[0m\u001b[0;34m\u001b[0m\u001b[0;34m\u001b[0m\u001b[0m\n\u001b[0m\u001b[1;32m    359\u001b[0m     \u001b[0;32mreturn\u001b[0m \u001b[0mtuple\u001b[0m\u001b[0;34m(\u001b[0m\u001b[0msteps\u001b[0m\u001b[0;34m)\u001b[0m\u001b[0;34m\u001b[0m\u001b[0;34m\u001b[0m\u001b[0m\n\u001b[1;32m    360\u001b[0m \u001b[0;34m\u001b[0m\u001b[0m\n",
      "\u001b[0;32m~/anaconda3/lib/python3.7/site-packages/keyboard/__init__.py\u001b[0m in \u001b[0;36mkey_to_scan_codes\u001b[0;34m(key, error_if_missing)\u001b[0m\n\u001b[1;32m    315\u001b[0m     \u001b[0;32mtry\u001b[0m\u001b[0;34m:\u001b[0m\u001b[0;34m\u001b[0m\u001b[0;34m\u001b[0m\u001b[0m\n\u001b[1;32m    316\u001b[0m         \u001b[0;31m# Put items in ordered dict to remove duplicates.\u001b[0m\u001b[0;34m\u001b[0m\u001b[0;34m\u001b[0m\u001b[0;34m\u001b[0m\u001b[0m\n\u001b[0;32m--> 317\u001b[0;31m         \u001b[0mt\u001b[0m \u001b[0;34m=\u001b[0m \u001b[0mtuple\u001b[0m\u001b[0;34m(\u001b[0m\u001b[0m_collections\u001b[0m\u001b[0;34m.\u001b[0m\u001b[0mOrderedDict\u001b[0m\u001b[0;34m(\u001b[0m\u001b[0;34m(\u001b[0m\u001b[0mscan_code\u001b[0m\u001b[0;34m,\u001b[0m \u001b[0;32mTrue\u001b[0m\u001b[0;34m)\u001b[0m \u001b[0;32mfor\u001b[0m \u001b[0mscan_code\u001b[0m\u001b[0;34m,\u001b[0m \u001b[0mmodifier\u001b[0m \u001b[0;32min\u001b[0m \u001b[0m_os_keyboard\u001b[0m\u001b[0;34m.\u001b[0m\u001b[0mmap_name\u001b[0m\u001b[0;34m(\u001b[0m\u001b[0mnormalized\u001b[0m\u001b[0;34m)\u001b[0m\u001b[0;34m)\u001b[0m\u001b[0;34m)\u001b[0m\u001b[0;34m\u001b[0m\u001b[0;34m\u001b[0m\u001b[0m\n\u001b[0m\u001b[1;32m    318\u001b[0m         \u001b[0me\u001b[0m \u001b[0;34m=\u001b[0m \u001b[0;32mNone\u001b[0m\u001b[0;34m\u001b[0m\u001b[0;34m\u001b[0m\u001b[0m\n\u001b[1;32m    319\u001b[0m     \u001b[0;32mexcept\u001b[0m \u001b[0;34m(\u001b[0m\u001b[0mKeyError\u001b[0m\u001b[0;34m,\u001b[0m \u001b[0mValueError\u001b[0m\u001b[0;34m)\u001b[0m \u001b[0;32mas\u001b[0m \u001b[0mexception\u001b[0m\u001b[0;34m:\u001b[0m\u001b[0;34m\u001b[0m\u001b[0;34m\u001b[0m\u001b[0m\n",
      "\u001b[0;32m~/anaconda3/lib/python3.7/site-packages/keyboard/__init__.py\u001b[0m in \u001b[0;36m<genexpr>\u001b[0;34m(.0)\u001b[0m\n\u001b[1;32m    315\u001b[0m     \u001b[0;32mtry\u001b[0m\u001b[0;34m:\u001b[0m\u001b[0;34m\u001b[0m\u001b[0;34m\u001b[0m\u001b[0m\n\u001b[1;32m    316\u001b[0m         \u001b[0;31m# Put items in ordered dict to remove duplicates.\u001b[0m\u001b[0;34m\u001b[0m\u001b[0;34m\u001b[0m\u001b[0;34m\u001b[0m\u001b[0m\n\u001b[0;32m--> 317\u001b[0;31m         \u001b[0mt\u001b[0m \u001b[0;34m=\u001b[0m \u001b[0mtuple\u001b[0m\u001b[0;34m(\u001b[0m\u001b[0m_collections\u001b[0m\u001b[0;34m.\u001b[0m\u001b[0mOrderedDict\u001b[0m\u001b[0;34m(\u001b[0m\u001b[0;34m(\u001b[0m\u001b[0mscan_code\u001b[0m\u001b[0;34m,\u001b[0m \u001b[0;32mTrue\u001b[0m\u001b[0;34m)\u001b[0m \u001b[0;32mfor\u001b[0m \u001b[0mscan_code\u001b[0m\u001b[0;34m,\u001b[0m \u001b[0mmodifier\u001b[0m \u001b[0;32min\u001b[0m \u001b[0m_os_keyboard\u001b[0m\u001b[0;34m.\u001b[0m\u001b[0mmap_name\u001b[0m\u001b[0;34m(\u001b[0m\u001b[0mnormalized\u001b[0m\u001b[0;34m)\u001b[0m\u001b[0;34m)\u001b[0m\u001b[0;34m)\u001b[0m\u001b[0;34m\u001b[0m\u001b[0;34m\u001b[0m\u001b[0m\n\u001b[0m\u001b[1;32m    318\u001b[0m         \u001b[0me\u001b[0m \u001b[0;34m=\u001b[0m \u001b[0;32mNone\u001b[0m\u001b[0;34m\u001b[0m\u001b[0;34m\u001b[0m\u001b[0m\n\u001b[1;32m    319\u001b[0m     \u001b[0;32mexcept\u001b[0m \u001b[0;34m(\u001b[0m\u001b[0mKeyError\u001b[0m\u001b[0;34m,\u001b[0m \u001b[0mValueError\u001b[0m\u001b[0;34m)\u001b[0m \u001b[0;32mas\u001b[0m \u001b[0mexception\u001b[0m\u001b[0;34m:\u001b[0m\u001b[0;34m\u001b[0m\u001b[0;34m\u001b[0m\u001b[0m\n",
      "\u001b[0;32m~/anaconda3/lib/python3.7/site-packages/keyboard/_nixkeyboard.py\u001b[0m in \u001b[0;36mmap_name\u001b[0;34m(name)\u001b[0m\n\u001b[1;32m    146\u001b[0m \u001b[0;34m\u001b[0m\u001b[0m\n\u001b[1;32m    147\u001b[0m \u001b[0;32mdef\u001b[0m \u001b[0mmap_name\u001b[0m\u001b[0;34m(\u001b[0m\u001b[0mname\u001b[0m\u001b[0;34m)\u001b[0m\u001b[0;34m:\u001b[0m\u001b[0;34m\u001b[0m\u001b[0;34m\u001b[0m\u001b[0m\n\u001b[0;32m--> 148\u001b[0;31m     \u001b[0mbuild_tables\u001b[0m\u001b[0;34m(\u001b[0m\u001b[0;34m)\u001b[0m\u001b[0;34m\u001b[0m\u001b[0;34m\u001b[0m\u001b[0m\n\u001b[0m\u001b[1;32m    149\u001b[0m     \u001b[0;32mfor\u001b[0m \u001b[0mentry\u001b[0m \u001b[0;32min\u001b[0m \u001b[0mfrom_name\u001b[0m\u001b[0;34m[\u001b[0m\u001b[0mname\u001b[0m\u001b[0;34m]\u001b[0m\u001b[0;34m:\u001b[0m\u001b[0;34m\u001b[0m\u001b[0;34m\u001b[0m\u001b[0m\n\u001b[1;32m    150\u001b[0m         \u001b[0;32myield\u001b[0m \u001b[0mentry\u001b[0m\u001b[0;34m\u001b[0m\u001b[0;34m\u001b[0m\u001b[0m\n",
      "\u001b[0;32m~/anaconda3/lib/python3.7/site-packages/keyboard/_nixkeyboard.py\u001b[0m in \u001b[0;36mbuild_tables\u001b[0;34m()\u001b[0m\n\u001b[1;32m     62\u001b[0m \u001b[0;32mdef\u001b[0m \u001b[0mbuild_tables\u001b[0m\u001b[0;34m(\u001b[0m\u001b[0;34m)\u001b[0m\u001b[0;34m:\u001b[0m\u001b[0;34m\u001b[0m\u001b[0;34m\u001b[0m\u001b[0m\n\u001b[1;32m     63\u001b[0m     \u001b[0;32mif\u001b[0m \u001b[0mto_name\u001b[0m \u001b[0;32mand\u001b[0m \u001b[0mfrom_name\u001b[0m\u001b[0;34m:\u001b[0m \u001b[0;32mreturn\u001b[0m\u001b[0;34m\u001b[0m\u001b[0;34m\u001b[0m\u001b[0m\n\u001b[0;32m---> 64\u001b[0;31m     \u001b[0mensure_root\u001b[0m\u001b[0;34m(\u001b[0m\u001b[0;34m)\u001b[0m\u001b[0;34m\u001b[0m\u001b[0;34m\u001b[0m\u001b[0m\n\u001b[0m\u001b[1;32m     65\u001b[0m \u001b[0;34m\u001b[0m\u001b[0m\n\u001b[1;32m     66\u001b[0m     modifiers_bits = {\n",
      "\u001b[0;32m~/anaconda3/lib/python3.7/site-packages/keyboard/_nixcommon.py\u001b[0m in \u001b[0;36mensure_root\u001b[0;34m()\u001b[0m\n\u001b[1;32m    172\u001b[0m \u001b[0;32mdef\u001b[0m \u001b[0mensure_root\u001b[0m\u001b[0;34m(\u001b[0m\u001b[0;34m)\u001b[0m\u001b[0;34m:\u001b[0m\u001b[0;34m\u001b[0m\u001b[0;34m\u001b[0m\u001b[0m\n\u001b[1;32m    173\u001b[0m     \u001b[0;32mif\u001b[0m \u001b[0mos\u001b[0m\u001b[0;34m.\u001b[0m\u001b[0mgeteuid\u001b[0m\u001b[0;34m(\u001b[0m\u001b[0;34m)\u001b[0m \u001b[0;34m!=\u001b[0m \u001b[0;36m0\u001b[0m\u001b[0;34m:\u001b[0m\u001b[0;34m\u001b[0m\u001b[0;34m\u001b[0m\u001b[0m\n\u001b[0;32m--> 174\u001b[0;31m         \u001b[0;32mraise\u001b[0m \u001b[0mImportError\u001b[0m\u001b[0;34m(\u001b[0m\u001b[0;34m'You must be root to use this library on linux.'\u001b[0m\u001b[0;34m)\u001b[0m\u001b[0;34m\u001b[0m\u001b[0;34m\u001b[0m\u001b[0m\n\u001b[0m",
      "\u001b[0;31mImportError\u001b[0m: You must be root to use this library on linux."
     ]
    }
   ],
   "source": [
    "p = Popen(['gens','/home/ormenesse/Documents/Reinforced_Outrun/OutRun (USA, Europe).md'], stdin=PIPE, stdout=PIPE, stderr=PIPE, close_fds=True)\n",
    "keyboard.press_and_release('F8')"
   ]
  },
  {
   "cell_type": "code",
   "execution_count": 105,
   "metadata": {
    "scrolled": true
   },
   "outputs": [
    {
     "data": {
      "text/plain": [
       "(b'',\n",
       " b'Gtk-Message: 20:25:34.597: Failed to load module \"gail\"\\nGtk-Message: 20:25:34.597: Failed to load module \"atk-bridge\"\\n\\n(gens:22247): Gtk-WARNING **: 20:25:34.605: Unable to locate theme engine in module_path: \"pixmap\",\\n\\n(gens:22247): Gtk-WARNING **: 20:25:34.605: Unable to locate theme engine in module_path: \"adwaita\",\\n\\n(gens:22247): Gtk-WARNING **: 20:25:34.605: Unable to locate theme engine in module_path: \"pixmap\",\\n\\n(gens:22247): Gtk-WARNING **: 20:25:34.605: Unable to locate theme engine in module_path: \"pixmap\",\\n\\n(gens:22247): Gtk-WARNING **: 20:25:34.605: Unable to locate theme engine in module_path: \"pixmap\",\\n\\n(gens:22247): Gtk-WARNING **: 20:25:34.605: Unable to locate theme engine in module_path: \"pixmap\",\\n\\n(gens:22247): Gtk-WARNING **: 20:25:34.605: Unable to locate theme engine in module_path: \"pixmap\",\\n\\n(gens:22247): Gtk-WARNING **: 20:25:34.605: Unable to locate theme engine in module_path: \"pixmap\",\\n\\n(gens:22247): Gtk-WARNING **: 20:25:34.605: Unable to locate theme engine in module_path: \"pixmap\",\\n\\n(gens:22247): Gtk-WARNING **: 20:25:34.606: Unable to locate theme engine in module_path: \"pixmap\",\\n\\n(gens:22247): Gtk-WARNING **: 20:25:34.606: Unable to locate theme engine in module_path: \"pixmap\",\\n\\n(gens:22247): Gtk-WARNING **: 20:25:34.606: Unable to locate theme engine in module_path: \"pixmap\",\\n\\n(gens:22247): Gtk-WARNING **: 20:25:34.606: Unable to locate theme engine in module_path: \"pixmap\",\\n\\n(gens:22247): Gtk-WARNING **: 20:25:34.606: Unable to locate theme engine in module_path: \"pixmap\",\\n\\n(gens:22247): Gtk-WARNING **: 20:25:34.606: Unable to locate theme engine in module_path: \"pixmap\",\\n\\n(gens:22247): Gtk-WARNING **: 20:25:34.606: Unable to locate theme engine in module_path: \"pixmap\",\\n\\n(gens:22247): Gtk-WARNING **: 20:25:34.606: Unable to locate theme engine in module_path: \"pixmap\",\\n\\n(gens:22247): Gtk-WARNING **: 20:25:34.606: Unable to locate theme engine in module_path: \"pixmap\",\\n\\n(gens:22247): Gtk-WARNING **: 20:25:34.606: Unable to locate theme engine in module_path: \"pixmap\",\\n\\n(gens:22247): Gtk-WARNING **: 20:25:34.606: Unable to locate theme engine in module_path: \"pixmap\",\\n\\n(gens:22247): Gtk-WARNING **: 20:25:34.607: Unable to locate theme engine in module_path: \"pixmap\",\\n\\n(gens:22247): Gtk-WARNING **: 20:25:34.607: Unable to locate theme engine in module_path: \"pixmap\",\\n\\n(gens:22247): Gtk-WARNING **: 20:25:34.607: Unable to locate theme engine in module_path: \"pixmap\",\\n\\n(gens:22247): Gtk-WARNING **: 20:25:34.607: Unable to locate theme engine in module_path: \"pixmap\",\\n\\n(gens:22247): Gtk-WARNING **: 20:25:34.607: Unable to locate theme engine in module_path: \"pixmap\",\\n\\n(gens:22247): Gtk-WARNING **: 20:25:34.607: Unable to locate theme engine in module_path: \"pixmap\",\\n\\n(gens:22247): Gtk-WARNING **: 20:25:34.607: Unable to locate theme engine in module_path: \"pixmap\",\\n\\n(gens:22247): Gtk-WARNING **: 20:25:34.607: Unable to locate theme engine in module_path: \"murrine\",\\n\\n(gens:22247): Gtk-WARNING **: 20:25:34.607: Unable to locate theme engine in module_path: \"murrine\",\\n\\n(gens:22247): Gtk-WARNING **: 20:25:34.607: Unable to locate theme engine in module_path: \"pixmap\",\\n\\n(gens:22247): Gtk-WARNING **: 20:25:34.607: Unable to locate theme engine in module_path: \"murrine\",\\n\\n(gens:22247): Gtk-WARNING **: 20:25:34.608: Unable to locate theme engine in module_path: \"murrine\",\\n\\n(gens:22247): Gtk-WARNING **: 20:25:34.608: Unable to locate theme engine in module_path: \"murrine\",\\n\\n(gens:22247): Gtk-WARNING **: 20:25:34.608: Unable to locate theme engine in module_path: \"murrine\",\\n\\n(gens:22247): Gtk-WARNING **: 20:25:34.608: Unable to locate theme engine in module_path: \"pixmap\",\\n\\n(gens:22247): Gtk-WARNING **: 20:25:34.608: Unable to locate theme engine in module_path: \"pixmap\",\\n\\n(gens:22247): Gtk-WARNING **: 20:25:34.608: Unable to locate theme engine in module_path: \"pixmap\",\\n\\n(gens:22247): Gtk-WARNING **: 20:25:34.608: Unable to locate theme engine in module_path: \"murrine\",\\n\\n(gens:22247): Gtk-WARNING **: 20:25:34.608: Unable to locate theme engine in module_path: \"pixmap\",\\nmdp:1:scanExternalPlugins(): Could not open directory \\'/home/ormenesse/.gens//plugins\\': No such file or directory.\\nmdp:3:loadExternalPlugin(): \"mdp\" symbol loaded from plugin: mdp_misc_game_genie.so\\nmdp:3:loadExternalPlugin(): \"mdp\" symbol loaded from plugin: mdp_misc_ips_patcher.so\\nmdp:3:loadExternalPlugin(): \"mdp\" symbol loaded from plugin: mdp_misc_sgens.so\\nmdp:3:loadExternalPlugin(): \"mdp\" symbol loaded from plugin: mdp_misc_vdp_layer_options.so\\nmdp:3:loadExternalPlugin(): \"mdp\" symbol loaded from plugin: mdp_render_2xsai.so\\nmdp:3:loadExternalPlugin(): \"mdp\" symbol loaded from plugin: mdp_render_blargg_ntsc.so\\nmdp:3:loadExternalPlugin(): \"mdp\" symbol loaded from plugin: mdp_render_epx.so\\nmdp:3:loadExternalPlugin(): \"mdp\" symbol loaded from plugin: mdp_render_epx_plus.so\\nmdp:3:loadExternalPlugin(): \"mdp\" symbol loaded from plugin: mdp_render_hq2x.so\\nmdp:3:loadExternalPlugin(): \"mdp\" symbol loaded from plugin: mdp_render_hq3x.so\\nmdp:3:loadExternalPlugin(): \"mdp\" symbol loaded from plugin: mdp_render_hq4x.so\\nmdp:3:loadExternalPlugin(): \"mdp\" symbol loaded from plugin: mdp_render_interpolated.so\\nmdp:3:loadExternalPlugin(): \"mdp\" symbol loaded from plugin: mdp_render_interpolated_scanline.so\\nmdp:3:loadExternalPlugin(): \"mdp\" symbol loaded from plugin: mdp_render_interpolated_scanline_25.so\\nmdp:3:loadExternalPlugin(): \"mdp\" symbol loaded from plugin: mdp_render_interpolated_scanline_50.so\\nmdp:3:loadExternalPlugin(): \"mdp\" symbol loaded from plugin: mdp_render_scale2x.so\\nmdp:3:loadExternalPlugin(): \"mdp\" symbol loaded from plugin: mdp_render_scale3x.so\\nmdp:3:loadExternalPlugin(): \"mdp\" symbol loaded from plugin: mdp_render_scale4x.so\\nmdp:3:loadExternalPlugin(): \"mdp\" symbol loaded from plugin: mdp_render_scanline.so\\nmdp:3:loadExternalPlugin(): \"mdp\" symbol loaded from plugin: mdp_render_scanline_25.so\\nmdp:3:loadExternalPlugin(): \"mdp\" symbol loaded from plugin: mdp_render_scanline_50.so\\nmdp:3:loadExternalPlugin(): \"mdp\" symbol loaded from plugin: mdp_render_super_2xsai.so\\nmdp:3:loadExternalPlugin(): \"mdp\" symbol loaded from plugin: mdp_render_super_eagle.so\\n')"
      ]
     },
     "execution_count": 105,
     "metadata": {},
     "output_type": "execute_result"
    }
   ],
   "source": [
    "p.communicate(input=b'\\0x41')"
   ]
  },
  {
   "cell_type": "code",
   "execution_count": 94,
   "metadata": {
    "scrolled": true
   },
   "outputs": [
    {
     "ename": "ValueError",
     "evalue": "Cannot send input after starting communication",
     "output_type": "error",
     "traceback": [
      "\u001b[0;31m---------------------------------------------------------------------------\u001b[0m",
      "\u001b[0;31mValueError\u001b[0m                                Traceback (most recent call last)",
      "\u001b[0;32m<ipython-input-94-d86a3e6e17a6>\u001b[0m in \u001b[0;36m<module>\u001b[0;34m\u001b[0m\n\u001b[0;32m----> 1\u001b[0;31m \u001b[0mp\u001b[0m\u001b[0;34m.\u001b[0m\u001b[0mcommunicate\u001b[0m\u001b[0;34m(\u001b[0m\u001b[0minput\u001b[0m\u001b[0;34m=\u001b[0m\u001b[0;34m'key F8'\u001b[0m\u001b[0;34m)\u001b[0m\u001b[0;34m\u001b[0m\u001b[0;34m\u001b[0m\u001b[0m\n\u001b[0m",
      "\u001b[0;32m~/anaconda3/lib/python3.7/subprocess.py\u001b[0m in \u001b[0;36mcommunicate\u001b[0;34m(self, input, timeout)\u001b[0m\n\u001b[1;32m    912\u001b[0m \u001b[0;34m\u001b[0m\u001b[0m\n\u001b[1;32m    913\u001b[0m         \u001b[0;32mif\u001b[0m \u001b[0mself\u001b[0m\u001b[0;34m.\u001b[0m\u001b[0m_communication_started\u001b[0m \u001b[0;32mand\u001b[0m \u001b[0minput\u001b[0m\u001b[0;34m:\u001b[0m\u001b[0;34m\u001b[0m\u001b[0;34m\u001b[0m\u001b[0m\n\u001b[0;32m--> 914\u001b[0;31m             \u001b[0;32mraise\u001b[0m \u001b[0mValueError\u001b[0m\u001b[0;34m(\u001b[0m\u001b[0;34m\"Cannot send input after starting communication\"\u001b[0m\u001b[0;34m)\u001b[0m\u001b[0;34m\u001b[0m\u001b[0;34m\u001b[0m\u001b[0m\n\u001b[0m\u001b[1;32m    915\u001b[0m \u001b[0;34m\u001b[0m\u001b[0m\n\u001b[1;32m    916\u001b[0m         \u001b[0;31m# Optimization: If we are not worried about timeouts, we haven't\u001b[0m\u001b[0;34m\u001b[0m\u001b[0;34m\u001b[0m\u001b[0;34m\u001b[0m\u001b[0m\n",
      "\u001b[0;31mValueError\u001b[0m: Cannot send input after starting communication"
     ]
    }
   ],
   "source": []
  },
  {
   "cell_type": "markdown",
   "metadata": {},
   "source": [
    "# Find your emulator PID"
   ]
  },
  {
   "cell_type": "code",
   "execution_count": 60,
   "metadata": {},
   "outputs": [],
   "source": [
    "graber = mss.mss()"
   ]
  },
  {
   "cell_type": "code",
   "execution_count": 61,
   "metadata": {},
   "outputs": [
    {
     "name": "stderr",
     "output_type": "stream",
     "text": [
      "Exception in thread Thread-6:\n",
      "Traceback (most recent call last):\n",
      "  File \"/home/ormenesse/anaconda3/lib/python3.7/threading.py\", line 926, in _bootstrap_inner\n",
      "    self.run()\n",
      "  File \"/home/ormenesse/anaconda3/lib/python3.7/threading.py\", line 870, in run\n",
      "    self._target(*self._args, **self._kwargs)\n",
      "  File \"/home/ormenesse/Documents/Reinforced_Outrun/XboxController.py\", line 55, in _monitor_controller\n",
      "    events = get_gamepad()\n",
      "  File \"/home/ormenesse/anaconda3/lib/python3.7/site-packages/inputs.py\", line 3679, in get_gamepad\n",
      "    return gamepad.read()\n",
      "  File \"/home/ormenesse/anaconda3/lib/python3.7/site-packages/inputs.py\", line 2517, in read\n",
      "    return next(iter(self))\n",
      "  File \"/home/ormenesse/anaconda3/lib/python3.7/site-packages/inputs.py\", line 2687, in __iter__\n",
      "    event = self._do_iter()\n",
      "  File \"/home/ormenesse/anaconda3/lib/python3.7/site-packages/inputs.py\", line 2495, in _do_iter\n",
      "    data = self._get_data(read_size)\n",
      "  File \"/home/ormenesse/anaconda3/lib/python3.7/site-packages/inputs.py\", line 2477, in _get_data\n",
      "    return self._character_device.read(read_size)\n",
      "OSError: [Errno 19] No such device\n",
      "\n"
     ]
    }
   ],
   "source": [
    "controller = XboxController()"
   ]
  },
  {
   "cell_type": "code",
   "execution_count": 62,
   "metadata": {
    "scrolled": true
   },
   "outputs": [
    {
     "data": {
      "text/plain": [
       "[0, 0, 0, 0]"
      ]
     },
     "execution_count": 62,
     "metadata": {},
     "output_type": "execute_result"
    }
   ],
   "source": [
    "controller.read()"
   ]
  },
  {
   "cell_type": "code",
   "execution_count": 63,
   "metadata": {},
   "outputs": [
    {
     "name": "stdout",
     "output_type": "stream",
     "text": [
      "monitor-1.png\n"
     ]
    }
   ],
   "source": [
    "with mss.mss() as sct:\n",
    "    # Get rid of the first, as it represents the \"All in One\" monitor:\n",
    "    for num, monitor in enumerate(sct.monitors[1:], 1):\n",
    "        # Get raw pixels from the screen\n",
    "        sct_img = sct.grab(monitor)\n",
    "\n",
    "        # Create the Image\n",
    "        img = Image.frombytes(\"RGB\", sct_img.size, sct_img.bgra, \"raw\", \"BGRX\")\n",
    "        # The same, but less efficient:\n",
    "        # img = Image.frombytes('RGB', sct_img.size, sct_img.rgb)\n",
    "\n",
    "        # And save it!\n",
    "        output = \"monitor-{}.png\".format(num)\n",
    "        img.save(output)\n",
    "        print(output)"
   ]
  },
  {
   "cell_type": "code",
   "execution_count": 64,
   "metadata": {},
   "outputs": [
    {
     "data": {
      "text/plain": [
       "{'left': 0, 'top': 0, 'width': 1360, 'height': 768}"
      ]
     },
     "execution_count": 64,
     "metadata": {},
     "output_type": "execute_result"
    }
   ],
   "source": [
    "monitor"
   ]
  },
  {
   "cell_type": "code",
   "execution_count": 65,
   "metadata": {},
   "outputs": [],
   "source": [
    "def do_something(con): \n",
    "    #print(\"Comecando a gavar...\")\n",
    "    sct_img = graber.grab({'left': 715, 'top': 67, 'width': 640, 'height': 440})\n",
    "    Img = Image.frombytes('RGB', sct_img.size, sct_img.bgra, 'raw', 'BGRX')\n",
    "    Img.thumbnail((320,220), Image.ANTIALIAS)\n",
    "    Img = np.array(Img.convert('L'))\n",
    "    return Img, con.read()"
   ]
  },
  {
   "cell_type": "code",
   "execution_count": 66,
   "metadata": {},
   "outputs": [],
   "source": [
    "img, _ =  do_something(controller)"
   ]
  },
  {
   "cell_type": "code",
   "execution_count": 86,
   "metadata": {},
   "outputs": [
    {
     "name": "stdout",
     "output_type": "stream",
     "text": [
      "(3, 220, 320)\n"
     ]
    },
    {
     "data": {
      "text/plain": [
       "(220, 320, 3)"
      ]
     },
     "execution_count": 86,
     "metadata": {},
     "output_type": "execute_result"
    }
   ],
   "source": [
    "tst = np.array([img,img,img])\n",
    "print(tst.shape)\n",
    "tst =  np.swapaxes(tst,0,1)\n",
    "tst =  np.swapaxes(tst,1,2)\n",
    "tst.shape"
   ]
  },
  {
   "cell_type": "code",
   "execution_count": null,
   "metadata": {},
   "outputs": [],
   "source": [
    "(3402, 220, 320, 3)"
   ]
  },
  {
   "cell_type": "code",
   "execution_count": 82,
   "metadata": {},
   "outputs": [
    {
     "data": {
      "text/plain": [
       "<matplotlib.image.AxesImage at 0x7f8c545bc090>"
      ]
     },
     "execution_count": 82,
     "metadata": {},
     "output_type": "execute_result"
    },
    {
     "data": {
      "image/png": "[encoded data removed]",
      "text/plain": [
       "<Figure size 432x288 with 1 Axes>"
      ]
     },
     "metadata": {
      "needs_background": "light"
     },
     "output_type": "display_data"
    }
   ],
   "source": [
    "plt.imshow(tst[:,:,1],cmap='gray', vmin=0, vmax=255)"
   ]
  },
  {
   "cell_type": "code",
   "execution_count": 6,
   "metadata": {},
   "outputs": [
    {
     "name": "stderr",
     "output_type": "stream",
     "text": [
      "100%|██████████| 5000/5000 [43:06<00:00,  1.94it/s]\n"
     ]
    }
   ],
   "source": [
    "seqimg = []\n",
    "seqcmds = []\n",
    "for i in tqdm(range(5000)):\n",
    "    img, controls =  do_something(controller)\n",
    "    seqimg.append(img)\n",
    "    seqcmds.append(controls)\n",
    "    time.sleep(0.5)"
   ]
  },
  {
   "cell_type": "code",
   "execution_count": 7,
   "metadata": {},
   "outputs": [
    {
     "name": "stderr",
     "output_type": "stream",
     "text": [
      "100%|██████████| 1500/1500 [06:39<00:00,  3.76it/s]\n"
     ]
    }
   ],
   "source": [
    "for i in tqdm(range(1500)):\n",
    "    img, controls =  do_something(controller)\n",
    "    seqimg.append(img)\n",
    "    seqcmds.append(controls)\n",
    "    time.sleep(0.25)"
   ]
  },
  {
   "cell_type": "code",
   "execution_count": 8,
   "metadata": {},
   "outputs": [
    {
     "name": "stderr",
     "output_type": "stream",
     "text": [
      "100%|██████████| 500/500 [02:13<00:00,  3.76it/s]\n"
     ]
    }
   ],
   "source": [
    "for i in tqdm(range(500)):\n",
    "    img, controls =  do_something(controller)\n",
    "    seqimg.append(img)\n",
    "    seqcmds.append(controls)\n",
    "    time.sleep(0.25)"
   ]
  },
  {
   "cell_type": "markdown",
   "metadata": {},
   "source": [
    "Fim"
   ]
  },
  {
   "cell_type": "code",
   "execution_count": 11,
   "metadata": {},
   "outputs": [
    {
     "data": {
      "text/plain": [
       "<matplotlib.image.AxesImage at 0x7f8ab8d7af98>"
      ]
     },
     "execution_count": 11,
     "metadata": {},
     "output_type": "execute_result"
    },
    {
     "data": {
      "image/png": "[encoded data removed]",
      "text/plain": [
       "<Figure size 432x288 with 1 Axes>"
      ]
     },
     "metadata": {
      "needs_background": "light"
     },
     "output_type": "display_data"
    }
   ],
   "source": [
    "plt.imshow(seqimg[1002],cmap='gray', vmin=0, vmax=255)"
   ]
  },
  {
   "cell_type": "code",
   "execution_count": 12,
   "metadata": {},
   "outputs": [
    {
     "data": {
      "text/plain": [
       "<matplotlib.image.AxesImage at 0x7f8ab8c9b908>"
      ]
     },
     "execution_count": 12,
     "metadata": {},
     "output_type": "execute_result"
    },
    {
     "data": {
      "image/png": "[encoded data removed]",
      "text/plain": [
       "<Figure size 432x288 with 1 Axes>"
      ]
     },
     "metadata": {
      "needs_background": "light"
     },
     "output_type": "display_data"
    }
   ],
   "source": [
    "plt.imshow(seqimg[1000][21:39,64:136],cmap='gray', vmin=0, vmax=255)"
   ]
  },
  {
   "cell_type": "code",
   "execution_count": 13,
   "metadata": {},
   "outputs": [
    {
     "data": {
      "text/plain": [
       "[1, 0, 1, 0]"
      ]
     },
     "execution_count": 13,
     "metadata": {},
     "output_type": "execute_result"
    }
   ],
   "source": [
    "seqcmds[1002]"
   ]
  },
  {
   "cell_type": "code",
   "execution_count": 14,
   "metadata": {},
   "outputs": [],
   "source": [
    "with open('./img_new.pkl','wb') as f:\n",
    "    pickle.dump(seqimg, f)\n",
    "\n",
    "with open('./comando_new.pkl','wb') as f:\n",
    "    pickle.dump(seqcmds, f)"
   ]
  },
  {
   "cell_type": "markdown",
   "metadata": {},
   "source": [
    "# End of movement recording"
   ]
  },
  {
   "cell_type": "code",
   "execution_count": 15,
   "metadata": {},
   "outputs": [],
   "source": [
    "freio = pd.DataFrame(seqcmds,columns=['direcao','marcha','acelera','freio'])"
   ]
  },
  {
   "cell_type": "code",
   "execution_count": 16,
   "metadata": {},
   "outputs": [
    {
     "data": {
      "text/html": [
       "<div>\n",
       "<style scoped>\n",
       "    .dataframe tbody tr th:only-of-type {\n",
       "        vertical-align: middle;\n",
       "    }\n",
       "\n",
       "    .dataframe tbody tr th {\n",
       "        vertical-align: top;\n",
       "    }\n",
       "\n",
       "    .dataframe thead th {\n",
       "        text-align: right;\n",
       "    }\n",
       "</style>\n",
       "<table border=\"1\" class=\"dataframe\">\n",
       "  <thead>\n",
       "    <tr style=\"text-align: right;\">\n",
       "      <th></th>\n",
       "      <th>direcao</th>\n",
       "      <th>marcha</th>\n",
       "      <th>acelera</th>\n",
       "      <th>freio</th>\n",
       "    </tr>\n",
       "  </thead>\n",
       "  <tbody>\n",
       "    <tr>\n",
       "      <th>count</th>\n",
       "      <td>7000.000000</td>\n",
       "      <td>7000.000000</td>\n",
       "      <td>7000.000000</td>\n",
       "      <td>7000.000000</td>\n",
       "    </tr>\n",
       "    <tr>\n",
       "      <th>mean</th>\n",
       "      <td>-0.016857</td>\n",
       "      <td>0.014714</td>\n",
       "      <td>0.845857</td>\n",
       "      <td>0.022714</td>\n",
       "    </tr>\n",
       "    <tr>\n",
       "      <th>std</th>\n",
       "      <td>0.667453</td>\n",
       "      <td>0.136016</td>\n",
       "      <td>0.361111</td>\n",
       "      <td>0.149002</td>\n",
       "    </tr>\n",
       "    <tr>\n",
       "      <th>min</th>\n",
       "      <td>-1.000000</td>\n",
       "      <td>-1.000000</td>\n",
       "      <td>0.000000</td>\n",
       "      <td>0.000000</td>\n",
       "    </tr>\n",
       "    <tr>\n",
       "      <th>25%</th>\n",
       "      <td>0.000000</td>\n",
       "      <td>0.000000</td>\n",
       "      <td>1.000000</td>\n",
       "      <td>0.000000</td>\n",
       "    </tr>\n",
       "    <tr>\n",
       "      <th>50%</th>\n",
       "      <td>0.000000</td>\n",
       "      <td>0.000000</td>\n",
       "      <td>1.000000</td>\n",
       "      <td>0.000000</td>\n",
       "    </tr>\n",
       "    <tr>\n",
       "      <th>75%</th>\n",
       "      <td>0.000000</td>\n",
       "      <td>0.000000</td>\n",
       "      <td>1.000000</td>\n",
       "      <td>0.000000</td>\n",
       "    </tr>\n",
       "    <tr>\n",
       "      <th>max</th>\n",
       "      <td>1.000000</td>\n",
       "      <td>1.000000</td>\n",
       "      <td>1.000000</td>\n",
       "      <td>1.000000</td>\n",
       "    </tr>\n",
       "  </tbody>\n",
       "</table>\n",
       "</div>"
      ],
      "text/plain": [
       "           direcao       marcha      acelera        freio\n",
       "count  7000.000000  7000.000000  7000.000000  7000.000000\n",
       "mean     -0.016857     0.014714     0.845857     0.022714\n",
       "std       0.667453     0.136016     0.361111     0.149002\n",
       "min      -1.000000    -1.000000     0.000000     0.000000\n",
       "25%       0.000000     0.000000     1.000000     0.000000\n",
       "50%       0.000000     0.000000     1.000000     0.000000\n",
       "75%       0.000000     0.000000     1.000000     0.000000\n",
       "max       1.000000     1.000000     1.000000     1.000000"
      ]
     },
     "execution_count": 16,
     "metadata": {},
     "output_type": "execute_result"
    }
   ],
   "source": [
    "freio.describe()"
   ]
  },
  {
   "cell_type": "code",
   "execution_count": null,
   "metadata": {},
   "outputs": [],
   "source": []
  }
 ],
 "metadata": {
  "kernelspec": {
   "display_name": "Python 3",
   "language": "python",
   "name": "python3"
  },
  "language_info": {
   "codemirror_mode": {
    "name": "ipython",
    "version": 3
   },
   "file_extension": ".py",
   "mimetype": "text/x-python",
   "name": "python",
   "nbconvert_exporter": "python",
   "pygments_lexer": "ipython3",
   "version": "3.7.4"
  }
 },
 "nbformat": 4,
 "nbformat_minor": 4
}
