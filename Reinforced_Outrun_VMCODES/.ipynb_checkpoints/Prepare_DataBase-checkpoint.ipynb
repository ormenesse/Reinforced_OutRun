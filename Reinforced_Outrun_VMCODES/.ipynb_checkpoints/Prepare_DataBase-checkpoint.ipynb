{
 "cells": [
  {
   "cell_type": "code",
   "execution_count": 1,
   "metadata": {},
   "outputs": [
    {
     "name": "stdout",
     "output_type": "stream",
     "text": [
      "/home/ormenesse/Documents/Reinforced_Outrun\n"
     ]
    }
   ],
   "source": [
    "!pwd"
   ]
  },
  {
   "cell_type": "code",
   "execution_count": 2,
   "metadata": {},
   "outputs": [],
   "source": [
    "import numpy as np\n",
    "import pandas as pd\n",
    "from score_model import *\n",
    "from decision_model_functions import *\n",
    "from gameover_model import *"
   ]
  },
  {
   "cell_type": "code",
   "execution_count": 3,
   "metadata": {},
   "outputs": [],
   "source": [
    "score_model = generate_scoring_model()\n",
    "time_model = generate_time_model()\n",
    "model = generate_model()\n",
    "position_score_model = generate_position_model()"
   ]
  },
  {
   "cell_type": "code",
   "execution_count": 11,
   "metadata": {},
   "outputs": [],
   "source": [
    "def prepare_db(queue,epoch=1):\n",
    "    \n",
    "    score_model = generate_scoring_model()\n",
    "    position_score_model = generate_position_model()\n",
    "    \n",
    "    #Applying Q-Learning\n",
    "    # learning rate - in reinforcement learning, this is gamma\n",
    "    LR = 0.5 * (1 - ((epoch-1)/1000))\n",
    "    \n",
    "    if LR < 0.1:\n",
    "        LR = 0.1\n",
    "    \n",
    "    actions = []\n",
    "    frame_imgs = []\n",
    "    score = []\n",
    "    score_points = []\n",
    "    time = []\n",
    "    \n",
    "    print('Starting to organize data before training... Nº', 0, 'of', len(queue),'samples.', end='\\r')\n",
    "    for i in np.arange(5,len(queue)-5,1):\n",
    "        print('Starting to organize data before training... Nº', i, 'of', len(queue),'samples.', end='\\r')\n",
    "        frame_imgs.append(model_capture_return_images([j[0] for j in queue[i-5:i]]))\n",
    "        actions.append(queue[i][1])\n",
    "        # appending score\n",
    "        score_i = return_score(queue[i][0],score_model)\n",
    "        score_f = return_score(queue[i+5][0],score_model)\n",
    "        score_position = return_position_score(queue[i+5][0],position_score_model)\n",
    "        score.append(score_f-score_i)\n",
    "        score_points.append(score_f-score_i)\n",
    "        \n",
    "        time.append(queue[i+5][2]-queue[i][2])\n",
    "        # Q - Learning Happening Here\n",
    "        score[-1] = np.clip((score[-1]/1000) if (score[-1]/1000) > 100 else -0.5, -0.5, 1)+np.clip(1 if score_position[0] > 0.6 else 0,0,1)\n",
    "        \n",
    "    \n",
    "        print('\\n')\n",
    "        print('Learning Rate: '+str(LR)+'.\\n')\n",
    "        print('Sample has ' + str(len(queue)) + ' training samples.\\n')\n",
    "        print('Mean time between samples: '+ str(np.mean(time)) + ' sec.\\n')\n",
    "        print('Mean Score between samples: ' + str(np.mean(score)) + ' points.\\n')\n",
    "        print('Maximum Train Score: ' + str(return_score(queue[-1][0],score_model))+'.\\n')\n",
    "        print('Maximum Delta Score: ' + str(max(score)) + '.\\nMinimum Delta Score:' + str(min(score))+'.\\n')\n",
    "    \n",
    "    # pre trained model\n",
    "    frame_imgs = np.array(frame_imgs)\n",
    "    actions = np.array(actions)\n",
    "    \n",
    "    return frame_imgs, actions"
   ]
  },
  {
   "cell_type": "code",
   "execution_count": 12,
   "metadata": {},
   "outputs": [],
   "source": [
    "files = ['fila_treino_segundo_132_0_.pkl','fila_treino_segundo_601_0_.pkl','fila_treino_segundo_601_1_.pkl','fila_treino_segundo_601_2_.pkl','fila_treino_segundo_601_3_.pkl','fila_treino_segundo_601_4_.pkl','fila_treino_segundo_601_5_.pkl','fila_treino_segundo_601_6_.pkl','fila_treino_segundo_74_0_.pkl']"
   ]
  },
  {
   "cell_type": "code",
   "execution_count": 13,
   "metadata": {},
   "outputs": [
    {
     "name": "stdout",
     "output_type": "stream",
     "text": [
      "fila_treino_segundo_132_0_.pkl\n",
      "fila_treino_segundo_601_0_.pklre training... Nº 2351 of 2357 samples.110 of 2357 samples.samples. 1095 of 2357 samples. 1106 of 2357 samples. 2357 samples.1728 of 2357 samples. 2021 of 2357 samples.2357 samples.\n",
      "fila_treino_segundo_601_1_.pklre training... Nº 368 of 374 samples.6 of 374 samples. 72 of 374 samples. of 374 samples.\n",
      "fila_treino_segundo_601_2_.pklre training... Nº 2315 of 2321 samples.32 of 2321 samples.942 of 2321 samples.2321 samples.1213 of 2321 samples.1477 of 2321 samples.\n",
      "Starting to organize data before training... Nº 3571 of 3577 samples.73 of 3577 samples.242 of 3577 samples.1125 of 3577 samples. 1265 of 3577 samples.1344 of 3577 samples. samples. 3577 samples. 1761 of 3577 samples.samples. 2312 of 3577 samples. samples. 3078 of 3577 samples.3577 samples.\r"
     ]
    },
    {
     "ename": "MemoryError",
     "evalue": "Unable to allocate array with shape (3567, 220, 320, 5) and data type uint8",
     "output_type": "error",
     "traceback": [
      "\u001b[0;31m---------------------------------------------------------------------------\u001b[0m",
      "\u001b[0;31mMemoryError\u001b[0m                               Traceback (most recent call last)",
      "\u001b[0;32m<ipython-input-13-15162633a666>\u001b[0m in \u001b[0;36m<module>\u001b[0;34m\u001b[0m\n\u001b[1;32m      4\u001b[0m     \u001b[0mprint\u001b[0m\u001b[0;34m(\u001b[0m\u001b[0mfile\u001b[0m\u001b[0;34m)\u001b[0m\u001b[0;34m\u001b[0m\u001b[0;34m\u001b[0m\u001b[0m\n\u001b[1;32m      5\u001b[0m     \u001b[0mqueue\u001b[0m \u001b[0;34m=\u001b[0m \u001b[0mload_file\u001b[0m\u001b[0;34m(\u001b[0m\u001b[0;34m'./ANALYSE_DATA/'\u001b[0m\u001b[0;34m+\u001b[0m\u001b[0mfile\u001b[0m\u001b[0;34m)\u001b[0m\u001b[0;34m\u001b[0m\u001b[0;34m\u001b[0m\u001b[0m\n\u001b[0;32m----> 6\u001b[0;31m     \u001b[0mf\u001b[0m\u001b[0;34m,\u001b[0m \u001b[0ma\u001b[0m \u001b[0;34m=\u001b[0m \u001b[0mprepare_db\u001b[0m\u001b[0;34m(\u001b[0m\u001b[0mqueue\u001b[0m\u001b[0;34m)\u001b[0m\u001b[0;34m\u001b[0m\u001b[0;34m\u001b[0m\u001b[0m\n\u001b[0m\u001b[1;32m      7\u001b[0m     \u001b[0mframe_imgs\u001b[0m\u001b[0;34m.\u001b[0m\u001b[0mappend\u001b[0m\u001b[0;34m(\u001b[0m\u001b[0mf\u001b[0m\u001b[0;34m)\u001b[0m\u001b[0;34m\u001b[0m\u001b[0;34m\u001b[0m\u001b[0m\n\u001b[1;32m      8\u001b[0m     \u001b[0mactions\u001b[0m\u001b[0;34m.\u001b[0m\u001b[0mappend\u001b[0m\u001b[0;34m(\u001b[0m\u001b[0ma\u001b[0m\u001b[0;34m)\u001b[0m\u001b[0;34m\u001b[0m\u001b[0;34m\u001b[0m\u001b[0m\n",
      "\u001b[0;32m<ipython-input-11-abc38e0ec91e>\u001b[0m in \u001b[0;36mprepare_db\u001b[0;34m(queue, epoch)\u001b[0m\n\u001b[1;32m     42\u001b[0m \u001b[0;34m\u001b[0m\u001b[0m\n\u001b[1;32m     43\u001b[0m     \u001b[0;31m# pre trained model\u001b[0m\u001b[0;34m\u001b[0m\u001b[0;34m\u001b[0m\u001b[0;34m\u001b[0m\u001b[0m\n\u001b[0;32m---> 44\u001b[0;31m     \u001b[0mframe_imgs\u001b[0m \u001b[0;34m=\u001b[0m \u001b[0mnp\u001b[0m\u001b[0;34m.\u001b[0m\u001b[0marray\u001b[0m\u001b[0;34m(\u001b[0m\u001b[0mframe_imgs\u001b[0m\u001b[0;34m)\u001b[0m\u001b[0;34m\u001b[0m\u001b[0;34m\u001b[0m\u001b[0m\n\u001b[0m\u001b[1;32m     45\u001b[0m     \u001b[0mactions\u001b[0m \u001b[0;34m=\u001b[0m \u001b[0mnp\u001b[0m\u001b[0;34m.\u001b[0m\u001b[0marray\u001b[0m\u001b[0;34m(\u001b[0m\u001b[0mactions\u001b[0m\u001b[0;34m)\u001b[0m\u001b[0;34m\u001b[0m\u001b[0;34m\u001b[0m\u001b[0m\n\u001b[1;32m     46\u001b[0m \u001b[0;34m\u001b[0m\u001b[0m\n",
      "\u001b[0;31mMemoryError\u001b[0m: Unable to allocate array with shape (3567, 220, 320, 5) and data type uint8"
     ]
    }
   ],
   "source": [
    "frame_imgs = []\n",
    "actions = []\n",
    "for file in files:\n",
    "    print(file)\n",
    "    queue = load_file('./ANALYSE_DATA/'+file)\n",
    "    f, a = prepare_db(queue)\n",
    "    frame_imgs.append(f)\n",
    "    actions.append(a)"
   ]
  },
  {
   "cell_type": "code",
   "execution_count": null,
   "metadata": {},
   "outputs": [],
   "source": []
  }
 ],
 "metadata": {
  "kernelspec": {
   "display_name": "Python 3",
   "language": "python",
   "name": "python3"
  },
  "language_info": {
   "codemirror_mode": {
    "name": "ipython",
    "version": 3
   },
   "file_extension": ".py",
   "mimetype": "text/x-python",
   "name": "python",
   "nbconvert_exporter": "python",
   "pygments_lexer": "ipython3",
   "version": "3.7.4"
  }
 },
 "nbformat": 4,
 "nbformat_minor": 4
}
