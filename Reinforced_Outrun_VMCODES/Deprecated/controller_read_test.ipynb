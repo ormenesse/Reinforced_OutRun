{
 "cells": [
  {
   "cell_type": "code",
   "execution_count": 1,
   "metadata": {},
   "outputs": [],
   "source": [
    "###########################\n",
    "# LOADING EVDEV LIBRARIES #\n",
    "###########################\n",
    "import asyncio\n",
    "import evdev\n",
    "from evdev import list_devices, InputDevice, InputEvent, categorize, ecodes, UInput\n",
    "import evdev\n",
    "\n",
    "##################################\n",
    "# LOADING              LIBRARIES #\n",
    "##################################\n",
    "import threading\n",
    "import numpy as np\n",
    "import pandas as pd\n",
    "import seaborn as sns\n",
    "import matplotlib.pyplot as plt\n",
    "from PIL import Image\n",
    "import mss\n",
    "import sched, time\n",
    "import cv2\n",
    "import pickle\n",
    "from multiprocessing import Process, Manager\n",
    "from multiprocessing.managers import BaseManager\n",
    "import time\n",
    "\n",
    "\n",
    "def replicate(source_device, target_device):\n",
    "    for event in source_device.async_read_loop():\n",
    "        #print('Man Generated Event',event)\n",
    "        target_device.write_event(event)"
   ]
  },
  {
   "cell_type": "code",
   "execution_count": 2,
   "metadata": {},
   "outputs": [],
   "source": [
    "button_names = {\n",
    "    0x120 : 'trigger',\n",
    "    0x121 : 'thumb',\n",
    "    0x122 : 'thumb2',\n",
    "    0x123 : 'top',\n",
    "    0x124 : 'top2',\n",
    "    0x125 : 'pinkie',\n",
    "    0x126 : 'base',\n",
    "    0x127 : 'base2',\n",
    "    0x128 : 'base3',\n",
    "    0x129 : 'base4',\n",
    "    0x12a : 'base5',\n",
    "    0x12b : 'base6',\n",
    "    0x12f : 'dead',\n",
    "    0x130 : 'a',\n",
    "    0x131 : 'b',\n",
    "    0x132 : 'c',\n",
    "    0x133 : 'x',\n",
    "    0x134 : 'y',\n",
    "    0x135 : 'z',\n",
    "    0x136 : 'tl',\n",
    "    0x137 : 'tr',\n",
    "    0x138 : 'tl2',\n",
    "    0x139 : 'tr2',\n",
    "    0x13a : 'select',\n",
    "    0x13b : 'start',\n",
    "    0x13c : 'mode',\n",
    "    0x13d : 'thumbl',\n",
    "    0x13e : 'thumbr',\n",
    "\n",
    "    0x220 : 'dpad_up',\n",
    "    0x221 : 'dpad_down',\n",
    "    0x222 : 'dpad_left',\n",
    "    0x223 : 'dpad_right',\n",
    "\n",
    "    # XBox 360 controller uses these codes.\n",
    "    0x2c0 : 'dpad_left',\n",
    "    0x2c1 : 'dpad_right',\n",
    "    0x2c2 : 'dpad_up',\n",
    "    0x2c3 : 'dpad_down',\n",
    "}"
   ]
  },
  {
   "cell_type": "code",
   "execution_count": 3,
   "metadata": {},
   "outputs": [
    {
     "name": "stdout",
     "output_type": "stream",
     "text": [
      "Will Inject on device: /dev/input/event5\n"
     ]
    }
   ],
   "source": [
    "\"\"\"\n",
    "HOOK GAMEPAD.\n",
    "\"\"\"\n",
    "# Listen to events from the following device.\n",
    "print('Will Inject on device:',list_devices()[0])\n",
    "dev = InputDevice( list_devices()[0] )\n",
    "\n",
    "# Then create our own devices for our own events.\n",
    "# (It is possible to write events directly to the original device, but that has caused me mysterious problems in the past.)\n",
    "virtual_gamepad = UInput.from_device(dev, name=\"Microsoft X-Box 360 pad\")\n",
    "\n",
    "# Now we monopolize the original devices.\n",
    "dev.grab()\n",
    "\n",
    "    #controller.\n",
    "monitor_thread = threading.Thread(target=replicate, args=(dev, virtual_gamepad))\n",
    "monitor_thread.daemon = True\n",
    "monitor_thread.start()"
   ]
  },
  {
   "cell_type": "code",
   "execution_count": 1,
   "metadata": {},
   "outputs": [],
   "source": [
    "from XboxController import *"
   ]
  },
  {
   "cell_type": "code",
   "execution_count": 2,
   "metadata": {},
   "outputs": [],
   "source": [
    "controller = XboxController()"
   ]
  },
  {
   "cell_type": "code",
   "execution_count": 14,
   "metadata": {},
   "outputs": [
    {
     "data": {
      "text/plain": [
       "[0, 0, 1, 0, 0]"
      ]
     },
     "execution_count": 14,
     "metadata": {},
     "output_type": "execute_result"
    }
   ],
   "source": [
    "controller.read()"
   ]
  },
  {
   "cell_type": "code",
   "execution_count": null,
   "metadata": {},
   "outputs": [],
   "source": [
    "get_gamepad()"
   ]
  }
 ],
 "metadata": {
  "kernelspec": {
   "display_name": "Python 3",
   "language": "python",
   "name": "python3"
  },
  "language_info": {
   "codemirror_mode": {
    "name": "ipython",
    "version": 3
   },
   "file_extension": ".py",
   "mimetype": "text/x-python",
   "name": "python",
   "nbconvert_exporter": "python",
   "pygments_lexer": "ipython3",
   "version": "3.7.4"
  }
 },
 "nbformat": 4,
 "nbformat_minor": 4
}
