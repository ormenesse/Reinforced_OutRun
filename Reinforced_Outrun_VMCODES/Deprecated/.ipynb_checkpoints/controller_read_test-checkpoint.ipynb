{
 "cells": [
  {
   "cell_type": "code",
   "execution_count": 1,
   "metadata": {},
   "outputs": [],
   "source": [
    "###########################\n",
    "# LOADING EVDEV LIBRARIES #\n",
    "###########################\n",
    "import asyncio\n",
    "import evdev\n",
    "from evdev import list_devices, InputDevice, InputEvent, categorize, ecodes, UInput\n",
    "import evdev\n",
    "\n",
    "##################################\n",
    "# LOADING              LIBRARIES #\n",
    "##################################\n",
    "import threading\n",
    "import numpy as np\n",
    "import pandas as pd\n",
    "import seaborn as sns\n",
    "import matplotlib.pyplot as plt\n",
    "from PIL import Image\n",
    "import mss\n",
    "import sched, time\n",
    "import cv2\n",
    "import pickle\n",
    "from multiprocessing import Process, Manager\n",
    "from multiprocessing.managers import BaseManager\n",
    "import time\n",
    "\n",
    "\n",
    "def replicate(source_device, target_device):\n",
    "    for event in source_device.async_read_loop():\n",
    "        #print('Man Generated Event',event)\n",
    "        target_device.write_event(event)"
   ]
  },
  {
   "cell_type": "code",
   "execution_count": 2,
   "metadata": {},
   "outputs": [
    {
     "name": "stdout",
     "output_type": "stream",
     "text": [
      "Will Inject on device: /dev/input/event5\n"
     ]
    }
   ],
   "source": [
    "\"\"\"\n",
    "HOOK GAMEPAD.\n",
    "\"\"\"\n",
    "# Listen to events from the following device.\n",
    "print('Will Inject on device:',list_devices()[0])\n",
    "dev = InputDevice( list_devices()[0] )\n",
    "\n",
    "# Then create our own devices for our own events.\n",
    "# (It is possible to write events directly to the original device, but that has caused me mysterious problems in the past.)\n",
    "virtual_gamepad = UInput.from_device(dev, name=\"Microsoft X-Box 360 pad\")\n",
    "\n",
    "# Now we monopolize the original devices.\n",
    "dev.grab()\n",
    "\n",
    "    #controller.\n",
    "monitor_thread = threading.Thread(target=replicate, args=(dev, virtual_gamepad))\n",
    "monitor_thread.daemon = True\n",
    "monitor_thread.start()"
   ]
  },
  {
   "cell_type": "code",
   "execution_count": 7,
   "metadata": {},
   "outputs": [],
   "source": [
    "read = virtual_gamepad.read()"
   ]
  },
  {
   "cell_type": "code",
   "execution_count": 12,
   "metadata": {},
   "outputs": [],
   "source": [
    "from XboxController import *"
   ]
  },
  {
   "cell_type": "code",
   "execution_count": 13,
   "metadata": {},
   "outputs": [],
   "source": [
    "controller = XboxController()"
   ]
  },
  {
   "cell_type": "code",
   "execution_count": 43,
   "metadata": {},
   "outputs": [
    {
     "data": {
      "text/plain": [
       "[0, 0, 0, 0, 0]"
      ]
     },
     "execution_count": 43,
     "metadata": {},
     "output_type": "execute_result"
    }
   ],
   "source": [
    "controller.read()"
   ]
  },
  {
   "cell_type": "code",
   "execution_count": null,
   "metadata": {},
   "outputs": [],
   "source": [
    "get_gamepad()"
   ]
  }
 ],
 "metadata": {
  "kernelspec": {
   "display_name": "Python 3",
   "language": "python",
   "name": "python3"
  },
  "language_info": {
   "codemirror_mode": {
    "name": "ipython",
    "version": 3
   },
   "file_extension": ".py",
   "mimetype": "text/x-python",
   "name": "python",
   "nbconvert_exporter": "python",
   "pygments_lexer": "ipython3",
   "version": "3.7.4"
  }
 },
 "nbformat": 4,
 "nbformat_minor": 4
}
