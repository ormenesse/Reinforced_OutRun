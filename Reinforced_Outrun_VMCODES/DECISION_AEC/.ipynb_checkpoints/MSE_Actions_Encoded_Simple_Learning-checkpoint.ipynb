{
  "nbformat": 4,
  "nbformat_minor": 0,
  "metadata": {
    "accelerator": "GPU",
    "colab": {
      "name": "MSE_Actions Encoded Simple_Learning.ipynb",
      "provenance": [],
      "collapsed_sections": [],
      "machine_shape": "hm"
    },
    "kernelspec": {
      "display_name": "Python 3",
      "language": "python",
      "name": "python3"
    },
    "language_info": {
      "codemirror_mode": {
        "name": "ipython",
        "version": 3
      },
      "file_extension": ".py",
      "mimetype": "text/x-python",
      "name": "python",
      "nbconvert_exporter": "python",
      "pygments_lexer": "ipython3",
      "version": "3.7.3"
    }
  },
  "cells": [
    {
      "cell_type": "code",
      "metadata": {
        "colab_type": "code",
        "id": "cIrIh4JntiUo",
        "colab": {}
      },
      "source": [
        "import pandas as pd\n",
        "import numpy as np\n",
        "import cv2\n",
        "import pickle"
      ],
      "execution_count": 0,
      "outputs": []
    },
    {
      "cell_type": "code",
      "metadata": {
        "id": "om_f8ZhGqg_w",
        "colab_type": "code",
        "outputId": "90fc35df-4b0c-41ea-b65f-5d81d16d13f6",
        "colab": {
          "base_uri": "https://localhost:8080/",
          "height": 17
        }
      },
      "source": [
        "from IPython.core.display import display, HTML\n",
        "display(HTML(\"<style>.container { width:100% !important; }</style>\"))"
      ],
      "execution_count": 2,
      "outputs": [
        {
          "output_type": "display_data",
          "data": {
            "text/html": [
              "<style>.container { width:100% !important; }</style>"
            ],
            "text/plain": [
              "<IPython.core.display.HTML object>"
            ]
          },
          "metadata": {
            "tags": []
          }
        }
      ]
    },
    {
      "cell_type": "code",
      "metadata": {
        "id": "CKdfujxnqg_6",
        "colab_type": "code",
        "colab": {}
      },
      "source": [
        "import matplotlib.pyplot as plt"
      ],
      "execution_count": 0,
      "outputs": []
    },
    {
      "cell_type": "code",
      "metadata": {
        "id": "jlFXB9NhqhAD",
        "colab_type": "code",
        "outputId": "6e735086-c2e0-4b44-afdf-fba5775d3b83",
        "colab": {
          "base_uri": "https://localhost:8080/",
          "height": 51
        }
      },
      "source": [
        "import seaborn as sns\n",
        "import gc"
      ],
      "execution_count": 4,
      "outputs": [
        {
          "output_type": "stream",
          "text": [
            "/usr/local/lib/python3.6/dist-packages/statsmodels/tools/_testing.py:19: FutureWarning: pandas.util.testing is deprecated. Use the functions in the public API at pandas.testing instead.\n",
            "  import pandas.util.testing as tm\n"
          ],
          "name": "stderr"
        }
      ]
    },
    {
      "cell_type": "code",
      "metadata": {
        "id": "fU1TpubVqhAL",
        "colab_type": "code",
        "colab": {}
      },
      "source": [
        "from sklearn.metrics import confusion_matrix\n",
        "from sklearn.metrics import accuracy_score\n",
        "from sklearn.metrics import roc_auc_score\n",
        "from sklearn.model_selection import GridSearchCV\n",
        "from sklearn.metrics import matthews_corrcoef\n",
        "from sklearn.metrics import roc_curve"
      ],
      "execution_count": 0,
      "outputs": []
    },
    {
      "cell_type": "code",
      "metadata": {
        "id": "xHDI9L9wqhAR",
        "colab_type": "code",
        "colab": {}
      },
      "source": [
        "import warnings\n",
        "warnings.filterwarnings(\"ignore\")"
      ],
      "execution_count": 0,
      "outputs": []
    },
    {
      "cell_type": "code",
      "metadata": {
        "colab_type": "code",
        "id": "dsUuavMntuo3",
        "outputId": "916f0a4e-371c-48f2-b2ac-ecd79b3b18e7",
        "colab": {
          "base_uri": "https://localhost:8080/",
          "height": 34
        }
      },
      "source": [
        "from time import time\n",
        "import keras\n",
        "import keras.backend as K\n",
        "from keras import metrics\n",
        "from keras.engine.topology import Layer, InputSpec\n",
        "from keras.layers import Dense, Input, Conv1D, Conv2D, MaxPooling1D, MaxPooling2D, Lambda\n",
        "from keras.models import Model\n",
        "from keras.optimizers import SGD\n",
        "from keras import callbacks\n",
        "from keras.initializers import VarianceScaling\n",
        "from keras.layers.normalization import BatchNormalization\n",
        "from keras.models import Sequential, Model\n",
        "from keras.layers import Dense, Activation, Dropout, Concatenate, Flatten, Reshape\n",
        "from keras.callbacks import EarlyStopping, ModelCheckpoint,ReduceLROnPlateau\n",
        "from keras.metrics import binary_accuracy"
      ],
      "execution_count": 7,
      "outputs": [
        {
          "output_type": "stream",
          "text": [
            "Using TensorFlow backend.\n"
          ],
          "name": "stderr"
        }
      ]
    },
    {
      "cell_type": "code",
      "metadata": {
        "id": "v57hN8j0zXz6",
        "colab_type": "code",
        "colab": {}
      },
      "source": [
        "import tensorflow as tf"
      ],
      "execution_count": 0,
      "outputs": []
    },
    {
      "cell_type": "code",
      "metadata": {
        "colab_type": "code",
        "id": "DvoTuxwOUIlu",
        "colab": {}
      },
      "source": [
        "def load_file(nome_arquivo):\n",
        "    with open(nome_arquivo, 'rb') as input:\n",
        "        objeto = pickle.load(input)\n",
        "    return objeto"
      ],
      "execution_count": 0,
      "outputs": []
    },
    {
      "cell_type": "code",
      "metadata": {
        "colab_type": "code",
        "id": "2xC2rwiFTqlw",
        "outputId": "0c9753a3-dfb4-4b7e-a854-fe4eb246e526",
        "colab": {
          "base_uri": "https://localhost:8080/",
          "height": 122
        }
      },
      "source": [
        "from google.colab import drive\n",
        "drive.mount('/content/drive')"
      ],
      "execution_count": 10,
      "outputs": [
        {
          "output_type": "stream",
          "text": [
            "Go to this URL in a browser: https://accounts.google.com/o/oauth2/auth?client_id=947318989803-6bn6qk8qdgf4n4g3pfee6491hc0brc4i.apps.googleusercontent.com&redirect_uri=urn%3aietf%3awg%3aoauth%3a2.0%3aoob&response_type=code&scope=email%20https%3a%2f%2fwww.googleapis.com%2fauth%2fdocs.test%20https%3a%2f%2fwww.googleapis.com%2fauth%2fdrive%20https%3a%2f%2fwww.googleapis.com%2fauth%2fdrive.photos.readonly%20https%3a%2f%2fwww.googleapis.com%2fauth%2fpeopleapi.readonly\n",
            "\n",
            "Enter your authorization code:\n",
            "··········\n",
            "Mounted at /content/drive\n"
          ],
          "name": "stdout"
        }
      ]
    },
    {
      "cell_type": "code",
      "metadata": {
        "colab_type": "code",
        "id": "qexfW-GZVCFu",
        "colab": {}
      },
      "source": [
        "#comandos = pd.concat([pd.DataFrame(load_file('/content/drive/My Drive/Colab Notebooks/comando_new.pkl')),\\\n",
        "#          pd.DataFrame(load_file('/content/drive/My Drive/Colab Notebooks/img_new.pkl'))],\\\n",
        "#          axis=0)\n",
        "comandos = pd.DataFrame(load_file('/content/drive/My Drive/Colab Notebooks/comando_new.pkl'))"
      ],
      "execution_count": 0,
      "outputs": []
    },
    {
      "cell_type": "code",
      "metadata": {
        "colab_type": "code",
        "id": "iInCQ3h0YNRR",
        "outputId": "15b9152c-8f12-48a0-88e0-2746cd2f9ede",
        "colab": {
          "base_uri": "https://localhost:8080/",
          "height": 297
        }
      },
      "source": [
        "comandos.describe()"
      ],
      "execution_count": 12,
      "outputs": [
        {
          "output_type": "execute_result",
          "data": {
            "text/html": [
              "<div>\n",
              "<style scoped>\n",
              "    .dataframe tbody tr th:only-of-type {\n",
              "        vertical-align: middle;\n",
              "    }\n",
              "\n",
              "    .dataframe tbody tr th {\n",
              "        vertical-align: top;\n",
              "    }\n",
              "\n",
              "    .dataframe thead th {\n",
              "        text-align: right;\n",
              "    }\n",
              "</style>\n",
              "<table border=\"1\" class=\"dataframe\">\n",
              "  <thead>\n",
              "    <tr style=\"text-align: right;\">\n",
              "      <th></th>\n",
              "      <th>0</th>\n",
              "      <th>1</th>\n",
              "      <th>2</th>\n",
              "      <th>3</th>\n",
              "    </tr>\n",
              "  </thead>\n",
              "  <tbody>\n",
              "    <tr>\n",
              "      <th>count</th>\n",
              "      <td>3402.000000</td>\n",
              "      <td>3402.000000</td>\n",
              "      <td>3402.000000</td>\n",
              "      <td>3402.000000</td>\n",
              "    </tr>\n",
              "    <tr>\n",
              "      <th>mean</th>\n",
              "      <td>-0.002646</td>\n",
              "      <td>0.000294</td>\n",
              "      <td>0.235156</td>\n",
              "      <td>0.013521</td>\n",
              "    </tr>\n",
              "    <tr>\n",
              "      <th>std</th>\n",
              "      <td>0.359267</td>\n",
              "      <td>0.038341</td>\n",
              "      <td>0.424158</td>\n",
              "      <td>0.115510</td>\n",
              "    </tr>\n",
              "    <tr>\n",
              "      <th>min</th>\n",
              "      <td>-1.000000</td>\n",
              "      <td>-1.000000</td>\n",
              "      <td>0.000000</td>\n",
              "      <td>0.000000</td>\n",
              "    </tr>\n",
              "    <tr>\n",
              "      <th>25%</th>\n",
              "      <td>0.000000</td>\n",
              "      <td>0.000000</td>\n",
              "      <td>0.000000</td>\n",
              "      <td>0.000000</td>\n",
              "    </tr>\n",
              "    <tr>\n",
              "      <th>50%</th>\n",
              "      <td>0.000000</td>\n",
              "      <td>0.000000</td>\n",
              "      <td>0.000000</td>\n",
              "      <td>0.000000</td>\n",
              "    </tr>\n",
              "    <tr>\n",
              "      <th>75%</th>\n",
              "      <td>0.000000</td>\n",
              "      <td>0.000000</td>\n",
              "      <td>0.000000</td>\n",
              "      <td>0.000000</td>\n",
              "    </tr>\n",
              "    <tr>\n",
              "      <th>max</th>\n",
              "      <td>1.000000</td>\n",
              "      <td>1.000000</td>\n",
              "      <td>1.000000</td>\n",
              "      <td>1.000000</td>\n",
              "    </tr>\n",
              "  </tbody>\n",
              "</table>\n",
              "</div>"
            ],
            "text/plain": [
              "                 0            1            2            3\n",
              "count  3402.000000  3402.000000  3402.000000  3402.000000\n",
              "mean     -0.002646     0.000294     0.235156     0.013521\n",
              "std       0.359267     0.038341     0.424158     0.115510\n",
              "min      -1.000000    -1.000000     0.000000     0.000000\n",
              "25%       0.000000     0.000000     0.000000     0.000000\n",
              "50%       0.000000     0.000000     0.000000     0.000000\n",
              "75%       0.000000     0.000000     0.000000     0.000000\n",
              "max       1.000000     1.000000     1.000000     1.000000"
            ]
          },
          "metadata": {
            "tags": []
          },
          "execution_count": 12
        }
      ]
    },
    {
      "cell_type": "code",
      "metadata": {
        "colab_type": "code",
        "id": "tCyCGuVPXdQx",
        "colab": {}
      },
      "source": [
        "comandos['direita'] = comandos[0].map(lambda x: 1 if x == 1 else 0)\n",
        "comandos['esquerda'] = comandos[0].map(lambda x: 1 if x == -1 else 0)\n",
        "comandos['baixo'] = comandos[1].map(lambda x: 1 if x == 1 else 0)\n",
        "comandos['cima'] = comandos[1].map(lambda x: 1 if x == -1 else 0)"
      ],
      "execution_count": 0,
      "outputs": []
    },
    {
      "cell_type": "code",
      "metadata": {
        "colab_type": "code",
        "id": "QuSH4oR0Y0XH",
        "colab": {}
      },
      "source": [
        "comandos = comandos[[2,3,'direita','esquerda','cima','baixo']].rename(index=str, columns={2:'acelera',3:'freia'})"
      ],
      "execution_count": 0,
      "outputs": []
    },
    {
      "cell_type": "code",
      "metadata": {
        "colab_type": "code",
        "id": "2n2GzrXvVr8C",
        "colab": {}
      },
      "source": [
        "\"\"\"\n",
        "imagens = []\n",
        "for img in load_file('/content/drive/My Drive/Colab Notebooks/img.pkl'):\n",
        "  imagens.append(cv2.cvtColor(img, cv2.COLOR_BGR2GRAY)/255)\n",
        "for img in load_file('/content/drive/My Drive/Colab Notebooks/img2.pkl'):\n",
        "  imagens.append(cv2.cvtColor(img, cv2.COLOR_BGR2GRAY)/255)\n",
        "\"\"\"\n",
        "imagens = load_file('/content/drive/My Drive/Colab Notebooks/img_new.pkl')"
      ],
      "execution_count": 0,
      "outputs": []
    },
    {
      "cell_type": "code",
      "metadata": {
        "id": "F5wEbjttR50M",
        "colab_type": "code",
        "outputId": "3e689cf4-cf73-49dc-e509-073f35f75ef0",
        "colab": {
          "base_uri": "https://localhost:8080/",
          "height": 34
        }
      },
      "source": [
        "len(imagens)"
      ],
      "execution_count": 16,
      "outputs": [
        {
          "output_type": "execute_result",
          "data": {
            "text/plain": [
              "3402"
            ]
          },
          "metadata": {
            "tags": []
          },
          "execution_count": 16
        }
      ]
    },
    {
      "cell_type": "code",
      "metadata": {
        "id": "tZulTgmESOlu",
        "colab_type": "code",
        "colab": {}
      },
      "source": [
        "imagens = np.array(imagens).astype(np.uint8)"
      ],
      "execution_count": 0,
      "outputs": []
    },
    {
      "cell_type": "code",
      "metadata": {
        "id": "XW_bkxLBSSRU",
        "colab_type": "code",
        "outputId": "3322d9b5-a2f8-422e-b283-37a8503e01b4",
        "colab": {
          "base_uri": "https://localhost:8080/",
          "height": 34
        }
      },
      "source": [
        "imagens.shape"
      ],
      "execution_count": 18,
      "outputs": [
        {
          "output_type": "execute_result",
          "data": {
            "text/plain": [
              "(3402, 3, 220, 320)"
            ]
          },
          "metadata": {
            "tags": []
          },
          "execution_count": 18
        }
      ]
    },
    {
      "cell_type": "code",
      "metadata": {
        "colab_type": "code",
        "id": "LLDJCLcWW6v2",
        "colab": {}
      },
      "source": [
        "imagens =  np.swapaxes(imagens,1,2)\n",
        "imagens =  np.swapaxes(imagens,2,3)"
      ],
      "execution_count": 0,
      "outputs": []
    },
    {
      "cell_type": "code",
      "metadata": {
        "id": "FaBf3RY1gZ-i",
        "colab_type": "code",
        "outputId": "cf904c4d-7877-4471-d944-7dfaa5667bf9",
        "colab": {
          "base_uri": "https://localhost:8080/",
          "height": 34
        }
      },
      "source": [
        "imagens.shape"
      ],
      "execution_count": 20,
      "outputs": [
        {
          "output_type": "execute_result",
          "data": {
            "text/plain": [
              "(3402, 220, 320, 3)"
            ]
          },
          "metadata": {
            "tags": []
          },
          "execution_count": 20
        }
      ]
    },
    {
      "cell_type": "markdown",
      "metadata": {
        "id": "qTl9pdbnQgMp",
        "colab_type": "text"
      },
      "source": [
        "Arrumando Comandos\n"
      ]
    },
    {
      "cell_type": "code",
      "metadata": {
        "id": "UjizTyrlr2a5",
        "colab_type": "code",
        "colab": {}
      },
      "source": [
        "com = 100000*comandos['acelera']+10000*comandos['freia']+1000*comandos['direita']+100*comandos['esquerda']+10*comandos['cima']+comandos['baixo']"
      ],
      "execution_count": 0,
      "outputs": []
    },
    {
      "cell_type": "code",
      "metadata": {
        "id": "i8OPX8NLPfjX",
        "colab_type": "code",
        "colab": {}
      },
      "source": [
        "com = pd.get_dummies(com)"
      ],
      "execution_count": 0,
      "outputs": []
    },
    {
      "cell_type": "code",
      "metadata": {
        "id": "wRjDJHY0xY9K",
        "colab_type": "code",
        "outputId": "2e01f7b4-3046-4fba-e8a7-ff6ee1c777ac",
        "colab": {
          "base_uri": "https://localhost:8080/",
          "height": 297
        }
      },
      "source": [
        "com.describe()"
      ],
      "execution_count": 23,
      "outputs": [
        {
          "output_type": "execute_result",
          "data": {
            "text/html": [
              "<div>\n",
              "<style scoped>\n",
              "    .dataframe tbody tr th:only-of-type {\n",
              "        vertical-align: middle;\n",
              "    }\n",
              "\n",
              "    .dataframe tbody tr th {\n",
              "        vertical-align: top;\n",
              "    }\n",
              "\n",
              "    .dataframe thead th {\n",
              "        text-align: right;\n",
              "    }\n",
              "</style>\n",
              "<table border=\"1\" class=\"dataframe\">\n",
              "  <thead>\n",
              "    <tr style=\"text-align: right;\">\n",
              "      <th></th>\n",
              "      <th>0</th>\n",
              "      <th>100</th>\n",
              "      <th>1000</th>\n",
              "      <th>10100</th>\n",
              "      <th>11000</th>\n",
              "      <th>100000</th>\n",
              "      <th>100001</th>\n",
              "      <th>100010</th>\n",
              "      <th>100100</th>\n",
              "      <th>101000</th>\n",
              "      <th>101001</th>\n",
              "      <th>101010</th>\n",
              "      <th>110100</th>\n",
              "      <th>111000</th>\n",
              "    </tr>\n",
              "  </thead>\n",
              "  <tbody>\n",
              "    <tr>\n",
              "      <th>count</th>\n",
              "      <td>3402.000000</td>\n",
              "      <td>3402.000000</td>\n",
              "      <td>3402.000000</td>\n",
              "      <td>3402.000000</td>\n",
              "      <td>3402.000000</td>\n",
              "      <td>3402.000000</td>\n",
              "      <td>3402.000000</td>\n",
              "      <td>3402.000000</td>\n",
              "      <td>3402.000000</td>\n",
              "      <td>3402.000000</td>\n",
              "      <td>3402.000000</td>\n",
              "      <td>3402.000000</td>\n",
              "      <td>3402.000000</td>\n",
              "      <td>3402.000000</td>\n",
              "    </tr>\n",
              "    <tr>\n",
              "      <th>mean</th>\n",
              "      <td>0.750441</td>\n",
              "      <td>0.003233</td>\n",
              "      <td>0.004997</td>\n",
              "      <td>0.002352</td>\n",
              "      <td>0.003821</td>\n",
              "      <td>0.119636</td>\n",
              "      <td>0.000588</td>\n",
              "      <td>0.000294</td>\n",
              "      <td>0.057025</td>\n",
              "      <td>0.049677</td>\n",
              "      <td>0.000294</td>\n",
              "      <td>0.000294</td>\n",
              "      <td>0.003233</td>\n",
              "      <td>0.004115</td>\n",
              "    </tr>\n",
              "    <tr>\n",
              "      <th>std</th>\n",
              "      <td>0.432821</td>\n",
              "      <td>0.056779</td>\n",
              "      <td>0.070523</td>\n",
              "      <td>0.048443</td>\n",
              "      <td>0.061707</td>\n",
              "      <td>0.324583</td>\n",
              "      <td>0.024243</td>\n",
              "      <td>0.017145</td>\n",
              "      <td>0.231925</td>\n",
              "      <td>0.217308</td>\n",
              "      <td>0.017145</td>\n",
              "      <td>0.017145</td>\n",
              "      <td>0.056779</td>\n",
              "      <td>0.064027</td>\n",
              "    </tr>\n",
              "    <tr>\n",
              "      <th>min</th>\n",
              "      <td>0.000000</td>\n",
              "      <td>0.000000</td>\n",
              "      <td>0.000000</td>\n",
              "      <td>0.000000</td>\n",
              "      <td>0.000000</td>\n",
              "      <td>0.000000</td>\n",
              "      <td>0.000000</td>\n",
              "      <td>0.000000</td>\n",
              "      <td>0.000000</td>\n",
              "      <td>0.000000</td>\n",
              "      <td>0.000000</td>\n",
              "      <td>0.000000</td>\n",
              "      <td>0.000000</td>\n",
              "      <td>0.000000</td>\n",
              "    </tr>\n",
              "    <tr>\n",
              "      <th>25%</th>\n",
              "      <td>1.000000</td>\n",
              "      <td>0.000000</td>\n",
              "      <td>0.000000</td>\n",
              "      <td>0.000000</td>\n",
              "      <td>0.000000</td>\n",
              "      <td>0.000000</td>\n",
              "      <td>0.000000</td>\n",
              "      <td>0.000000</td>\n",
              "      <td>0.000000</td>\n",
              "      <td>0.000000</td>\n",
              "      <td>0.000000</td>\n",
              "      <td>0.000000</td>\n",
              "      <td>0.000000</td>\n",
              "      <td>0.000000</td>\n",
              "    </tr>\n",
              "    <tr>\n",
              "      <th>50%</th>\n",
              "      <td>1.000000</td>\n",
              "      <td>0.000000</td>\n",
              "      <td>0.000000</td>\n",
              "      <td>0.000000</td>\n",
              "      <td>0.000000</td>\n",
              "      <td>0.000000</td>\n",
              "      <td>0.000000</td>\n",
              "      <td>0.000000</td>\n",
              "      <td>0.000000</td>\n",
              "      <td>0.000000</td>\n",
              "      <td>0.000000</td>\n",
              "      <td>0.000000</td>\n",
              "      <td>0.000000</td>\n",
              "      <td>0.000000</td>\n",
              "    </tr>\n",
              "    <tr>\n",
              "      <th>75%</th>\n",
              "      <td>1.000000</td>\n",
              "      <td>0.000000</td>\n",
              "      <td>0.000000</td>\n",
              "      <td>0.000000</td>\n",
              "      <td>0.000000</td>\n",
              "      <td>0.000000</td>\n",
              "      <td>0.000000</td>\n",
              "      <td>0.000000</td>\n",
              "      <td>0.000000</td>\n",
              "      <td>0.000000</td>\n",
              "      <td>0.000000</td>\n",
              "      <td>0.000000</td>\n",
              "      <td>0.000000</td>\n",
              "      <td>0.000000</td>\n",
              "    </tr>\n",
              "    <tr>\n",
              "      <th>max</th>\n",
              "      <td>1.000000</td>\n",
              "      <td>1.000000</td>\n",
              "      <td>1.000000</td>\n",
              "      <td>1.000000</td>\n",
              "      <td>1.000000</td>\n",
              "      <td>1.000000</td>\n",
              "      <td>1.000000</td>\n",
              "      <td>1.000000</td>\n",
              "      <td>1.000000</td>\n",
              "      <td>1.000000</td>\n",
              "      <td>1.000000</td>\n",
              "      <td>1.000000</td>\n",
              "      <td>1.000000</td>\n",
              "      <td>1.000000</td>\n",
              "    </tr>\n",
              "  </tbody>\n",
              "</table>\n",
              "</div>"
            ],
            "text/plain": [
              "            0            100     ...       110100       111000\n",
              "count  3402.000000  3402.000000  ...  3402.000000  3402.000000\n",
              "mean      0.750441     0.003233  ...     0.003233     0.004115\n",
              "std       0.432821     0.056779  ...     0.056779     0.064027\n",
              "min       0.000000     0.000000  ...     0.000000     0.000000\n",
              "25%       1.000000     0.000000  ...     0.000000     0.000000\n",
              "50%       1.000000     0.000000  ...     0.000000     0.000000\n",
              "75%       1.000000     0.000000  ...     0.000000     0.000000\n",
              "max       1.000000     1.000000  ...     1.000000     1.000000\n",
              "\n",
              "[8 rows x 14 columns]"
            ]
          },
          "metadata": {
            "tags": []
          },
          "execution_count": 23
        }
      ]
    },
    {
      "cell_type": "code",
      "metadata": {
        "id": "hX1CaP4HaAEL",
        "colab_type": "code",
        "outputId": "a6c0643f-ef86-4422-9b6c-135d239cf4f9",
        "colab": {
          "base_uri": "https://localhost:8080/",
          "height": 34
        }
      },
      "source": [
        "gc.collect()"
      ],
      "execution_count": 24,
      "outputs": [
        {
          "output_type": "execute_result",
          "data": {
            "text/plain": [
              "33"
            ]
          },
          "metadata": {
            "tags": []
          },
          "execution_count": 24
        }
      ]
    },
    {
      "cell_type": "code",
      "metadata": {
        "id": "3wItBpkxx3BM",
        "colab_type": "code",
        "outputId": "26840c4c-b737-4c5d-e0e3-73487d02e28c",
        "colab": {
          "base_uri": "https://localhost:8080/",
          "height": 34
        }
      },
      "source": [
        "com.shape[1]"
      ],
      "execution_count": 25,
      "outputs": [
        {
          "output_type": "execute_result",
          "data": {
            "text/plain": [
              "14"
            ]
          },
          "metadata": {
            "tags": []
          },
          "execution_count": 25
        }
      ]
    },
    {
      "cell_type": "code",
      "metadata": {
        "colab_type": "code",
        "id": "ELWkxlwcZNiR",
        "colab": {}
      },
      "source": [
        "#input_shape = (img_rows, img_cols, 1)\n",
        "input_shape = (220, 320, 3)\n",
        "num_classes = com.shape[1]\n",
        "batch_size = 64\n",
        "epochs = 60 #600"
      ],
      "execution_count": 0,
      "outputs": []
    },
    {
      "cell_type": "code",
      "metadata": {
        "colab_type": "code",
        "id": "2FrWxaiKwz4w",
        "colab": {}
      },
      "source": [
        "# CRIANDO MODELO\n",
        "\n",
        "model = tf.keras.models.Sequential()\n",
        "model.add(tf.keras.layers.Lambda(lambda x: x/255,input_shape=input_shape))\n",
        "model.add(tf.keras.layers.Conv2D(128, kernel_size=(5, 5), strides=(2, 2)))\n",
        "model.add(tf.keras.layers.BatchNormalization())\n",
        "model.add(tf.keras.layers.Activation('relu'))\n",
        "model.add(tf.keras.layers.Dropout(rate=0.5))\n",
        "model.add(tf.keras.layers.MaxPooling2D(pool_size=(2, 2)))\n",
        "model.add(tf.keras.layers.Conv2D(128, kernel_size=(5, 5), strides=(2, 2)))\n",
        "model.add(tf.keras.layers.BatchNormalization())\n",
        "model.add(tf.keras.layers.Activation('relu'))\n",
        "model.add(tf.keras.layers.Dropout(rate=0.5))\n",
        "model.add(tf.keras.layers.Conv2D(64, kernel_size=(5, 5), strides=(2, 2)))\n",
        "model.add(tf.keras.layers.BatchNormalization())\n",
        "model.add(tf.keras.layers.Activation('relu'))\n",
        "model.add(tf.keras.layers.Dropout(rate=0.5))\n",
        "model.add(tf.keras.layers.MaxPooling2D(pool_size=(2, 2)))\n",
        "model.add(tf.keras.layers.Flatten())\n",
        "model.add(tf.keras.layers.Dense(1024, activation='relu'))\n",
        "model.add(tf.keras.layers.Dropout(rate=0.5))\n",
        "model.add(tf.keras.layers.Dense(512, activation='relu'))\n",
        "model.add(tf.keras.layers.Dropout(rate=0.5))\n",
        "model.add(tf.keras.layers.Dense(128, activation='relu'))\n",
        "model.add(tf.keras.layers.Dropout(rate=0.5))\n",
        "model.add(tf.keras.layers.Dense(16, activation='relu'))\n",
        "model.add(tf.keras.layers.Dropout(rate=0.5))\n",
        "#model.add(tf.keras.layers.Dense(num_classes, activation='softmax'))\n",
        "model.add(tf.keras.layers.Dense(num_classes))"
      ],
      "execution_count": 0,
      "outputs": []
    },
    {
      "cell_type": "code",
      "metadata": {
        "colab_type": "code",
        "id": "gIXUI0STBeEb",
        "outputId": "939edfa5-2865-4e27-a9cd-49750966a4fe",
        "colab": {
          "base_uri": "https://localhost:8080/",
          "height": 1000
        }
      },
      "source": [
        "model.summary()"
      ],
      "execution_count": 36,
      "outputs": [
        {
          "output_type": "stream",
          "text": [
            "Model: \"sequential_1\"\n",
            "_________________________________________________________________\n",
            "Layer (type)                 Output Shape              Param #   \n",
            "=================================================================\n",
            "lambda_1 (Lambda)            (None, 220, 320, 3)       0         \n",
            "_________________________________________________________________\n",
            "conv2d_3 (Conv2D)            (None, 108, 158, 128)     9728      \n",
            "_________________________________________________________________\n",
            "batch_normalization_3 (Batch (None, 108, 158, 128)     512       \n",
            "_________________________________________________________________\n",
            "activation_3 (Activation)    (None, 108, 158, 128)     0         \n",
            "_________________________________________________________________\n",
            "dropout_7 (Dropout)          (None, 108, 158, 128)     0         \n",
            "_________________________________________________________________\n",
            "max_pooling2d_2 (MaxPooling2 (None, 54, 79, 128)       0         \n",
            "_________________________________________________________________\n",
            "conv2d_4 (Conv2D)            (None, 25, 38, 128)       409728    \n",
            "_________________________________________________________________\n",
            "batch_normalization_4 (Batch (None, 25, 38, 128)       512       \n",
            "_________________________________________________________________\n",
            "activation_4 (Activation)    (None, 25, 38, 128)       0         \n",
            "_________________________________________________________________\n",
            "dropout_8 (Dropout)          (None, 25, 38, 128)       0         \n",
            "_________________________________________________________________\n",
            "conv2d_5 (Conv2D)            (None, 11, 17, 64)        204864    \n",
            "_________________________________________________________________\n",
            "batch_normalization_5 (Batch (None, 11, 17, 64)        256       \n",
            "_________________________________________________________________\n",
            "activation_5 (Activation)    (None, 11, 17, 64)        0         \n",
            "_________________________________________________________________\n",
            "dropout_9 (Dropout)          (None, 11, 17, 64)        0         \n",
            "_________________________________________________________________\n",
            "max_pooling2d_3 (MaxPooling2 (None, 5, 8, 64)          0         \n",
            "_________________________________________________________________\n",
            "flatten_1 (Flatten)          (None, 2560)              0         \n",
            "_________________________________________________________________\n",
            "dense_5 (Dense)              (None, 1024)              2622464   \n",
            "_________________________________________________________________\n",
            "dropout_10 (Dropout)         (None, 1024)              0         \n",
            "_________________________________________________________________\n",
            "dense_6 (Dense)              (None, 512)               524800    \n",
            "_________________________________________________________________\n",
            "dropout_11 (Dropout)         (None, 512)               0         \n",
            "_________________________________________________________________\n",
            "dense_7 (Dense)              (None, 128)               65664     \n",
            "_________________________________________________________________\n",
            "dropout_12 (Dropout)         (None, 128)               0         \n",
            "_________________________________________________________________\n",
            "dense_8 (Dense)              (None, 16)                2064      \n",
            "_________________________________________________________________\n",
            "dropout_13 (Dropout)         (None, 16)                0         \n",
            "_________________________________________________________________\n",
            "dense_9 (Dense)              (None, 14)                238       \n",
            "=================================================================\n",
            "Total params: 3,840,830\n",
            "Trainable params: 3,840,190\n",
            "Non-trainable params: 640\n",
            "_________________________________________________________________\n"
          ],
          "name": "stdout"
        }
      ]
    },
    {
      "cell_type": "code",
      "metadata": {
        "colab_type": "code",
        "id": "Tysw4lCxZ24p",
        "colab": {}
      },
      "source": [
        "# train, test split\n",
        "from sklearn.model_selection import train_test_split\n",
        "X_train, X_test, y_train, y_test = train_test_split(range(0,comandos.shape[0]),range(0,comandos.shape[0]), test_size=0.1, random_state=42)"
      ],
      "execution_count": 0,
      "outputs": []
    },
    {
      "cell_type": "code",
      "metadata": {
        "colab_type": "code",
        "id": "8R2GSmELZghZ",
        "colab": {}
      },
      "source": [
        "#model.compile(loss=keras.losses.binary_crossentropy,\n",
        "#              optimizer=keras.optimizers.Adam(lr=INIT_LR, decay=INIT_LR / epochs),\n",
        "#              metrics=['accuracy'])\n",
        "INIT_LR = 1e-3\n",
        "model.compile(loss=tf.keras.losses.MeanSquaredError(),\n",
        "              optimizer='adam',\n",
        "              metrics=['acc'])"
      ],
      "execution_count": 0,
      "outputs": []
    },
    {
      "cell_type": "code",
      "metadata": {
        "colab_type": "code",
        "id": "A8pksz8dcSYJ",
        "outputId": "e16cbe68-6a5d-4bf6-bfef-385dd79d8df1",
        "colab": {
          "base_uri": "https://localhost:8080/",
          "height": 34
        }
      },
      "source": [
        "imagens[X_train,:,:,:].shape,com.shape"
      ],
      "execution_count": 39,
      "outputs": [
        {
          "output_type": "execute_result",
          "data": {
            "text/plain": [
              "((3061, 220, 320, 3), (3402, 14))"
            ]
          },
          "metadata": {
            "tags": []
          },
          "execution_count": 39
        }
      ]
    },
    {
      "cell_type": "code",
      "metadata": {
        "colab_type": "code",
        "id": "zIdywIfea8c9",
        "outputId": "25d67859-b2dc-4e03-ee65-22eeda0d08b3",
        "colab": {
          "base_uri": "https://localhost:8080/",
          "height": 1000
        }
      },
      "source": [
        "earlyStopping = tf.keras.callbacks.EarlyStopping(monitor='val_loss', patience=20,verbose=0, mode='min')\n",
        "mcp_save = tf.keras.callbacks.ModelCheckpoint('/content/drive/My Drive/Colab Notebooks/modelo_outrun_encoded_learning_best_mse.hdf5', save_best_only=True, monitor='val_loss', mode='auto')\n",
        "reduce_lr_loss = tf.keras.callbacks.ReduceLROnPlateau(monitor='val_loss', factor=0.1, patience=5, verbose=0, min_delta=1e-4, mode='auto')\n",
        "#imagens[X_train,:,:,:] imagens[X_test,:,:,:]\n",
        "model.fit(imagens[X_train,:,:,:], com.iloc[X_train].values,\n",
        "          batch_size=batch_size,\n",
        "          epochs=epochs,\n",
        "          shuffle = True,\n",
        "          validation_data=(imagens[X_test,:,:,:], com.iloc[X_test].values),\n",
        "          callbacks=[mcp_save])\n",
        "score = model.evaluate(imagens[X_test,:,:,:], com.iloc[X_test].values, verbose=0)\n",
        "print('Test loss:', score[0])"
      ],
      "execution_count": 40,
      "outputs": [
        {
          "output_type": "stream",
          "text": [
            "Epoch 1/60\n",
            "48/48 [==============================] - 15s 320ms/step - loss: 1.6871 - acc: 0.4985 - val_loss: 0.0670 - val_acc: 0.7009\n",
            "Epoch 2/60\n",
            "48/48 [==============================] - 15s 308ms/step - loss: 0.1504 - acc: 0.6720 - val_loss: 0.0624 - val_acc: 0.7009\n",
            "Epoch 3/60\n",
            "48/48 [==============================] - 15s 308ms/step - loss: 0.1026 - acc: 0.6926 - val_loss: 0.0582 - val_acc: 0.7009\n",
            "Epoch 4/60\n",
            "48/48 [==============================] - 15s 310ms/step - loss: 0.0835 - acc: 0.7089 - val_loss: 0.0546 - val_acc: 0.7009\n",
            "Epoch 5/60\n",
            "48/48 [==============================] - 15s 313ms/step - loss: 0.0634 - acc: 0.7292 - val_loss: 0.0514 - val_acc: 0.7009\n",
            "Epoch 6/60\n",
            "48/48 [==============================] - 15s 309ms/step - loss: 0.0676 - acc: 0.7328 - val_loss: 0.0487 - val_acc: 0.7009\n",
            "Epoch 7/60\n",
            "48/48 [==============================] - 15s 310ms/step - loss: 0.0546 - acc: 0.7364 - val_loss: 0.0464 - val_acc: 0.7009\n",
            "Epoch 8/60\n",
            "48/48 [==============================] - 15s 310ms/step - loss: 0.0499 - acc: 0.7386 - val_loss: 0.0443 - val_acc: 0.7009\n",
            "Epoch 9/60\n",
            "48/48 [==============================] - 15s 310ms/step - loss: 0.0449 - acc: 0.7429 - val_loss: 0.0426 - val_acc: 0.7009\n",
            "Epoch 10/60\n",
            "48/48 [==============================] - 15s 312ms/step - loss: 0.0428 - acc: 0.7465 - val_loss: 0.0412 - val_acc: 0.7009\n",
            "Epoch 11/60\n",
            "48/48 [==============================] - 15s 312ms/step - loss: 0.0411 - acc: 0.7471 - val_loss: 0.0399 - val_acc: 0.7009\n",
            "Epoch 12/60\n",
            "48/48 [==============================] - 15s 310ms/step - loss: 0.0386 - acc: 0.7511 - val_loss: 0.0389 - val_acc: 0.7009\n",
            "Epoch 13/60\n",
            "48/48 [==============================] - 15s 312ms/step - loss: 0.0364 - acc: 0.7507 - val_loss: 0.0380 - val_acc: 0.7009\n",
            "Epoch 14/60\n",
            "48/48 [==============================] - 15s 309ms/step - loss: 0.0355 - acc: 0.7504 - val_loss: 0.0373 - val_acc: 0.7009\n",
            "Epoch 15/60\n",
            "48/48 [==============================] - 15s 308ms/step - loss: 0.0345 - acc: 0.7511 - val_loss: 0.0368 - val_acc: 0.7009\n",
            "Epoch 16/60\n",
            "48/48 [==============================] - 15s 313ms/step - loss: 0.0335 - acc: 0.7517 - val_loss: 0.0363 - val_acc: 0.7009\n",
            "Epoch 17/60\n",
            "48/48 [==============================] - 15s 312ms/step - loss: 0.0326 - acc: 0.7543 - val_loss: 0.0360 - val_acc: 0.7009\n",
            "Epoch 18/60\n",
            "48/48 [==============================] - 15s 310ms/step - loss: 0.0319 - acc: 0.7543 - val_loss: 0.0357 - val_acc: 0.7009\n",
            "Epoch 19/60\n",
            "48/48 [==============================] - 15s 310ms/step - loss: 0.0316 - acc: 0.7553 - val_loss: 0.0355 - val_acc: 0.7009\n",
            "Epoch 20/60\n",
            "48/48 [==============================] - 15s 311ms/step - loss: 0.0310 - acc: 0.7553 - val_loss: 0.0354 - val_acc: 0.7009\n",
            "Epoch 21/60\n",
            "48/48 [==============================] - 15s 310ms/step - loss: 0.0308 - acc: 0.7550 - val_loss: 0.0353 - val_acc: 0.7009\n",
            "Epoch 22/60\n",
            "48/48 [==============================] - 15s 312ms/step - loss: 0.0306 - acc: 0.7556 - val_loss: 0.0352 - val_acc: 0.7009\n",
            "Epoch 23/60\n",
            "48/48 [==============================] - 15s 309ms/step - loss: 0.0303 - acc: 0.7550 - val_loss: 0.0352 - val_acc: 0.7009\n",
            "Epoch 24/60\n",
            "48/48 [==============================] - 15s 309ms/step - loss: 0.0302 - acc: 0.7553 - val_loss: 0.0352 - val_acc: 0.7009\n",
            "Epoch 25/60\n",
            "48/48 [==============================] - 15s 310ms/step - loss: 0.0300 - acc: 0.7560 - val_loss: 0.0352 - val_acc: 0.7009\n",
            "Epoch 26/60\n",
            "48/48 [==============================] - 14s 298ms/step - loss: 0.0303 - acc: 0.7560 - val_loss: 0.0352 - val_acc: 0.7009\n",
            "Epoch 27/60\n",
            "48/48 [==============================] - 14s 298ms/step - loss: 0.0298 - acc: 0.7556 - val_loss: 0.0352 - val_acc: 0.7009\n",
            "Epoch 28/60\n",
            "48/48 [==============================] - 14s 298ms/step - loss: 0.0296 - acc: 0.7560 - val_loss: 0.0352 - val_acc: 0.7009\n",
            "Epoch 29/60\n",
            "48/48 [==============================] - 14s 297ms/step - loss: 0.0296 - acc: 0.7556 - val_loss: 0.0352 - val_acc: 0.7009\n",
            "Epoch 30/60\n",
            "48/48 [==============================] - 14s 298ms/step - loss: 0.0295 - acc: 0.7563 - val_loss: 0.0353 - val_acc: 0.7009\n",
            "Epoch 31/60\n",
            "48/48 [==============================] - 14s 299ms/step - loss: 0.0296 - acc: 0.7556 - val_loss: 0.0353 - val_acc: 0.7009\n",
            "Epoch 32/60\n",
            "48/48 [==============================] - 14s 296ms/step - loss: 0.0294 - acc: 0.7560 - val_loss: 0.0353 - val_acc: 0.7009\n",
            "Epoch 33/60\n",
            "48/48 [==============================] - 14s 296ms/step - loss: 0.0294 - acc: 0.7560 - val_loss: 0.0353 - val_acc: 0.7009\n",
            "Epoch 34/60\n",
            "48/48 [==============================] - 14s 296ms/step - loss: 0.0294 - acc: 0.7560 - val_loss: 0.0354 - val_acc: 0.7009\n",
            "Epoch 35/60\n",
            "48/48 [==============================] - 14s 297ms/step - loss: 0.0295 - acc: 0.7556 - val_loss: 0.0354 - val_acc: 0.7009\n",
            "Epoch 36/60\n",
            "48/48 [==============================] - 14s 295ms/step - loss: 0.0295 - acc: 0.7560 - val_loss: 0.0354 - val_acc: 0.7009\n",
            "Epoch 37/60\n",
            "48/48 [==============================] - 14s 296ms/step - loss: 0.0295 - acc: 0.7556 - val_loss: 0.0354 - val_acc: 0.7009\n",
            "Epoch 38/60\n",
            "48/48 [==============================] - 14s 296ms/step - loss: 0.0295 - acc: 0.7556 - val_loss: 0.0354 - val_acc: 0.7009\n",
            "Epoch 39/60\n",
            "48/48 [==============================] - 14s 295ms/step - loss: 0.0293 - acc: 0.7560 - val_loss: 0.0354 - val_acc: 0.7009\n",
            "Epoch 40/60\n",
            "48/48 [==============================] - 14s 295ms/step - loss: 0.0294 - acc: 0.7560 - val_loss: 0.0354 - val_acc: 0.7009\n",
            "Epoch 41/60\n",
            "48/48 [==============================] - 14s 297ms/step - loss: 0.0294 - acc: 0.7560 - val_loss: 0.0355 - val_acc: 0.7009\n",
            "Epoch 42/60\n",
            "48/48 [==============================] - 14s 297ms/step - loss: 0.0294 - acc: 0.7560 - val_loss: 0.0354 - val_acc: 0.7009\n",
            "Epoch 43/60\n",
            "48/48 [==============================] - 14s 298ms/step - loss: 0.0293 - acc: 0.7560 - val_loss: 0.0354 - val_acc: 0.7009\n",
            "Epoch 44/60\n",
            "48/48 [==============================] - 14s 297ms/step - loss: 0.0293 - acc: 0.7560 - val_loss: 0.0355 - val_acc: 0.7009\n",
            "Epoch 45/60\n",
            "48/48 [==============================] - 14s 297ms/step - loss: 0.0294 - acc: 0.7560 - val_loss: 0.0354 - val_acc: 0.7009\n",
            "Epoch 46/60\n",
            "48/48 [==============================] - 14s 297ms/step - loss: 0.0294 - acc: 0.7560 - val_loss: 0.0355 - val_acc: 0.7009\n",
            "Epoch 47/60\n",
            "48/48 [==============================] - 14s 298ms/step - loss: 0.0293 - acc: 0.7560 - val_loss: 0.0354 - val_acc: 0.7009\n",
            "Epoch 48/60\n",
            "48/48 [==============================] - 14s 297ms/step - loss: 0.0293 - acc: 0.7560 - val_loss: 0.0355 - val_acc: 0.7009\n",
            "Epoch 49/60\n",
            "48/48 [==============================] - 14s 298ms/step - loss: 0.0293 - acc: 0.7560 - val_loss: 0.0355 - val_acc: 0.7009\n",
            "Epoch 50/60\n",
            "48/48 [==============================] - 14s 299ms/step - loss: 0.0293 - acc: 0.7560 - val_loss: 0.0354 - val_acc: 0.7009\n",
            "Epoch 51/60\n",
            "48/48 [==============================] - 14s 299ms/step - loss: 0.0292 - acc: 0.7560 - val_loss: 0.0355 - val_acc: 0.7009\n",
            "Epoch 52/60\n",
            "48/48 [==============================] - 14s 300ms/step - loss: 0.0293 - acc: 0.7560 - val_loss: 0.0355 - val_acc: 0.7009\n",
            "Epoch 53/60\n",
            "48/48 [==============================] - 14s 300ms/step - loss: 0.0293 - acc: 0.7556 - val_loss: 0.0355 - val_acc: 0.7009\n",
            "Epoch 54/60\n",
            "48/48 [==============================] - 14s 300ms/step - loss: 0.0293 - acc: 0.7560 - val_loss: 0.0355 - val_acc: 0.7009\n",
            "Epoch 55/60\n",
            "48/48 [==============================] - 14s 299ms/step - loss: 0.0293 - acc: 0.7560 - val_loss: 0.0355 - val_acc: 0.7009\n",
            "Epoch 56/60\n",
            "48/48 [==============================] - 14s 299ms/step - loss: 0.0293 - acc: 0.7560 - val_loss: 0.0354 - val_acc: 0.7009\n",
            "Epoch 57/60\n",
            "48/48 [==============================] - 14s 299ms/step - loss: 0.0293 - acc: 0.7560 - val_loss: 0.0355 - val_acc: 0.7009\n",
            "Epoch 58/60\n",
            "48/48 [==============================] - 14s 299ms/step - loss: 0.0292 - acc: 0.7560 - val_loss: 0.0354 - val_acc: 0.7009\n",
            "Epoch 59/60\n",
            "48/48 [==============================] - 14s 298ms/step - loss: 0.0293 - acc: 0.7560 - val_loss: 0.0354 - val_acc: 0.7009\n",
            "Epoch 60/60\n",
            "48/48 [==============================] - 14s 298ms/step - loss: 0.0293 - acc: 0.7560 - val_loss: 0.0355 - val_acc: 0.7009\n",
            "Test loss: 0.03477978706359863\n"
          ],
          "name": "stdout"
        }
      ]
    },
    {
      "cell_type": "code",
      "metadata": {
        "id": "d-ONnDQFM7Ld",
        "colab_type": "code",
        "outputId": "a9e53df6-4b9e-4590-e05f-7e7d4e1ea9be",
        "colab": {
          "base_uri": "https://localhost:8080/",
          "height": 34
        }
      },
      "source": [
        "model.save_weights(\"/content/drive/My Drive/Colab Notebooks/model_3_encoded_learning_final_mse.hdf5\")\n",
        "model.save(\"/content/drive/My Drive/Colab Notebooks/model_3_encoded_learning_mse.model\")"
      ],
      "execution_count": 41,
      "outputs": [
        {
          "output_type": "stream",
          "text": [
            "INFO:tensorflow:Assets written to: /content/drive/My Drive/Colab Notebooks/model_3_encoded_learning_mse.model/assets\n"
          ],
          "name": "stdout"
        }
      ]
    },
    {
      "cell_type": "code",
      "metadata": {
        "id": "buM0BJ_g2cls",
        "colab_type": "code",
        "colab": {}
      },
      "source": [
        ""
      ],
      "execution_count": 0,
      "outputs": []
    }
  ]
}