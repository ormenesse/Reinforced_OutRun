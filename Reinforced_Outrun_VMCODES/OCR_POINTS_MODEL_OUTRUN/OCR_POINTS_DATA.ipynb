{
 "cells": [
  {
   "cell_type": "code",
   "execution_count": 2,
   "metadata": {},
   "outputs": [],
   "source": [
    "import pandas as pd\n",
    "import numpy as np\n",
    "import cv2\n",
    "import pickle\n",
    "import matplotlib.pyplot as plt\n",
    "import seaborn as sns\n",
    "import gc\n",
    "import pytesseract\n",
    "import glob\n",
    "import re\n",
    "from IPython.display import display, clear_output"
   ]
  },
  {
   "cell_type": "code",
   "execution_count": 3,
   "metadata": {},
   "outputs": [],
   "source": [
    "def save_to_file(objeto, nome_arquivo):\n",
    "    with open(nome_arquivo, 'wb') as output:\n",
    "        pickle.dump(objeto, output, pickle.HIGHEST_PROTOCOL)\n",
    "\n",
    "\n",
    "def load_file(nome_arquivo):\n",
    "    with open(nome_arquivo, 'rb') as input:\n",
    "        objeto = pickle.load(input)\n",
    "    return objeto"
   ]
  },
  {
   "cell_type": "code",
   "execution_count": 4,
   "metadata": {},
   "outputs": [],
   "source": [
    "list_of_files = glob.glob(\"../ANALYSE_DATA/*.pkl\")"
   ]
  },
  {
   "cell_type": "markdown",
   "metadata": {},
   "source": [
    "LOADING FILES AND WORKING WITH IT"
   ]
  },
  {
   "cell_type": "markdown",
   "metadata": {},
   "source": [
    "8 px between each number"
   ]
  },
  {
   "cell_type": "code",
   "execution_count": 17,
   "metadata": {},
   "outputs": [],
   "source": [
    "limit_numbers_1 = np.arange(136,200,8)\n",
    "limit_numbers_2 = np.arange(144,208,8)"
   ]
  },
  {
   "cell_type": "code",
   "execution_count": null,
   "metadata": {},
   "outputs": [],
   "source": [
    "vector_img = {}\n",
    "for file in list_of_files:\n",
    "    if 'fila_treino' in file:\n",
    "        load = load_file(file)\n",
    "        for i in load:\n",
    "            for j in range(len(limit_numbers_1)):\n",
    "                clear_output(wait=True)\n",
    "                plt.imshow(i[0][15:24,136:200])\n",
    "                display(plt.show())\n",
    "                plt.imshow(i[0][15:24,limit_numbers_1[j]:limit_numbers_2[j]])\n",
    "                display(plt.show())\n",
    "\n",
    "                img = i[0].copy()\n",
    "\n",
    "                ihash_1 = hash(img[15:24,limit_numbers_1[j]:limit_numbers_2[j]].tobytes())\n",
    "\n",
    "                try:\n",
    "                    display(print('valor 1 salvo:',vector_img[ihash_1][1]))\n",
    "                except:\n",
    "                    number = input('Digite para o valor 1: ')\n",
    "                    vector_img[ihash_1] = (img[15:24,limit_numbers_1[j]:limit_numbers_2[j]].copy(),int(number))"
   ]
  },
  {
   "cell_type": "code",
   "execution_count": 25,
   "metadata": {},
   "outputs": [],
   "source": [
    "save_to_file(vector_img, 'train_images_outrun_Score.pkl')"
   ]
  },
  {
   "cell_type": "code",
   "execution_count": 43,
   "metadata": {},
   "outputs": [],
   "source": [
    "vector_img = load_file( 'train_images_outrun_Score.pkl')"
   ]
  },
  {
   "cell_type": "code",
   "execution_count": 44,
   "metadata": {},
   "outputs": [],
   "source": [
    "vector_img[-2704009532181042674] = (vector_img[-2704009532181042674][0],2)"
   ]
  },
  {
   "cell_type": "code",
   "execution_count": 45,
   "metadata": {},
   "outputs": [
    {
     "data": {
      "text/plain": [
       "1367"
      ]
     },
     "execution_count": 45,
     "metadata": {},
     "output_type": "execute_result"
    }
   ],
   "source": [
    "len(vector_img.keys())"
   ]
  },
  {
   "cell_type": "code",
   "execution_count": 56,
   "metadata": {},
   "outputs": [],
   "source": [
    "imgs = []\n",
    "numbers = []\n",
    "for i in list(vector_img.keys()):\n",
    "    imgs.append(np.expand_dims(vector_img[i][0],axis=-1))\n",
    "    numbers.append(vector_img[i][1])"
   ]
  },
  {
   "cell_type": "code",
   "execution_count": 58,
   "metadata": {},
   "outputs": [
    {
     "data": {
      "text/plain": [
       "0    0.302121\n",
       "3    0.100219\n",
       "2    0.095830\n",
       "4    0.089978\n",
       "7    0.073153\n",
       "5    0.070958\n",
       "1    0.070227\n",
       "8    0.069495\n",
       "6    0.068764\n",
       "9    0.059254\n",
       "dtype: float64"
      ]
     },
     "execution_count": 58,
     "metadata": {},
     "output_type": "execute_result"
    }
   ],
   "source": [
    "pd.Series(numbers).value_counts(normalize=True)"
   ]
  },
  {
   "cell_type": "code",
   "execution_count": 59,
   "metadata": {},
   "outputs": [],
   "source": [
    "save_to_file(vector_img, 'finished_train_images_outrun_Score.pkl')"
   ]
  },
  {
   "cell_type": "code",
   "execution_count": null,
   "metadata": {},
   "outputs": [],
   "source": [
    "limit_numbers_1 = np.arange(136,200,8)\n",
    "limit_numbers_2 = np.arange(144,208,8)"
   ]
  },
  {
   "cell_type": "code",
   "execution_count": 62,
   "metadata": {},
   "outputs": [
    {
     "data": {
      "text/plain": [
       "array([136, 144, 152, 160, 168, 176, 184, 192])"
      ]
     },
     "execution_count": 62,
     "metadata": {},
     "output_type": "execute_result"
    }
   ],
   "source": [
    "np.arange(136,200,8)"
   ]
  },
  {
   "cell_type": "code",
   "execution_count": 61,
   "metadata": {},
   "outputs": [
    {
     "data": {
      "text/plain": [
       "array([200, 192, 184, 176, 168, 160, 152, 144])"
      ]
     },
     "execution_count": 61,
     "metadata": {},
     "output_type": "execute_result"
    }
   ],
   "source": [
    "np.arange(200,136,-8)"
   ]
  },
  {
   "cell_type": "code",
   "execution_count": 63,
   "metadata": {},
   "outputs": [
    {
     "data": {
      "text/plain": [
       "array([192, 184, 176, 168, 160, 152, 144, 136])"
      ]
     },
     "execution_count": 63,
     "metadata": {},
     "output_type": "execute_result"
    }
   ],
   "source": [
    "np.arange(192,128,-8)"
   ]
  },
  {
   "cell_type": "code",
   "execution_count": null,
   "metadata": {},
   "outputs": [],
   "source": []
  }
 ],
 "metadata": {
  "kernelspec": {
   "display_name": "Python 3",
   "language": "python",
   "name": "python3"
  },
  "language_info": {
   "codemirror_mode": {
    "name": "ipython",
    "version": 3
   },
   "file_extension": ".py",
   "mimetype": "text/x-python",
   "name": "python",
   "nbconvert_exporter": "python",
   "pygments_lexer": "ipython3",
   "version": "3.7.4"
  }
 },
 "nbformat": 4,
 "nbformat_minor": 4
}
