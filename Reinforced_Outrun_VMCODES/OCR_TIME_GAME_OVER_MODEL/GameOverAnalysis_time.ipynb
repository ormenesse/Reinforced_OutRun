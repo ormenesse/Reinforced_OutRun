{
 "cells": [
  {
   "cell_type": "code",
   "execution_count": 37,
   "metadata": {},
   "outputs": [],
   "source": [
    "import pandas as pd\n",
    "import numpy as np\n",
    "import cv2\n",
    "import pickle\n",
    "import matplotlib.pyplot as plt\n",
    "import seaborn as sns\n",
    "import gc\n",
    "import pytesseract\n",
    "import glob\n",
    "import re"
   ]
  },
  {
   "cell_type": "code",
   "execution_count": 46,
   "metadata": {},
   "outputs": [],
   "source": [
    "from IPython.display import display, clear_output"
   ]
  },
  {
   "cell_type": "markdown",
   "metadata": {},
   "source": [
    "Loading Training Analysis"
   ]
  },
  {
   "cell_type": "code",
   "execution_count": 2,
   "metadata": {},
   "outputs": [],
   "source": [
    "def save_to_file(objeto, nome_arquivo):\n",
    "    with open(nome_arquivo, 'wb') as output:\n",
    "        pickle.dump(objeto, output, pickle.HIGHEST_PROTOCOL)\n",
    "\n",
    "\n",
    "def load_file(nome_arquivo):\n",
    "    with open(nome_arquivo, 'rb') as input:\n",
    "        objeto = pickle.load(input)\n",
    "    return objeto"
   ]
  },
  {
   "cell_type": "code",
   "execution_count": 36,
   "metadata": {},
   "outputs": [],
   "source": [
    "list_of_files = glob.glob(\"../Analyse_Data/*.pkl\")"
   ]
  },
  {
   "cell_type": "markdown",
   "metadata": {},
   "source": [
    "Vou cortar a imagem em 2 para facilitar a minhha vida."
   ]
  },
  {
   "cell_type": "markdown",
   "metadata": {},
   "source": [
    "Depois eu tenho que permutar tudo na hora de treinar o modelo"
   ]
  },
  {
   "cell_type": "code",
   "execution_count": null,
   "metadata": {},
   "outputs": [],
   "source": [
    "vector_img = {}\n",
    "for file in list_of_files:\n",
    "    if 'fila_treino' in file:\n",
    "        load = load_file(file)\n",
    "        for i in load:\n",
    "\n",
    "            clear_output(wait=True)\n",
    "            plt.imshow(i[0][7:23,56:73])\n",
    "            display(plt.show())\n",
    "\n",
    "            img = i[0].copy()\n",
    "            \n",
    "            ihash_1 = hash(img[7:23,56:65].tobytes())\n",
    "            \n",
    "            try:\n",
    "                display(print('valor 1 salvo:',vector_img[ihash_1][1]))\n",
    "            except:\n",
    "                number = input('Digite para o valor 1: ')\n",
    "                vector_img[ihash_1] = (img[7:23,56:65].copy(),int(number))\n",
    "                \n",
    "            hash_2 = hash(img[7:23,65:73].tobytes())\n",
    "            \n",
    "            try:\n",
    "                display(print('valor 2 salvo:',vector_img[hash_2][1]))\n",
    "            except:\n",
    "                number = input('Digite para o valor 2: ')\n",
    "                vector_img[hash_2] = (img[7:23,65:73].copy(),int(number))"
   ]
  },
  {
   "cell_type": "code",
   "execution_count": 112,
   "metadata": {},
   "outputs": [
    {
     "data": {
      "text/plain": [
       "773"
      ]
     },
     "execution_count": 112,
     "metadata": {},
     "output_type": "execute_result"
    }
   ],
   "source": [
    "len(vector_img)"
   ]
  },
  {
   "cell_type": "code",
   "execution_count": 113,
   "metadata": {},
   "outputs": [],
   "source": [
    "save_to_file(vector_img, 'train_images_time.pkl')"
   ]
  },
  {
   "cell_type": "code",
   "execution_count": 425,
   "metadata": {},
   "outputs": [],
   "source": [
    "vector_img = load_file('train_images_time.pkl')"
   ]
  },
  {
   "cell_type": "code",
   "execution_count": 426,
   "metadata": {},
   "outputs": [],
   "source": [
    "images_left = []"
   ]
  },
  {
   "cell_type": "code",
   "execution_count": 427,
   "metadata": {},
   "outputs": [],
   "source": [
    "images_right = []"
   ]
  },
  {
   "cell_type": "code",
   "execution_count": 428,
   "metadata": {},
   "outputs": [],
   "source": [
    "for key in vector_img.keys():\n",
    "    if vector_img[key][0].shape[1] == 9:\n",
    "        images_left.append(vector_img[key])\n",
    "    else:\n",
    "        images_right.append(vector_img[key])"
   ]
  },
  {
   "cell_type": "code",
   "execution_count": 429,
   "metadata": {},
   "outputs": [
    {
     "data": {
      "text/plain": [
       "(373, 400)"
      ]
     },
     "execution_count": 429,
     "metadata": {},
     "output_type": "execute_result"
    }
   ],
   "source": [
    "len(images_left),len(images_right)"
   ]
  },
  {
   "cell_type": "code",
   "execution_count": 430,
   "metadata": {},
   "outputs": [
    {
     "name": "stdout",
     "output_type": "stream",
     "text": [
      "205 23\n"
     ]
    }
   ],
   "source": [
    "for i,key in enumerate(images_right):\n",
    "    if key[1] > 9:\n",
    "        print(i,key[1] )"
   ]
  },
  {
   "cell_type": "code",
   "execution_count": 431,
   "metadata": {},
   "outputs": [],
   "source": [
    "_tuple_ = images_right.pop(205)"
   ]
  },
  {
   "cell_type": "code",
   "execution_count": 432,
   "metadata": {},
   "outputs": [],
   "source": [
    "images_right.append((_tuple_[0],2))"
   ]
  },
  {
   "cell_type": "markdown",
   "metadata": {},
   "source": [
    "### Adding Noise"
   ]
  },
  {
   "cell_type": "code",
   "execution_count": 433,
   "metadata": {},
   "outputs": [],
   "source": [
    "def sp_noise(image,prob):\n",
    "    '''\n",
    "    Add salt and pepper noise to image\n",
    "    prob: Probability of the noise\n",
    "    '''\n",
    "    output = np.zeros(image.shape,np.uint8)\n",
    "    thresh = 1 - prob\n",
    "    for i in range(image.shape[0]):\n",
    "        for j in range(image.shape[1]):\n",
    "            if (i == 0) or (j == 0) or ( j ==7):\n",
    "                rdn = np.random.random()\n",
    "                if rdn >= thresh:\n",
    "                    output[i][j] = np.random.randint(0,255)\n",
    "                else:\n",
    "                    output[i][j] = image[i][j]\n",
    "            else:\n",
    "                output[i][j] = image[i][j]\n",
    "    inner = np.zeros\n",
    "    return output"
   ]
  },
  {
   "cell_type": "code",
   "execution_count": 434,
   "metadata": {},
   "outputs": [
    {
     "data": {
      "text/plain": [
       "<matplotlib.image.AxesImage at 0x7efbb7bd6110>"
      ]
     },
     "execution_count": 434,
     "metadata": {},
     "output_type": "execute_result"
    },
    {
     "data": {
      "image/png": "[encoded data removed]",
      "text/plain": [
       "<Figure size 432x288 with 1 Axes>"
      ]
     },
     "metadata": {
      "needs_background": "light"
     },
     "output_type": "display_data"
    }
   ],
   "source": [
    "plt.imshow(images_right[0][0])"
   ]
  },
  {
   "cell_type": "code",
   "execution_count": 435,
   "metadata": {},
   "outputs": [
    {
     "data": {
      "text/plain": [
       "<matplotlib.image.AxesImage at 0x7efba3f37f10>"
      ]
     },
     "execution_count": 435,
     "metadata": {},
     "output_type": "execute_result"
    },
    {
     "data": {
      "image/png": "[encoded data removed]",
      "text/plain": [
       "<Figure size 432x288 with 1 Axes>"
      ]
     },
     "metadata": {
      "needs_background": "light"
     },
     "output_type": "display_data"
    }
   ],
   "source": [
    "plt.imshow(sp_noise(teste,0.5))"
   ]
  },
  {
   "cell_type": "code",
   "execution_count": 436,
   "metadata": {},
   "outputs": [],
   "source": [
    "imgs_left = len(images_left)\n",
    "for i in range(imgs_left):\n",
    "    images_left.append((sp_noise(images_left[i][0],0.5),images_left[i][1]))\n",
    "    if images_left[i][1] <= 3:\n",
    "        images_left.append((sp_noise(images_left[i][0],0.5),images_left[i][1]))\n",
    "        images_left.append((sp_noise(images_left[i][0],0.5),images_left[i][1]))\n",
    "        images_left.append((sp_noise(images_left[i][0],0.5),images_left[i][1]))\n",
    "        images_left.append((sp_noise(images_left[i][0],0.5),images_left[i][1]))"
   ]
  },
  {
   "cell_type": "code",
   "execution_count": 437,
   "metadata": {},
   "outputs": [],
   "source": [
    "imgs_right = len(images_right)\n",
    "for i in range(imgs_right):\n",
    "    images_right.append((sp_noise(images_right[i][0],0.5),images_right[i][1]))"
   ]
  },
  {
   "cell_type": "code",
   "execution_count": 438,
   "metadata": {},
   "outputs": [],
   "source": [
    "import itertools"
   ]
  },
  {
   "cell_type": "code",
   "execution_count": 439,
   "metadata": {},
   "outputs": [
    {
     "data": {
      "text/plain": [
       "(800, 982)"
      ]
     },
     "execution_count": 439,
     "metadata": {},
     "output_type": "execute_result"
    }
   ],
   "source": [
    "len(images_right), len(images_left)"
   ]
  },
  {
   "cell_type": "code",
   "execution_count": 440,
   "metadata": {},
   "outputs": [],
   "source": [
    "final = []\n",
    "for r in itertools.product(images_left, images_right):\n",
    "    final.append(( np.concatenate((r[0][0],r[1][0]),axis=1) ,  r[0][1]*10+r[1][1] ))"
   ]
  },
  {
   "cell_type": "code",
   "execution_count": 441,
   "metadata": {},
   "outputs": [
    {
     "data": {
      "text/plain": [
       "785600"
      ]
     },
     "execution_count": 441,
     "metadata": {},
     "output_type": "execute_result"
    }
   ],
   "source": [
    "len(final)"
   ]
  },
  {
   "cell_type": "code",
   "execution_count": 442,
   "metadata": {},
   "outputs": [],
   "source": [
    "save_to_file(final, 'final_prepared_train_images_time.pkl')"
   ]
  },
  {
   "cell_type": "code",
   "execution_count": 388,
   "metadata": {},
   "outputs": [],
   "source": [
    "values = [ f[1] for f in final]"
   ]
  },
  {
   "cell_type": "code",
   "execution_count": 389,
   "metadata": {},
   "outputs": [
    {
     "data": {
      "text/plain": [
       "79     51128\n",
       "76     38512\n",
       "70     31208\n",
       "78     29216\n",
       "77     23240\n",
       "       ...  \n",
       "83       952\n",
       "4        864\n",
       "93       664\n",
       "3        612\n",
       "103       40\n",
       "Length: 92, dtype: int64"
      ]
     },
     "execution_count": 389,
     "metadata": {},
     "output_type": "execute_result"
    }
   ],
   "source": [
    "pd.Series(values).value_counts()"
   ]
  },
  {
   "cell_type": "code",
   "execution_count": 391,
   "metadata": {},
   "outputs": [
    {
     "data": {
      "image/png": "[encoded data removed]",
      "text/plain": [
       "<Figure size 432x288 with 1 Axes>"
      ]
     },
     "metadata": {
      "needs_background": "light"
     },
     "output_type": "display_data"
    },
    {
     "data": {
      "text/plain": [
       "None"
      ]
     },
     "metadata": {},
     "output_type": "display_data"
    }
   ],
   "source": [
    "vector_img = {}\n",
    "for f in final[-10:]:\n",
    "    clear_output(wait=True)\n",
    "    plt.imshow(f[0])\n",
    "    display(plt.show())"
   ]
  },
  {
   "cell_type": "code",
   "execution_count": null,
   "metadata": {},
   "outputs": [],
   "source": []
  }
 ],
 "metadata": {
  "kernelspec": {
   "display_name": "Python 3",
   "language": "python",
   "name": "python3"
  },
  "language_info": {
   "codemirror_mode": {
    "name": "ipython",
    "version": 3
   },
   "file_extension": ".py",
   "mimetype": "text/x-python",
   "name": "python",
   "nbconvert_exporter": "python",
   "pygments_lexer": "ipython3",
   "version": "3.7.4"
  }
 },
 "nbformat": 4,
 "nbformat_minor": 4
}
