{
  "nbformat": 4,
  "nbformat_minor": 0,
  "metadata": {
    "colab": {
      "name": "Reinforcement_Learning.ipynb",
      "version": "0.3.2",
      "provenance": [],
      "collapsed_sections": []
    },
    "kernelspec": {
      "name": "python3",
      "display_name": "Python 3"
    },
    "accelerator": "GPU"
  },
  "cells": [
    {
      "cell_type": "code",
      "metadata": {
        "id": "cIrIh4JntiUo",
        "colab_type": "code",
        "colab": {}
      },
      "source": [
        "import pandas as pd\n",
        "import numpy as np\n",
        "import cv2\n",
        "import pickle"
      ],
      "execution_count": 0,
      "outputs": []
    },
    {
      "cell_type": "code",
      "metadata": {
        "id": "dsUuavMntuo3",
        "colab_type": "code",
        "outputId": "d43ade03-74fe-4754-fdc0-9e90989c8e5b",
        "colab": {
          "base_uri": "https://localhost:8080/",
          "height": 34
        }
      },
      "source": [
        "from time import time\n",
        "import keras\n",
        "import keras.backend as K\n",
        "from keras import metrics\n",
        "from keras.engine.topology import Layer, InputSpec\n",
        "from keras.layers import Dense, Input, Conv1D, Conv2D, MaxPooling1D, MaxPooling2D\n",
        "from keras.models import Model\n",
        "from keras.optimizers import SGD\n",
        "from keras import callbacks\n",
        "from keras.initializers import VarianceScaling\n",
        "from keras.layers.normalization import BatchNormalization\n",
        "from keras.models import Sequential, Model\n",
        "from keras.layers import Dense, Activation, Dropout, Concatenate, Flatten, Reshape\n",
        "from keras.callbacks import EarlyStopping, ModelCheckpoint,ReduceLROnPlateau"
      ],
      "execution_count": 0,
      "outputs": [
        {
          "output_type": "stream",
          "text": [
            "Using TensorFlow backend.\n"
          ],
          "name": "stderr"
        }
      ]
    },
    {
      "cell_type": "code",
      "metadata": {
        "id": "DvoTuxwOUIlu",
        "colab_type": "code",
        "colab": {}
      },
      "source": [
        "def load_file(nome_arquivo):\n",
        "    with open(nome_arquivo, 'rb') as input:\n",
        "        objeto = pickle.load(input)\n",
        "    return objeto"
      ],
      "execution_count": 0,
      "outputs": []
    },
    {
      "cell_type": "code",
      "metadata": {
        "id": "2xC2rwiFTqlw",
        "colab_type": "code",
        "outputId": "ddc2e343-2075-4b7d-ea73-67ee3b431919",
        "colab": {
          "base_uri": "https://localhost:8080/",
          "height": 122
        }
      },
      "source": [
        "from google.colab import drive\n",
        "drive.mount('/content/drive')"
      ],
      "execution_count": 0,
      "outputs": [
        {
          "output_type": "stream",
          "text": [
            "Go to this URL in a browser: https://accounts.google.com/o/oauth2/auth?client_id=947318989803-6bn6qk8qdgf4n4g3pfee6491hc0brc4i.apps.googleusercontent.com&redirect_uri=urn%3Aietf%3Awg%3Aoauth%3A2.0%3Aoob&scope=email%20https%3A%2F%2Fwww.googleapis.com%2Fauth%2Fdocs.test%20https%3A%2F%2Fwww.googleapis.com%2Fauth%2Fdrive%20https%3A%2F%2Fwww.googleapis.com%2Fauth%2Fdrive.photos.readonly%20https%3A%2F%2Fwww.googleapis.com%2Fauth%2Fpeopleapi.readonly&response_type=code\n",
            "\n",
            "Enter your authorization code:\n",
            "··········\n",
            "Mounted at /content/drive\n"
          ],
          "name": "stdout"
        }
      ]
    },
    {
      "cell_type": "code",
      "metadata": {
        "id": "qexfW-GZVCFu",
        "colab_type": "code",
        "colab": {}
      },
      "source": [
        "comandos = pd.concat([pd.DataFrame(load_file('/content/drive/My Drive/Colab Notebooks/comando.pkl')),\\\n",
        "          pd.DataFrame(load_file('/content/drive/My Drive/Colab Notebooks/comando2.pkl'))],\\\n",
        "          axis=0)"
      ],
      "execution_count": 0,
      "outputs": []
    },
    {
      "cell_type": "code",
      "metadata": {
        "id": "iInCQ3h0YNRR",
        "colab_type": "code",
        "outputId": "2dfc5308-0c23-4026-f463-6b5c87db757c",
        "colab": {
          "base_uri": "https://localhost:8080/",
          "height": 297
        }
      },
      "source": [
        "comandos.describe()"
      ],
      "execution_count": 0,
      "outputs": [
        {
          "output_type": "execute_result",
          "data": {
            "text/html": [
              "<div>\n",
              "<style scoped>\n",
              "    .dataframe tbody tr th:only-of-type {\n",
              "        vertical-align: middle;\n",
              "    }\n",
              "\n",
              "    .dataframe tbody tr th {\n",
              "        vertical-align: top;\n",
              "    }\n",
              "\n",
              "    .dataframe thead th {\n",
              "        text-align: right;\n",
              "    }\n",
              "</style>\n",
              "<table border=\"1\" class=\"dataframe\">\n",
              "  <thead>\n",
              "    <tr style=\"text-align: right;\">\n",
              "      <th></th>\n",
              "      <th>0</th>\n",
              "      <th>1</th>\n",
              "      <th>2</th>\n",
              "      <th>3</th>\n",
              "    </tr>\n",
              "  </thead>\n",
              "  <tbody>\n",
              "    <tr>\n",
              "      <th>count</th>\n",
              "      <td>2612.000000</td>\n",
              "      <td>2612.000000</td>\n",
              "      <td>2612.000000</td>\n",
              "      <td>2612.000000</td>\n",
              "    </tr>\n",
              "    <tr>\n",
              "      <th>mean</th>\n",
              "      <td>0.001531</td>\n",
              "      <td>0.018377</td>\n",
              "      <td>0.795559</td>\n",
              "      <td>0.017228</td>\n",
              "    </tr>\n",
              "    <tr>\n",
              "      <th>std</th>\n",
              "      <td>0.660186</td>\n",
              "      <td>0.145292</td>\n",
              "      <td>0.403370</td>\n",
              "      <td>0.130146</td>\n",
              "    </tr>\n",
              "    <tr>\n",
              "      <th>min</th>\n",
              "      <td>-1.000000</td>\n",
              "      <td>-1.000000</td>\n",
              "      <td>0.000000</td>\n",
              "      <td>0.000000</td>\n",
              "    </tr>\n",
              "    <tr>\n",
              "      <th>25%</th>\n",
              "      <td>0.000000</td>\n",
              "      <td>0.000000</td>\n",
              "      <td>1.000000</td>\n",
              "      <td>0.000000</td>\n",
              "    </tr>\n",
              "    <tr>\n",
              "      <th>50%</th>\n",
              "      <td>0.000000</td>\n",
              "      <td>0.000000</td>\n",
              "      <td>1.000000</td>\n",
              "      <td>0.000000</td>\n",
              "    </tr>\n",
              "    <tr>\n",
              "      <th>75%</th>\n",
              "      <td>0.000000</td>\n",
              "      <td>0.000000</td>\n",
              "      <td>1.000000</td>\n",
              "      <td>0.000000</td>\n",
              "    </tr>\n",
              "    <tr>\n",
              "      <th>max</th>\n",
              "      <td>1.000000</td>\n",
              "      <td>1.000000</td>\n",
              "      <td>1.000000</td>\n",
              "      <td>1.000000</td>\n",
              "    </tr>\n",
              "  </tbody>\n",
              "</table>\n",
              "</div>"
            ],
            "text/plain": [
              "                 0            1            2            3\n",
              "count  2612.000000  2612.000000  2612.000000  2612.000000\n",
              "mean      0.001531     0.018377     0.795559     0.017228\n",
              "std       0.660186     0.145292     0.403370     0.130146\n",
              "min      -1.000000    -1.000000     0.000000     0.000000\n",
              "25%       0.000000     0.000000     1.000000     0.000000\n",
              "50%       0.000000     0.000000     1.000000     0.000000\n",
              "75%       0.000000     0.000000     1.000000     0.000000\n",
              "max       1.000000     1.000000     1.000000     1.000000"
            ]
          },
          "metadata": {
            "tags": []
          },
          "execution_count": 6
        }
      ]
    },
    {
      "cell_type": "code",
      "metadata": {
        "id": "tCyCGuVPXdQx",
        "colab_type": "code",
        "colab": {}
      },
      "source": [
        "comandos['direita'] = comandos[0].map(lambda x: 1 if x == 1 else 0)\n",
        "comandos['esquerda'] = comandos[0].map(lambda x: 1 if x == -1 else 0)\n",
        "comandos['cima'] = comandos[1].map(lambda x: 1 if x == 1 else 0)\n",
        "comandos['baixo'] = comandos[1].map(lambda x: 1 if x == -1 else 0)"
      ],
      "execution_count": 0,
      "outputs": []
    },
    {
      "cell_type": "code",
      "metadata": {
        "id": "QuSH4oR0Y0XH",
        "colab_type": "code",
        "colab": {}
      },
      "source": [
        "comandos = comandos[[2,3,'direita','esquerda','cima','baixo']].rename(index=str, columns={2:'acelera',3:'freia'})"
      ],
      "execution_count": 0,
      "outputs": []
    },
    {
      "cell_type": "code",
      "metadata": {
        "id": "2n2GzrXvVr8C",
        "colab_type": "code",
        "colab": {}
      },
      "source": [
        "imagens = []\n",
        "for img in load_file('/content/drive/My Drive/Colab Notebooks/img.pkl'):\n",
        "  imagens.append(cv2.cvtColor(img, cv2.COLOR_BGR2GRAY)/255)\n",
        "for img in load_file('/content/drive/My Drive/Colab Notebooks/img2.pkl'):\n",
        "  imagens.append(cv2.cvtColor(img, cv2.COLOR_BGR2GRAY)/255)"
      ],
      "execution_count": 0,
      "outputs": []
    },
    {
      "cell_type": "code",
      "metadata": {
        "id": "Jx7nYIudV654",
        "colab_type": "code",
        "colab": {}
      },
      "source": [
        "#teste\n",
        "#gray = cv2.cvtColor(imagens[0], cv2.COLOR_BGR2GRAY)\n",
        "#cv2.imwrite('/content/drive/My Drive/Colab Notebooks/img.jpg',gray)"
      ],
      "execution_count": 0,
      "outputs": []
    },
    {
      "cell_type": "code",
      "metadata": {
        "id": "LLDJCLcWW6v2",
        "colab_type": "code",
        "colab": {}
      },
      "source": [
        "imagens =  np.array(imagens).reshape((2612, 220, 320,1))"
      ],
      "execution_count": 0,
      "outputs": []
    },
    {
      "cell_type": "code",
      "metadata": {
        "id": "ELWkxlwcZNiR",
        "colab_type": "code",
        "colab": {}
      },
      "source": [
        "#input_shape = (img_rows, img_cols, 1)\n",
        "input_shape = (220, 320,1)\n",
        "num_classes = comandos.shape[1]\n",
        "batch_size = 64\n",
        "epochs = 100"
      ],
      "execution_count": 0,
      "outputs": []
    },
    {
      "cell_type": "code",
      "metadata": {
        "id": "2FrWxaiKwz4w",
        "colab_type": "code",
        "colab": {}
      },
      "source": [
        "# CRIANDO MODELO\n",
        "\n",
        "\"\"\"\n",
        "model = Sequential()\n",
        "model.add(Conv2D(128, kernel_size=(8, 8),\n",
        "                 activation='relu',\n",
        "                 input_shape=input_shape))\n",
        "model.add(Conv2D(64, (4, 4), activation='relu'))\n",
        "model.add(MaxPooling2D(pool_size=(2, 2)))\n",
        "model.add(Conv2D(32, (3, 3), activation='relu'))\n",
        "model.add(MaxPooling2D(pool_size=(2, 2)))\n",
        "model.add(Dropout(0.25))\n",
        "model.add(Flatten())\n",
        "model.add(Dense(128, activation='relu'))\n",
        "model.add(Dropout(0.5))\n",
        "model.add(Dense(64, activation='relu'))\n",
        "model.add(Dropout(0.5))\n",
        "model.add(Dense(32, activation='relu'))\n",
        "model.add(Dropout(0.5))\n",
        "model.add(Dense(num_classes, activation='sigmoid'))\n",
        "\"\"\"\n",
        "model = Sequential()\n",
        "model.add(Conv2D(24, kernel_size=(5, 5), strides=(2, 2), activation='relu', input_shape=input_shape))\n",
        "model.add(Conv2D(36, kernel_size=(5, 5), strides=(2, 2), activation='relu'))\n",
        "model.add(Conv2D(48, kernel_size=(5, 5), strides=(2, 2), activation='relu'))\n",
        "model.add(Conv2D(64, kernel_size=(3, 3), activation='relu'))\n",
        "model.add(Conv2D(64, kernel_size=(3, 3), activation='relu'))\n",
        "model.add(MaxPooling2D(pool_size=(2, 2)))\n",
        "model.add(Dropout(0.25))\n",
        "model.add(Flatten())\n",
        "model.add(Dense(2056, activation='relu'))\n",
        "model.add(Dropout(0.5))\n",
        "model.add(Dense(512, activation='relu'))\n",
        "model.add(Dropout(0.5))\n",
        "model.add(Dense(128, activation='relu'))\n",
        "model.add(Dropout(0.5))\n",
        "model.add(Dense(32, activation='relu'))\n",
        "model.add(Dropout(0.5))\n",
        "model.add(Dense(num_classes, activation='sigmoid'))"
      ],
      "execution_count": 0,
      "outputs": []
    },
    {
      "cell_type": "code",
      "metadata": {
        "id": "gIXUI0STBeEb",
        "colab_type": "code",
        "outputId": "56d68d1b-e50c-4fd4-8586-3578e930edb7",
        "colab": {
          "base_uri": "https://localhost:8080/",
          "height": 714
        }
      },
      "source": [
        "model.summary()"
      ],
      "execution_count": 0,
      "outputs": [
        {
          "output_type": "stream",
          "text": [
            "_________________________________________________________________\n",
            "Layer (type)                 Output Shape              Param #   \n",
            "=================================================================\n",
            "conv2d_6 (Conv2D)            (None, 108, 158, 24)      624       \n",
            "_________________________________________________________________\n",
            "conv2d_7 (Conv2D)            (None, 52, 77, 36)        21636     \n",
            "_________________________________________________________________\n",
            "conv2d_8 (Conv2D)            (None, 24, 37, 48)        43248     \n",
            "_________________________________________________________________\n",
            "conv2d_9 (Conv2D)            (None, 22, 35, 64)        27712     \n",
            "_________________________________________________________________\n",
            "conv2d_10 (Conv2D)           (None, 20, 33, 64)        36928     \n",
            "_________________________________________________________________\n",
            "max_pooling2d_2 (MaxPooling2 (None, 10, 16, 64)        0         \n",
            "_________________________________________________________________\n",
            "dropout_5 (Dropout)          (None, 10, 16, 64)        0         \n",
            "_________________________________________________________________\n",
            "flatten_2 (Flatten)          (None, 10240)             0         \n",
            "_________________________________________________________________\n",
            "dense_5 (Dense)              (None, 2056)              21055496  \n",
            "_________________________________________________________________\n",
            "dropout_6 (Dropout)          (None, 2056)              0         \n",
            "_________________________________________________________________\n",
            "dense_6 (Dense)              (None, 512)               1053184   \n",
            "_________________________________________________________________\n",
            "dropout_7 (Dropout)          (None, 512)               0         \n",
            "_________________________________________________________________\n",
            "dense_7 (Dense)              (None, 128)               65664     \n",
            "_________________________________________________________________\n",
            "dropout_8 (Dropout)          (None, 128)               0         \n",
            "_________________________________________________________________\n",
            "dense_8 (Dense)              (None, 32)                4128      \n",
            "_________________________________________________________________\n",
            "dropout_9 (Dropout)          (None, 32)                0         \n",
            "_________________________________________________________________\n",
            "dense_9 (Dense)              (None, 6)                 198       \n",
            "=================================================================\n",
            "Total params: 22,308,818\n",
            "Trainable params: 22,308,818\n",
            "Non-trainable params: 0\n",
            "_________________________________________________________________\n"
          ],
          "name": "stdout"
        }
      ]
    },
    {
      "cell_type": "code",
      "metadata": {
        "id": "63jg_DofcdZ1",
        "colab_type": "code",
        "outputId": "5bbe8308-bad7-466d-fd18-a216a8e4b8fa",
        "colab": {
          "base_uri": "https://localhost:8080/",
          "height": 34
        }
      },
      "source": [
        "imagens.shape[0]"
      ],
      "execution_count": 0,
      "outputs": [
        {
          "output_type": "execute_result",
          "data": {
            "text/plain": [
              "2612"
            ]
          },
          "metadata": {
            "tags": []
          },
          "execution_count": 17
        }
      ]
    },
    {
      "cell_type": "code",
      "metadata": {
        "id": "Tysw4lCxZ24p",
        "colab_type": "code",
        "colab": {}
      },
      "source": [
        "# train, test split\n",
        "from sklearn.model_selection import train_test_split\n",
        "X_train, X_test, y_train, y_test = train_test_split(range(0,imagens.shape[0]),range(0,imagens.shape[0]), test_size=0.05, random_state=42)"
      ],
      "execution_count": 0,
      "outputs": []
    },
    {
      "cell_type": "code",
      "metadata": {
        "id": "8R2GSmELZghZ",
        "colab_type": "code",
        "outputId": "2c9c35c2-64d3-4b00-a84a-665e8a4c0d9e",
        "colab": {
          "base_uri": "https://localhost:8080/",
          "height": 85
        }
      },
      "source": [
        "model.compile(loss=keras.losses.categorical_crossentropy,\n",
        "              optimizer=keras.optimizers.Adadelta(),\n",
        "              metrics=['accuracy'])"
      ],
      "execution_count": 0,
      "outputs": [
        {
          "output_type": "stream",
          "text": [
            "W0731 00:18:54.554337 140388338050944 deprecation_wrapper.py:119] From /usr/local/lib/python3.6/dist-packages/keras/optimizers.py:790: The name tf.train.Optimizer is deprecated. Please use tf.compat.v1.train.Optimizer instead.\n",
            "\n",
            "W0731 00:18:54.563902 140388338050944 deprecation_wrapper.py:119] From /usr/local/lib/python3.6/dist-packages/keras/backend/tensorflow_backend.py:3295: The name tf.log is deprecated. Please use tf.math.log instead.\n",
            "\n"
          ],
          "name": "stderr"
        }
      ]
    },
    {
      "cell_type": "code",
      "metadata": {
        "id": "A8pksz8dcSYJ",
        "colab_type": "code",
        "outputId": "9427c0a6-c7cd-4ef5-e534-8b88b0cc6d51",
        "colab": {
          "base_uri": "https://localhost:8080/",
          "height": 34
        }
      },
      "source": [
        "imagens[X_train,:,:,:].shape"
      ],
      "execution_count": 0,
      "outputs": [
        {
          "output_type": "execute_result",
          "data": {
            "text/plain": [
              "(2481, 220, 320, 1)"
            ]
          },
          "metadata": {
            "tags": []
          },
          "execution_count": 20
        }
      ]
    },
    {
      "cell_type": "code",
      "metadata": {
        "id": "zIdywIfea8c9",
        "colab_type": "code",
        "outputId": "df860d38-7183-4af5-8f12-845de505095a",
        "colab": {
          "base_uri": "https://localhost:8080/",
          "height": 1000
        }
      },
      "source": [
        "earlyStopping = EarlyStopping(monitor='val_loss', patience=20,verbose=0, mode='min')\n",
        "mcp_save = ModelCheckpoint('/content/drive/My Drive/Colab Notebooks/modelo_outrun_2.hdf5', save_best_only=True, monitor='val_loss', mode='min')\n",
        "reduce_lr_loss = ReduceLROnPlateau(monitor='val_loss', factor=0.1, patience=7, verbose=1, epsilon=1e-4, mode='min')\n",
        "\n",
        "model.fit(imagens[X_train,:,:,:], comandos.iloc[X_train],\n",
        "          batch_size=batch_size,\n",
        "          epochs=epochs,\n",
        "          verbose=1,\n",
        "          validation_data=(imagens[X_test,:,:,:], comandos.iloc[X_test]),\n",
        "          callbacks=[earlyStopping,reduce_lr_loss,mcp_save])\n",
        "score = model.evaluate(imagens[X_test,:,:,:], comandos.iloc[X_test], verbose=0)\n",
        "print('Test loss:', score[0])"
      ],
      "execution_count": 0,
      "outputs": [
        {
          "output_type": "stream",
          "text": [
            "/usr/local/lib/python3.6/dist-packages/keras/callbacks.py:1065: UserWarning: `epsilon` argument is deprecated and will be removed, use `min_delta` instead.\n",
            "  warnings.warn('`epsilon` argument is deprecated and '\n",
            "W0731 00:19:13.867279 140388338050944 deprecation.py:323] From /usr/local/lib/python3.6/dist-packages/tensorflow/python/ops/math_grad.py:1250: add_dispatch_support.<locals>.wrapper (from tensorflow.python.ops.array_ops) is deprecated and will be removed in a future version.\n",
            "Instructions for updating:\n",
            "Use tf.where in 2.0, which has the same broadcast rule as np.where\n"
          ],
          "name": "stderr"
        },
        {
          "output_type": "stream",
          "text": [
            "Train on 2481 samples, validate on 131 samples\n",
            "Epoch 1/100\n",
            "2481/2481 [==============================] - 12s 5ms/step - loss: 1.7488 - acc: 0.8138 - val_loss: 1.2948 - val_acc: 0.9237\n",
            "Epoch 2/100\n",
            "2481/2481 [==============================] - 3s 1ms/step - loss: 1.5398 - acc: 0.8928 - val_loss: 1.2724 - val_acc: 0.9237\n",
            "Epoch 3/100\n",
            "2481/2481 [==============================] - 3s 1ms/step - loss: 1.4981 - acc: 0.8996 - val_loss: 1.2094 - val_acc: 0.9237\n",
            "Epoch 4/100\n",
            "2481/2481 [==============================] - 3s 1ms/step - loss: 1.4629 - acc: 0.9093 - val_loss: 1.2027 - val_acc: 0.9237\n",
            "Epoch 5/100\n",
            "2481/2481 [==============================] - 3s 1ms/step - loss: 1.4307 - acc: 0.9125 - val_loss: 1.1916 - val_acc: 0.9237\n",
            "Epoch 6/100\n",
            "2481/2481 [==============================] - 3s 1ms/step - loss: 1.4209 - acc: 0.9113 - val_loss: 1.1846 - val_acc: 0.9237\n",
            "Epoch 7/100\n",
            "2481/2481 [==============================] - 3s 1ms/step - loss: 1.4240 - acc: 0.9141 - val_loss: 1.1930 - val_acc: 0.9237\n",
            "Epoch 8/100\n",
            "2481/2481 [==============================] - 3s 1ms/step - loss: 1.4001 - acc: 0.9146 - val_loss: 1.1868 - val_acc: 0.9237\n",
            "Epoch 9/100\n",
            "2481/2481 [==============================] - 3s 1ms/step - loss: 1.4064 - acc: 0.9154 - val_loss: 1.2264 - val_acc: 0.9237\n",
            "Epoch 10/100\n",
            "2481/2481 [==============================] - 3s 1ms/step - loss: 1.3825 - acc: 0.9154 - val_loss: 1.1792 - val_acc: 0.9237\n",
            "Epoch 11/100\n",
            "2481/2481 [==============================] - 3s 1ms/step - loss: 1.3834 - acc: 0.9158 - val_loss: 1.1985 - val_acc: 0.9237\n",
            "Epoch 12/100\n",
            "2481/2481 [==============================] - 3s 1ms/step - loss: 1.3697 - acc: 0.9158 - val_loss: 1.1990 - val_acc: 0.9237\n",
            "Epoch 13/100\n",
            "2481/2481 [==============================] - 3s 1ms/step - loss: 1.3807 - acc: 0.9158 - val_loss: 1.2015 - val_acc: 0.9237\n",
            "Epoch 14/100\n",
            "2481/2481 [==============================] - 3s 1ms/step - loss: 1.3806 - acc: 0.9158 - val_loss: 1.1832 - val_acc: 0.9237\n",
            "Epoch 15/100\n",
            "2481/2481 [==============================] - 3s 1ms/step - loss: 1.3617 - acc: 0.9158 - val_loss: 1.1828 - val_acc: 0.9237\n",
            "Epoch 16/100\n",
            "2481/2481 [==============================] - 3s 1ms/step - loss: 1.3621 - acc: 0.9158 - val_loss: 1.1912 - val_acc: 0.9237\n",
            "Epoch 17/100\n",
            "2481/2481 [==============================] - 3s 1ms/step - loss: 1.3610 - acc: 0.9158 - val_loss: 1.1722 - val_acc: 0.9237\n",
            "Epoch 18/100\n",
            "2481/2481 [==============================] - 3s 1ms/step - loss: 1.3556 - acc: 0.9158 - val_loss: 1.2003 - val_acc: 0.9237\n",
            "Epoch 19/100\n",
            "2481/2481 [==============================] - 3s 1ms/step - loss: 1.3544 - acc: 0.9158 - val_loss: 1.1838 - val_acc: 0.9237\n",
            "Epoch 20/100\n",
            "2481/2481 [==============================] - 3s 1ms/step - loss: 1.3491 - acc: 0.9158 - val_loss: 1.1659 - val_acc: 0.9237\n",
            "Epoch 21/100\n",
            "2481/2481 [==============================] - 3s 1ms/step - loss: 1.3384 - acc: 0.9158 - val_loss: 1.1766 - val_acc: 0.9237\n",
            "Epoch 22/100\n",
            "2481/2481 [==============================] - 3s 1ms/step - loss: 1.3358 - acc: 0.9158 - val_loss: 1.1755 - val_acc: 0.9237\n",
            "Epoch 23/100\n",
            "2481/2481 [==============================] - 3s 1ms/step - loss: 1.3288 - acc: 0.9158 - val_loss: 1.1452 - val_acc: 0.9237\n",
            "Epoch 24/100\n",
            "2481/2481 [==============================] - 3s 1ms/step - loss: 1.3171 - acc: 0.9158 - val_loss: 1.1721 - val_acc: 0.9237\n",
            "Epoch 25/100\n",
            "2481/2481 [==============================] - 3s 1ms/step - loss: 1.3054 - acc: 0.9158 - val_loss: 1.1873 - val_acc: 0.9237\n",
            "Epoch 26/100\n",
            "2481/2481 [==============================] - 3s 1ms/step - loss: 1.3097 - acc: 0.9158 - val_loss: 1.1334 - val_acc: 0.9237\n",
            "Epoch 27/100\n",
            "2481/2481 [==============================] - 3s 1ms/step - loss: 1.2875 - acc: 0.9158 - val_loss: 1.1244 - val_acc: 0.9237\n",
            "Epoch 28/100\n",
            "2481/2481 [==============================] - 3s 1ms/step - loss: 1.2901 - acc: 0.9158 - val_loss: 1.1820 - val_acc: 0.9237\n",
            "Epoch 29/100\n",
            "2481/2481 [==============================] - 3s 1ms/step - loss: 1.2821 - acc: 0.9158 - val_loss: 1.1336 - val_acc: 0.9237\n",
            "Epoch 30/100\n",
            "2481/2481 [==============================] - 3s 1ms/step - loss: 1.2731 - acc: 0.9158 - val_loss: 1.1333 - val_acc: 0.9237\n",
            "Epoch 31/100\n",
            "2481/2481 [==============================] - 4s 1ms/step - loss: 1.2652 - acc: 0.9158 - val_loss: 1.1577 - val_acc: 0.9237\n",
            "Epoch 32/100\n",
            "2481/2481 [==============================] - 3s 1ms/step - loss: 1.2532 - acc: 0.9158 - val_loss: 1.1301 - val_acc: 0.9237\n",
            "Epoch 33/100\n",
            "2481/2481 [==============================] - 3s 1ms/step - loss: 1.2573 - acc: 0.9158 - val_loss: 1.1413 - val_acc: 0.9237\n",
            "Epoch 34/100\n",
            "2481/2481 [==============================] - 3s 1ms/step - loss: 1.2382 - acc: 0.9158 - val_loss: 1.1182 - val_acc: 0.9237\n",
            "Epoch 35/100\n",
            "2481/2481 [==============================] - 3s 1ms/step - loss: 1.2333 - acc: 0.9158 - val_loss: 1.1448 - val_acc: 0.9237\n",
            "Epoch 36/100\n",
            "2481/2481 [==============================] - 3s 1ms/step - loss: 1.2150 - acc: 0.9158 - val_loss: 1.1461 - val_acc: 0.9237\n",
            "Epoch 37/100\n",
            "2481/2481 [==============================] - 3s 1ms/step - loss: 1.1960 - acc: 0.9154 - val_loss: 1.0913 - val_acc: 0.9237\n",
            "Epoch 38/100\n",
            "2481/2481 [==============================] - 3s 1ms/step - loss: 1.1656 - acc: 0.9146 - val_loss: 1.0322 - val_acc: 0.9237\n",
            "Epoch 39/100\n",
            "2481/2481 [==============================] - 3s 1ms/step - loss: 1.1109 - acc: 0.9137 - val_loss: 1.1171 - val_acc: 0.9237\n",
            "Epoch 40/100\n",
            "2481/2481 [==============================] - 3s 1ms/step - loss: 1.0768 - acc: 0.9073 - val_loss: 1.0262 - val_acc: 0.9237\n",
            "Epoch 41/100\n",
            "2481/2481 [==============================] - 3s 1ms/step - loss: 1.0381 - acc: 0.9073 - val_loss: 1.0557 - val_acc: 0.9237\n",
            "Epoch 42/100\n",
            "2481/2481 [==============================] - 3s 1ms/step - loss: 1.0395 - acc: 0.9057 - val_loss: 1.0221 - val_acc: 0.9237\n",
            "Epoch 43/100\n",
            "2481/2481 [==============================] - 3s 1ms/step - loss: 0.9838 - acc: 0.8972 - val_loss: 1.0452 - val_acc: 0.9237\n",
            "Epoch 44/100\n",
            "2481/2481 [==============================] - 3s 1ms/step - loss: 0.9698 - acc: 0.9033 - val_loss: 1.0529 - val_acc: 0.9237\n",
            "Epoch 45/100\n",
            "2481/2481 [==============================] - 3s 1ms/step - loss: 0.9551 - acc: 0.9025 - val_loss: 1.0282 - val_acc: 0.9237\n",
            "Epoch 46/100\n",
            "2481/2481 [==============================] - 4s 1ms/step - loss: 0.9245 - acc: 0.9004 - val_loss: 0.9941 - val_acc: 0.9237\n",
            "Epoch 47/100\n",
            "2481/2481 [==============================] - 3s 1ms/step - loss: 0.8935 - acc: 0.9021 - val_loss: 1.0853 - val_acc: 0.9084\n",
            "Epoch 48/100\n",
            "2481/2481 [==============================] - 3s 1ms/step - loss: 0.8872 - acc: 0.8944 - val_loss: 1.0788 - val_acc: 0.9237\n",
            "Epoch 49/100\n",
            "2481/2481 [==============================] - 3s 1ms/step - loss: 0.8501 - acc: 0.8988 - val_loss: 1.0854 - val_acc: 0.9084\n",
            "Epoch 50/100\n",
            "2481/2481 [==============================] - 3s 1ms/step - loss: 0.8562 - acc: 0.8892 - val_loss: 1.0989 - val_acc: 0.9008\n",
            "Epoch 51/100\n",
            "2481/2481 [==============================] - 3s 1ms/step - loss: 0.8250 - acc: 0.8904 - val_loss: 1.1228 - val_acc: 0.9084\n",
            "Epoch 52/100\n",
            "2481/2481 [==============================] - 3s 1ms/step - loss: 0.8165 - acc: 0.8859 - val_loss: 1.0998 - val_acc: 0.9160\n",
            "Epoch 53/100\n",
            "2481/2481 [==============================] - 3s 1ms/step - loss: 0.8254 - acc: 0.8875 - val_loss: 1.1266 - val_acc: 0.9237\n",
            "\n",
            "Epoch 00053: ReduceLROnPlateau reducing learning rate to 0.1.\n",
            "Epoch 54/100\n",
            "2481/2481 [==============================] - 3s 1ms/step - loss: 0.7831 - acc: 0.8843 - val_loss: 1.1899 - val_acc: 0.9237\n",
            "Epoch 55/100\n",
            "2481/2481 [==============================] - 3s 1ms/step - loss: 0.7653 - acc: 0.8924 - val_loss: 1.2170 - val_acc: 0.9008\n",
            "Epoch 56/100\n",
            "2481/2481 [==============================] - 3s 1ms/step - loss: 0.7642 - acc: 0.8831 - val_loss: 1.2509 - val_acc: 0.9008\n",
            "Epoch 57/100\n",
            "2481/2481 [==============================] - 3s 1ms/step - loss: 0.7550 - acc: 0.8924 - val_loss: 1.2290 - val_acc: 0.9008\n",
            "Epoch 58/100\n",
            "2481/2481 [==============================] - 3s 1ms/step - loss: 0.7531 - acc: 0.8855 - val_loss: 1.2324 - val_acc: 0.9008\n",
            "Epoch 59/100\n",
            "2481/2481 [==============================] - 3s 1ms/step - loss: 0.7423 - acc: 0.8956 - val_loss: 1.2970 - val_acc: 0.9084\n",
            "Epoch 60/100\n",
            "2481/2481 [==============================] - 3s 1ms/step - loss: 0.7507 - acc: 0.8879 - val_loss: 1.2733 - val_acc: 0.9084\n",
            "\n",
            "Epoch 00060: ReduceLROnPlateau reducing learning rate to 0.010000000149011612.\n",
            "Epoch 61/100\n",
            "2481/2481 [==============================] - 3s 1ms/step - loss: 0.7411 - acc: 0.8884 - val_loss: 1.2750 - val_acc: 0.9084\n",
            "Epoch 62/100\n",
            "2481/2481 [==============================] - 3s 1ms/step - loss: 0.7527 - acc: 0.8936 - val_loss: 1.2734 - val_acc: 0.9084\n",
            "Epoch 63/100\n",
            "2481/2481 [==============================] - 3s 1ms/step - loss: 0.7459 - acc: 0.8916 - val_loss: 1.2777 - val_acc: 0.9084\n",
            "Epoch 64/100\n",
            "2481/2481 [==============================] - 3s 1ms/step - loss: 0.7416 - acc: 0.8896 - val_loss: 1.2909 - val_acc: 0.9084\n",
            "Epoch 65/100\n",
            "2481/2481 [==============================] - 3s 1ms/step - loss: 0.7390 - acc: 0.8855 - val_loss: 1.2970 - val_acc: 0.9084\n",
            "Epoch 66/100\n",
            "2481/2481 [==============================] - 3s 1ms/step - loss: 0.7389 - acc: 0.8900 - val_loss: 1.2945 - val_acc: 0.9084\n",
            "Test loss: 1.2949318662854552\n"
          ],
          "name": "stdout"
        }
      ]
    },
    {
      "cell_type": "code",
      "metadata": {
        "id": "mwja5GCgc3f3",
        "colab_type": "code",
        "colab": {}
      },
      "source": [
        "resultados = pd.DataFrame(model.predict_proba(imagens),columns=['acelera','freia','direita','esquerda','cima','baixo']).round(2)"
      ],
      "execution_count": 0,
      "outputs": []
    },
    {
      "cell_type": "code",
      "metadata": {
        "id": "X67WDlDzTKlB",
        "colab_type": "code",
        "outputId": "30c68357-7b51-489d-a907-b707fc461b92",
        "colab": {
          "base_uri": "https://localhost:8080/",
          "height": 297
        }
      },
      "source": [
        "resultados.describe()"
      ],
      "execution_count": 0,
      "outputs": [
        {
          "output_type": "execute_result",
          "data": {
            "text/html": [
              "<div>\n",
              "<style scoped>\n",
              "    .dataframe tbody tr th:only-of-type {\n",
              "        vertical-align: middle;\n",
              "    }\n",
              "\n",
              "    .dataframe tbody tr th {\n",
              "        vertical-align: top;\n",
              "    }\n",
              "\n",
              "    .dataframe thead th {\n",
              "        text-align: right;\n",
              "    }\n",
              "</style>\n",
              "<table border=\"1\" class=\"dataframe\">\n",
              "  <thead>\n",
              "    <tr style=\"text-align: right;\">\n",
              "      <th></th>\n",
              "      <th>acelera</th>\n",
              "      <th>freia</th>\n",
              "      <th>direita</th>\n",
              "      <th>esquerda</th>\n",
              "      <th>cima</th>\n",
              "      <th>baixo</th>\n",
              "    </tr>\n",
              "  </thead>\n",
              "  <tbody>\n",
              "    <tr>\n",
              "      <th>count</th>\n",
              "      <td>2612.000000</td>\n",
              "      <td>2612.000000</td>\n",
              "      <td>2612.000000</td>\n",
              "      <td>2612.000000</td>\n",
              "      <td>2612.000000</td>\n",
              "      <td>2612.000000</td>\n",
              "    </tr>\n",
              "    <tr>\n",
              "      <th>mean</th>\n",
              "      <td>0.978185</td>\n",
              "      <td>0.030965</td>\n",
              "      <td>0.283488</td>\n",
              "      <td>0.274747</td>\n",
              "      <td>0.023224</td>\n",
              "      <td>0.005310</td>\n",
              "    </tr>\n",
              "    <tr>\n",
              "      <th>std</th>\n",
              "      <td>0.085541</td>\n",
              "      <td>0.117292</td>\n",
              "      <td>0.424067</td>\n",
              "      <td>0.417099</td>\n",
              "      <td>0.083751</td>\n",
              "      <td>0.023454</td>\n",
              "    </tr>\n",
              "    <tr>\n",
              "      <th>min</th>\n",
              "      <td>0.430000</td>\n",
              "      <td>0.000000</td>\n",
              "      <td>0.000000</td>\n",
              "      <td>0.000000</td>\n",
              "      <td>0.000000</td>\n",
              "      <td>0.000000</td>\n",
              "    </tr>\n",
              "    <tr>\n",
              "      <th>25%</th>\n",
              "      <td>1.000000</td>\n",
              "      <td>0.000000</td>\n",
              "      <td>0.000000</td>\n",
              "      <td>0.000000</td>\n",
              "      <td>0.000000</td>\n",
              "      <td>0.000000</td>\n",
              "    </tr>\n",
              "    <tr>\n",
              "      <th>50%</th>\n",
              "      <td>1.000000</td>\n",
              "      <td>0.000000</td>\n",
              "      <td>0.000000</td>\n",
              "      <td>0.000000</td>\n",
              "      <td>0.000000</td>\n",
              "      <td>0.000000</td>\n",
              "    </tr>\n",
              "    <tr>\n",
              "      <th>75%</th>\n",
              "      <td>1.000000</td>\n",
              "      <td>0.000000</td>\n",
              "      <td>0.730000</td>\n",
              "      <td>0.770000</td>\n",
              "      <td>0.000000</td>\n",
              "      <td>0.000000</td>\n",
              "    </tr>\n",
              "    <tr>\n",
              "      <th>max</th>\n",
              "      <td>1.000000</td>\n",
              "      <td>0.850000</td>\n",
              "      <td>1.000000</td>\n",
              "      <td>1.000000</td>\n",
              "      <td>0.510000</td>\n",
              "      <td>0.180000</td>\n",
              "    </tr>\n",
              "  </tbody>\n",
              "</table>\n",
              "</div>"
            ],
            "text/plain": [
              "           acelera        freia  ...         cima        baixo\n",
              "count  2612.000000  2612.000000  ...  2612.000000  2612.000000\n",
              "mean      0.978185     0.030965  ...     0.023224     0.005310\n",
              "std       0.085541     0.117292  ...     0.083751     0.023454\n",
              "min       0.430000     0.000000  ...     0.000000     0.000000\n",
              "25%       1.000000     0.000000  ...     0.000000     0.000000\n",
              "50%       1.000000     0.000000  ...     0.000000     0.000000\n",
              "75%       1.000000     0.000000  ...     0.000000     0.000000\n",
              "max       1.000000     0.850000  ...     0.510000     0.180000\n",
              "\n",
              "[8 rows x 6 columns]"
            ]
          },
          "metadata": {
            "tags": []
          },
          "execution_count": 23
        }
      ]
    },
    {
      "cell_type": "code",
      "metadata": {
        "id": "2PN9GL2CUwur",
        "colab_type": "code",
        "colab": {}
      },
      "source": [
        ""
      ],
      "execution_count": 0,
      "outputs": []
    }
  ]
}