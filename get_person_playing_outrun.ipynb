{
 "cells": [
  {
   "cell_type": "code",
   "execution_count": 31,
   "metadata": {},
   "outputs": [
    {
     "data": {
      "text/html": [
       "<style>.container { width:100% !important; }</style>"
      ],
      "text/plain": [
       "<IPython.core.display.HTML object>"
      ]
     },
     "metadata": {},
     "output_type": "display_data"
    }
   ],
   "source": [
    "from functions import *\n",
    "from IPython.core.display import display, HTML\n",
    "display(HTML(\"<style>.container { width:100% !important; }</style>\"))\n",
    "import matplotlib.pyplot as plt\n",
    "from inputs import get_gamepad\n",
    "import win32gui\n",
    "import win32ui\n",
    "import win32con\n",
    "import win32process\n",
    "import win32api\n",
    "import cv2\n",
    "import scipy.misc\n",
    "import imageio\n",
    "import pywin\n",
    "import math\n",
    "import threading\n",
    "import math"
   ]
  },
  {
   "cell_type": "code",
   "execution_count": 2,
   "metadata": {},
   "outputs": [],
   "source": [
    "import pandas as pd"
   ]
  },
  {
   "cell_type": "code",
   "execution_count": 3,
   "metadata": {},
   "outputs": [],
   "source": [
    "import time"
   ]
  },
  {
   "cell_type": "code",
   "execution_count": 4,
   "metadata": {},
   "outputs": [],
   "source": [
    "from tqdm import tqdm"
   ]
  },
  {
   "cell_type": "code",
   "execution_count": 33,
   "metadata": {},
   "outputs": [],
   "source": [
    "from XboxController import *"
   ]
  },
  {
   "cell_type": "markdown",
   "metadata": {},
   "source": [
    "# Find your emulator PID"
   ]
  },
  {
   "cell_type": "code",
   "execution_count": 6,
   "metadata": {},
   "outputs": [],
   "source": [
    "# colocar aqui o PID do processo do emulador\n",
    "pid = 8468"
   ]
  },
  {
   "cell_type": "code",
   "execution_count": 7,
   "metadata": {},
   "outputs": [],
   "source": [
    "def enum_window_callback(hwnd, pid):\n",
    "    tid, current_pid = win32process.GetWindowThreadProcessId(hwnd)\n",
    "    if pid == current_pid and win32gui.IsWindowVisible(hwnd):\n",
    "        windows.append(hwnd)"
   ]
  },
  {
   "cell_type": "code",
   "execution_count": 8,
   "metadata": {},
   "outputs": [
    {
     "name": "stdout",
     "output_type": "stream",
     "text": [
      "['Gens - Genesis : OUTRUN                                          ']\n"
     ]
    }
   ],
   "source": [
    "windows = []\n",
    "win32gui.EnumWindows(enum_window_callback, pid)\n",
    "\n",
    "# Now windows variable contains a list of hwnds of notepad\n",
    "\n",
    "# Output of captions of the found windows:\n",
    "print([win32gui.GetWindowText(item) for item in windows])"
   ]
  },
  {
   "cell_type": "code",
   "execution_count": 9,
   "metadata": {},
   "outputs": [],
   "source": [
    "process_name = [win32gui.GetWindowText(item) for item in windows][0]"
   ]
  },
  {
   "cell_type": "markdown",
   "metadata": {},
   "source": [
    "Fim"
   ]
  },
  {
   "cell_type": "code",
   "execution_count": 10,
   "metadata": {},
   "outputs": [],
   "source": [
    "width = 330#320\n",
    "height = 300#280\n",
    "left = 0\n",
    "top = 0"
   ]
  },
  {
   "cell_type": "code",
   "execution_count": 34,
   "metadata": {},
   "outputs": [
    {
     "name": "stderr",
     "output_type": "stream",
     "text": [
      "Exception in thread Thread-8:\n",
      "Traceback (most recent call last):\n",
      "  File \"C:\\Users\\vinic\\Anaconda3\\lib\\threading.py\", line 917, in _bootstrap_inner\n",
      "    self.run()\n",
      "  File \"C:\\Users\\vinic\\Anaconda3\\lib\\threading.py\", line 865, in run\n",
      "    self._target(*self._args, **self._kwargs)\n",
      "  File \"C:\\Users\\vinic\\Documents\\OUTRUN\\XboxController.py\", line 55, in _monitor_controller\n",
      "    events = get_gamepad()\n",
      "  File \"C:\\Users\\vinic\\Anaconda3\\lib\\site-packages\\inputs.py\", line 3679, in get_gamepad\n",
      "    return gamepad.read()\n",
      "  File \"C:\\Users\\vinic\\Anaconda3\\lib\\site-packages\\inputs.py\", line 2517, in read\n",
      "    return next(iter(self))\n",
      "  File \"C:\\Users\\vinic\\Anaconda3\\lib\\site-packages\\inputs.py\", line 2686, in __iter__\n",
      "    self.__check_state()\n",
      "  File \"C:\\Users\\vinic\\Anaconda3\\lib\\site-packages\\inputs.py\", line 2696, in __check_state\n",
      "    \"Gamepad %d is not connected\" % self.__device_number)\n",
      "inputs.UnpluggedError: Gamepad 0 is not connected\n",
      "\n",
      "Exception in thread Thread-6:\n",
      "Traceback (most recent call last):\n",
      "  File \"C:\\Users\\vinic\\Anaconda3\\lib\\threading.py\", line 917, in _bootstrap_inner\n",
      "    self.run()\n",
      "  File \"C:\\Users\\vinic\\Anaconda3\\lib\\threading.py\", line 865, in run\n",
      "    self._target(*self._args, **self._kwargs)\n",
      "  File \"<ipython-input-5-3e76b7201e30>\", line 49, in _monitor_controller\n",
      "    events = get_gamepad()\n",
      "  File \"C:\\Users\\vinic\\Anaconda3\\lib\\site-packages\\inputs.py\", line 3679, in get_gamepad\n",
      "    return gamepad.read()\n",
      "  File \"C:\\Users\\vinic\\Anaconda3\\lib\\site-packages\\inputs.py\", line 2517, in read\n",
      "    return next(iter(self))\n",
      "  File \"C:\\Users\\vinic\\Anaconda3\\lib\\site-packages\\inputs.py\", line 2686, in __iter__\n",
      "    self.__check_state()\n",
      "  File \"C:\\Users\\vinic\\Anaconda3\\lib\\site-packages\\inputs.py\", line 2696, in __check_state\n",
      "    \"Gamepad %d is not connected\" % self.__device_number)\n",
      "inputs.UnpluggedError: Gamepad 0 is not connected\n",
      "\n"
     ]
    }
   ],
   "source": [
    "controller = XboxController()"
   ]
  },
  {
   "cell_type": "code",
   "execution_count": 12,
   "metadata": {
    "scrolled": true
   },
   "outputs": [],
   "source": [
    "def get_program_image_and_key(con):\n",
    "    hwnd = win32gui.FindWindow(None, process_name)\n",
    "    wDC = win32gui.GetWindowDC(hwnd)\n",
    "    dcObj=win32ui.CreateDCFromHandle(wDC)\n",
    "    cDC=dcObj.CreateCompatibleDC()\n",
    "\n",
    "    bmp = win32ui.CreateBitmap()\n",
    "    bmp.CreateCompatibleBitmap(dcObj, width, height)\n",
    "    cDC.SelectObject(bmp)\n",
    "    cDC.BitBlt((0, 0), (width, height), dcObj, (left, top), win32con.SRCCOPY)\n",
    "\n",
    "    signedIntsArray = bmp.GetBitmapBits(True)\n",
    "    img = np.fromstring(signedIntsArray, dtype='uint8')\n",
    "    img.shape = (height,width,4)\n",
    "    img = img[60:280,7:327,[2,1,0]]\n",
    "    \n",
    "    #salvando imagem, se eu quiser\n",
    "    #scipy.misc.imsave('.\\Screenshot\\\\' +str(i)+ '.png',img)\n",
    "    \n",
    "    # Free Resources\n",
    "    dcObj.DeleteDC()\n",
    "    cDC.DeleteDC()\n",
    "    win32gui.ReleaseDC(hwnd, wDC)\n",
    "    win32gui.DeleteObject(bmp.GetHandle())\n",
    "    return img, con.read()"
   ]
  },
  {
   "cell_type": "code",
   "execution_count": 17,
   "metadata": {},
   "outputs": [],
   "source": [
    "seqimg = []"
   ]
  },
  {
   "cell_type": "code",
   "execution_count": 18,
   "metadata": {},
   "outputs": [],
   "source": [
    "seqcmds = []"
   ]
  },
  {
   "cell_type": "code",
   "execution_count": null,
   "metadata": {},
   "outputs": [],
   "source": [
    "for i in tqdm(range(1000)):\n",
    "    img, controls =  get_program_image_and_key(controller)\n",
    "    seqimg.append(img)\n",
    "    seqcmds.append(controls)\n",
    "    time.sleep(1)"
   ]
  },
  {
   "cell_type": "code",
   "execution_count": 28,
   "metadata": {},
   "outputs": [
    {
     "data": {
      "text/plain": [
       "<matplotlib.image.AxesImage at 0x28f823144a8>"
      ]
     },
     "execution_count": 28,
     "metadata": {},
     "output_type": "execute_result"
    },
    {
     "data": {
      "image/png": "[encoded data removed]",
      "text/plain": [
       "<Figure size 432x288 with 1 Axes>"
      ]
     },
     "metadata": {
      "needs_background": "light"
     },
     "output_type": "display_data"
    }
   ],
   "source": [
    "plt.imshow(seqimg[730])"
   ]
  },
  {
   "cell_type": "code",
   "execution_count": 27,
   "metadata": {},
   "outputs": [
    {
     "data": {
      "text/plain": [
       "[0, 0, 0, 0]"
      ]
     },
     "execution_count": 27,
     "metadata": {},
     "output_type": "execute_result"
    }
   ],
   "source": [
    "seqcmds[730]"
   ]
  },
  {
   "cell_type": "code",
   "execution_count": 29,
   "metadata": {},
   "outputs": [],
   "source": [
    "with open('./Screenshot/img2.pkl','wb') as f:\n",
    "    pickle.dump(seqimg, f)\n",
    "\n",
    "with open('./Screenshot/comando2.pkl','wb') as f:\n",
    "    pickle.dump(seqimg, f)"
   ]
  },
  {
   "cell_type": "markdown",
   "metadata": {},
   "source": [
    "# End of movement recording"
   ]
  }
 ],
 "metadata": {
  "kernelspec": {
   "display_name": "Python 3",
   "language": "python",
   "name": "python3"
  },
  "language_info": {
   "codemirror_mode": {
    "name": "ipython",
    "version": 3
   },
   "file_extension": ".py",
   "mimetype": "text/x-python",
   "name": "python",
   "nbconvert_exporter": "python",
   "pygments_lexer": "ipython3",
   "version": "3.7.3"
  }
 },
 "nbformat": 4,
 "nbformat_minor": 2
}
