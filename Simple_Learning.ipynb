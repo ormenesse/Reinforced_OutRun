{
  "nbformat": 4,
  "nbformat_minor": 0,
  "metadata": {
    "accelerator": "GPU",
    "colab": {
      "name": "Simple_Learning.ipynb",
      "version": "0.3.2",
      "provenance": [],
      "collapsed_sections": []
    },
    "kernelspec": {
      "display_name": "Python 3",
      "language": "python",
      "name": "python3"
    },
    "language_info": {
      "codemirror_mode": {
        "name": "ipython",
        "version": 3
      },
      "file_extension": ".py",
      "mimetype": "text/x-python",
      "name": "python",
      "nbconvert_exporter": "python",
      "pygments_lexer": "ipython3",
      "version": "3.7.3"
    }
  },
  "cells": [
    {
      "cell_type": "code",
      "metadata": {
        "colab_type": "code",
        "id": "cIrIh4JntiUo",
        "colab": {}
      },
      "source": [
        "import pandas as pd\n",
        "import numpy as np\n",
        "import cv2\n",
        "import pickle"
      ],
      "execution_count": 0,
      "outputs": []
    },
    {
      "cell_type": "code",
      "metadata": {
        "id": "om_f8ZhGqg_w",
        "colab_type": "code",
        "outputId": "b6d22589-a8ac-43a7-d97e-1258c88e27d1",
        "colab": {
          "base_uri": "https://localhost:8080/",
          "height": 17
        }
      },
      "source": [
        "from IPython.core.display import display, HTML\n",
        "display(HTML(\"<style>.container { width:100% !important; }</style>\"))"
      ],
      "execution_count": 0,
      "outputs": [
        {
          "output_type": "display_data",
          "data": {
            "text/html": [
              "<style>.container { width:100% !important; }</style>"
            ],
            "text/plain": [
              "<IPython.core.display.HTML object>"
            ]
          },
          "metadata": {
            "tags": []
          }
        }
      ]
    },
    {
      "cell_type": "code",
      "metadata": {
        "id": "CKdfujxnqg_6",
        "colab_type": "code",
        "colab": {}
      },
      "source": [
        "import matplotlib.pyplot as plt"
      ],
      "execution_count": 0,
      "outputs": []
    },
    {
      "cell_type": "code",
      "metadata": {
        "id": "jlFXB9NhqhAD",
        "colab_type": "code",
        "colab": {}
      },
      "source": [
        "import seaborn as sns"
      ],
      "execution_count": 0,
      "outputs": []
    },
    {
      "cell_type": "code",
      "metadata": {
        "id": "fU1TpubVqhAL",
        "colab_type": "code",
        "colab": {}
      },
      "source": [
        "from sklearn.metrics import confusion_matrix\n",
        "from sklearn.metrics import accuracy_score\n",
        "from sklearn.metrics import roc_auc_score\n",
        "from sklearn.model_selection import GridSearchCV\n",
        "from sklearn.metrics import matthews_corrcoef\n",
        "from sklearn.metrics import roc_curve"
      ],
      "execution_count": 0,
      "outputs": []
    },
    {
      "cell_type": "code",
      "metadata": {
        "id": "xHDI9L9wqhAR",
        "colab_type": "code",
        "colab": {}
      },
      "source": [
        "import warnings\n",
        "warnings.filterwarnings(\"ignore\")"
      ],
      "execution_count": 0,
      "outputs": []
    },
    {
      "cell_type": "code",
      "metadata": {
        "colab_type": "code",
        "id": "dsUuavMntuo3",
        "outputId": "4d86898e-60c3-4baa-b89b-595f9f26e90c",
        "colab": {
          "base_uri": "https://localhost:8080/",
          "height": 35
        }
      },
      "source": [
        "from time import time\n",
        "import keras\n",
        "import keras.backend as K\n",
        "from keras import metrics\n",
        "from keras.engine.topology import Layer, InputSpec\n",
        "from keras.layers import Dense, Input, Conv1D, Conv2D, MaxPooling1D, MaxPooling2D\n",
        "from keras.models import Model\n",
        "from keras.optimizers import SGD\n",
        "from keras import callbacks\n",
        "from keras.initializers import VarianceScaling\n",
        "from keras.layers.normalization import BatchNormalization\n",
        "from keras.models import Sequential, Model\n",
        "from keras.layers import Dense, Activation, Dropout, Concatenate, Flatten, Reshape\n",
        "from keras.callbacks import EarlyStopping, ModelCheckpoint,ReduceLROnPlateau"
      ],
      "execution_count": 0,
      "outputs": [
        {
          "output_type": "stream",
          "text": [
            "Using TensorFlow backend.\n"
          ],
          "name": "stderr"
        }
      ]
    },
    {
      "cell_type": "code",
      "metadata": {
        "colab_type": "code",
        "id": "DvoTuxwOUIlu",
        "colab": {}
      },
      "source": [
        "def load_file(nome_arquivo):\n",
        "    with open(nome_arquivo, 'rb') as input:\n",
        "        objeto = pickle.load(input)\n",
        "    return objeto"
      ],
      "execution_count": 0,
      "outputs": []
    },
    {
      "cell_type": "code",
      "metadata": {
        "colab_type": "code",
        "id": "2xC2rwiFTqlw",
        "outputId": "0fefce92-d9cf-4aef-9257-14501c07bf19",
        "colab": {
          "base_uri": "https://localhost:8080/",
          "height": 124
        }
      },
      "source": [
        "from google.colab import drive\n",
        "drive.mount('/content/drive')"
      ],
      "execution_count": 0,
      "outputs": [
        {
          "output_type": "stream",
          "text": [
            "Go to this URL in a browser: https://accounts.google.com/o/oauth2/auth?client_id=947318989803-6bn6qk8qdgf4n4g3pfee6491hc0brc4i.apps.googleusercontent.com&redirect_uri=urn%3Aietf%3Awg%3Aoauth%3A2.0%3Aoob&scope=email%20https%3A%2F%2Fwww.googleapis.com%2Fauth%2Fdocs.test%20https%3A%2F%2Fwww.googleapis.com%2Fauth%2Fdrive%20https%3A%2F%2Fwww.googleapis.com%2Fauth%2Fdrive.photos.readonly%20https%3A%2F%2Fwww.googleapis.com%2Fauth%2Fpeopleapi.readonly&response_type=code\n",
            "\n",
            "Enter your authorization code:\n",
            "··········\n",
            "Mounted at /content/drive\n"
          ],
          "name": "stdout"
        }
      ]
    },
    {
      "cell_type": "code",
      "metadata": {
        "colab_type": "code",
        "id": "qexfW-GZVCFu",
        "colab": {}
      },
      "source": [
        "#comandos = pd.concat([pd.DataFrame(load_file('/content/drive/My Drive/Colab Notebooks/comando_new.pkl')),\\\n",
        "#          pd.DataFrame(load_file('/content/drive/My Drive/Colab Notebooks/img_new.pkl'))],\\\n",
        "#          axis=0)\n",
        "comandos = pd.DataFrame(load_file('/content/drive/My Drive/Colab Notebooks/comando_new.pkl'))"
      ],
      "execution_count": 0,
      "outputs": []
    },
    {
      "cell_type": "code",
      "metadata": {
        "id": "GRSVuNTdlenF",
        "colab_type": "code",
        "outputId": "0fef95fe-5b89-41c8-e1b2-738fb7e99705",
        "colab": {
          "base_uri": "https://localhost:8080/",
          "height": 283
        }
      },
      "source": [
        "plt.figure(figsize=(10,4))\n",
        "sns.distplot(comandos[0])\n",
        "plt.show()"
      ],
      "execution_count": 0,
      "outputs": [
        {
          "output_type": "display_data",
          "data": {
            "image/png": "[encoded data removed]",
            "text/plain": [
              "<Figure size 720x288 with 1 Axes>"
            ]
          },
          "metadata": {
            "tags": []
          }
        }
      ]
    },
    {
      "cell_type": "code",
      "metadata": {
        "id": "t-tDqyPJllOk",
        "colab_type": "code",
        "outputId": "1abd1980-5b09-4eb0-e792-c526d331d162",
        "colab": {
          "base_uri": "https://localhost:8080/",
          "height": 283
        }
      },
      "source": [
        "plt.figure(figsize=(10,4))\n",
        "sns.distplot(comandos[1])\n",
        "plt.show()"
      ],
      "execution_count": 0,
      "outputs": [
        {
          "output_type": "display_data",
          "data": {
            "image/png": "[encoded data removed]",
            "text/plain": [
              "<Figure size 720x288 with 1 Axes>"
            ]
          },
          "metadata": {
            "tags": []
          }
        }
      ]
    },
    {
      "cell_type": "code",
      "metadata": {
        "colab_type": "code",
        "id": "iInCQ3h0YNRR",
        "outputId": "7bef3af4-d052-4c65-fefe-c4e98895c91b",
        "colab": {
          "base_uri": "https://localhost:8080/",
          "height": 294
        }
      },
      "source": [
        "comandos.describe()"
      ],
      "execution_count": 0,
      "outputs": [
        {
          "output_type": "execute_result",
          "data": {
            "text/html": [
              "<div>\n",
              "<style scoped>\n",
              "    .dataframe tbody tr th:only-of-type {\n",
              "        vertical-align: middle;\n",
              "    }\n",
              "\n",
              "    .dataframe tbody tr th {\n",
              "        vertical-align: top;\n",
              "    }\n",
              "\n",
              "    .dataframe thead th {\n",
              "        text-align: right;\n",
              "    }\n",
              "</style>\n",
              "<table border=\"1\" class=\"dataframe\">\n",
              "  <thead>\n",
              "    <tr style=\"text-align: right;\">\n",
              "      <th></th>\n",
              "      <th>0</th>\n",
              "      <th>1</th>\n",
              "      <th>2</th>\n",
              "      <th>3</th>\n",
              "    </tr>\n",
              "  </thead>\n",
              "  <tbody>\n",
              "    <tr>\n",
              "      <th>count</th>\n",
              "      <td>7000.000000</td>\n",
              "      <td>7000.000000</td>\n",
              "      <td>7000.000000</td>\n",
              "      <td>7000.000000</td>\n",
              "    </tr>\n",
              "    <tr>\n",
              "      <th>mean</th>\n",
              "      <td>-0.016857</td>\n",
              "      <td>0.014714</td>\n",
              "      <td>0.845857</td>\n",
              "      <td>0.022714</td>\n",
              "    </tr>\n",
              "    <tr>\n",
              "      <th>std</th>\n",
              "      <td>0.667453</td>\n",
              "      <td>0.136016</td>\n",
              "      <td>0.361111</td>\n",
              "      <td>0.149002</td>\n",
              "    </tr>\n",
              "    <tr>\n",
              "      <th>min</th>\n",
              "      <td>-1.000000</td>\n",
              "      <td>-1.000000</td>\n",
              "      <td>0.000000</td>\n",
              "      <td>0.000000</td>\n",
              "    </tr>\n",
              "    <tr>\n",
              "      <th>25%</th>\n",
              "      <td>0.000000</td>\n",
              "      <td>0.000000</td>\n",
              "      <td>1.000000</td>\n",
              "      <td>0.000000</td>\n",
              "    </tr>\n",
              "    <tr>\n",
              "      <th>50%</th>\n",
              "      <td>0.000000</td>\n",
              "      <td>0.000000</td>\n",
              "      <td>1.000000</td>\n",
              "      <td>0.000000</td>\n",
              "    </tr>\n",
              "    <tr>\n",
              "      <th>75%</th>\n",
              "      <td>0.000000</td>\n",
              "      <td>0.000000</td>\n",
              "      <td>1.000000</td>\n",
              "      <td>0.000000</td>\n",
              "    </tr>\n",
              "    <tr>\n",
              "      <th>max</th>\n",
              "      <td>1.000000</td>\n",
              "      <td>1.000000</td>\n",
              "      <td>1.000000</td>\n",
              "      <td>1.000000</td>\n",
              "    </tr>\n",
              "  </tbody>\n",
              "</table>\n",
              "</div>"
            ],
            "text/plain": [
              "                 0            1            2            3\n",
              "count  7000.000000  7000.000000  7000.000000  7000.000000\n",
              "mean     -0.016857     0.014714     0.845857     0.022714\n",
              "std       0.667453     0.136016     0.361111     0.149002\n",
              "min      -1.000000    -1.000000     0.000000     0.000000\n",
              "25%       0.000000     0.000000     1.000000     0.000000\n",
              "50%       0.000000     0.000000     1.000000     0.000000\n",
              "75%       0.000000     0.000000     1.000000     0.000000\n",
              "max       1.000000     1.000000     1.000000     1.000000"
            ]
          },
          "metadata": {
            "tags": []
          },
          "execution_count": 13
        }
      ]
    },
    {
      "cell_type": "code",
      "metadata": {
        "colab_type": "code",
        "id": "tCyCGuVPXdQx",
        "colab": {}
      },
      "source": [
        "comandos['direita'] = comandos[0].map(lambda x: 1 if x == 1 else 0)\n",
        "comandos['esquerda'] = comandos[0].map(lambda x: 1 if x == -1 else 0)\n",
        "comandos['baixo'] = comandos[1].map(lambda x: 1 if x == 1 else 0)\n",
        "comandos['cima'] = comandos[1].map(lambda x: 1 if x == -1 else 0)"
      ],
      "execution_count": 0,
      "outputs": []
    },
    {
      "cell_type": "code",
      "metadata": {
        "colab_type": "code",
        "id": "QuSH4oR0Y0XH",
        "colab": {}
      },
      "source": [
        "comandos = comandos[[2,3,'direita','esquerda','cima','baixo']].rename(index=str, columns={2:'acelera',3:'freia'})"
      ],
      "execution_count": 0,
      "outputs": []
    },
    {
      "cell_type": "code",
      "metadata": {
        "colab_type": "code",
        "id": "2n2GzrXvVr8C",
        "colab": {}
      },
      "source": [
        "\"\"\"\n",
        "imagens = []\n",
        "for img in load_file('/content/drive/My Drive/Colab Notebooks/img.pkl'):\n",
        "  imagens.append(cv2.cvtColor(img, cv2.COLOR_BGR2GRAY)/255)\n",
        "for img in load_file('/content/drive/My Drive/Colab Notebooks/img2.pkl'):\n",
        "  imagens.append(cv2.cvtColor(img, cv2.COLOR_BGR2GRAY)/255)\n",
        "\"\"\"\n",
        "imagens = load_file('/content/drive/My Drive/Colab Notebooks/img_new.pkl')"
      ],
      "execution_count": 0,
      "outputs": []
    },
    {
      "cell_type": "code",
      "metadata": {
        "id": "2bQrKIoFZQUb",
        "colab_type": "code",
        "colab": {}
      },
      "source": [
        "imgs = []\n",
        "for img in imagens:\n",
        "  imgs.append(img/255)"
      ],
      "execution_count": 0,
      "outputs": []
    },
    {
      "cell_type": "code",
      "metadata": {
        "colab_type": "code",
        "id": "LLDJCLcWW6v2",
        "colab": {}
      },
      "source": [
        "imagens =  np.array(imgs).reshape((7000, 220, 320,1))"
      ],
      "execution_count": 0,
      "outputs": []
    },
    {
      "cell_type": "code",
      "metadata": {
        "id": "FaBf3RY1gZ-i",
        "colab_type": "code",
        "outputId": "74985bc2-6ee1-448d-a6aa-b5d1b1dbea60",
        "colab": {
          "base_uri": "https://localhost:8080/",
          "height": 35
        }
      },
      "source": [
        "imagens.shape"
      ],
      "execution_count": 0,
      "outputs": [
        {
          "output_type": "execute_result",
          "data": {
            "text/plain": [
              "(7000, 220, 320, 1)"
            ]
          },
          "metadata": {
            "tags": []
          },
          "execution_count": 19
        }
      ]
    },
    {
      "cell_type": "code",
      "metadata": {
        "id": "UjizTyrlr2a5",
        "colab_type": "code",
        "outputId": "58c6ae39-69b3-46f7-9691-3418df4717fe",
        "colab": {
          "base_uri": "https://localhost:8080/",
          "height": 35
        }
      },
      "source": [
        "comandos.columns"
      ],
      "execution_count": 0,
      "outputs": [
        {
          "output_type": "execute_result",
          "data": {
            "text/plain": [
              "Index(['acelera', 'freia', 'direita', 'esquerda', 'cima', 'baixo'], dtype='object')"
            ]
          },
          "metadata": {
            "tags": []
          },
          "execution_count": 20
        }
      ]
    },
    {
      "cell_type": "code",
      "metadata": {
        "id": "dwW2Uxitr447",
        "colab_type": "code",
        "colab": {}
      },
      "source": [
        "comandos = comandos[['freia', 'direita', 'esquerda']]"
      ],
      "execution_count": 0,
      "outputs": []
    },
    {
      "cell_type": "code",
      "metadata": {
        "id": "5SzthUH0aVNF",
        "colab_type": "code",
        "colab": {}
      },
      "source": [
        "del imgs"
      ],
      "execution_count": 0,
      "outputs": []
    },
    {
      "cell_type": "code",
      "metadata": {
        "id": "hX1CaP4HaAEL",
        "colab_type": "code",
        "outputId": "d0965a65-7de5-43ce-c47e-4bdebbae5e52",
        "colab": {
          "base_uri": "https://localhost:8080/",
          "height": 35
        }
      },
      "source": [
        "import gc\n",
        "gc.collect()"
      ],
      "execution_count": 0,
      "outputs": [
        {
          "output_type": "execute_result",
          "data": {
            "text/plain": [
              "10129"
            ]
          },
          "metadata": {
            "tags": []
          },
          "execution_count": 24
        }
      ]
    },
    {
      "cell_type": "code",
      "metadata": {
        "id": "NOC_dLNcb4YL",
        "colab_type": "code",
        "outputId": "8abaf222-aa70-416b-aeb4-283e79b96d1b",
        "colab": {
          "base_uri": "https://localhost:8080/",
          "height": 287
        }
      },
      "source": [
        "plt.imshow(imagens[100,:,:,:].reshape((220,320)),cmap='gray', vmin=0, vmax=1)"
      ],
      "execution_count": 0,
      "outputs": [
        {
          "output_type": "execute_result",
          "data": {
            "text/plain": [
              "<matplotlib.image.AxesImage at 0x7f52cfdbd860>"
            ]
          },
          "metadata": {
            "tags": []
          },
          "execution_count": 25
        },
        {
          "output_type": "display_data",
          "data": {
            "image/png": "[encoded data removed]",
            "text/plain": [
              "<Figure size 432x288 with 1 Axes>"
            ]
          },
          "metadata": {
            "tags": []
          }
        }
      ]
    },
    {
      "cell_type": "code",
      "metadata": {
        "id": "fOq78ZA6cRVs",
        "colab_type": "code",
        "outputId": "f1e719d2-c474-4409-eb46-d8a7104b7efd",
        "colab": {
          "base_uri": "https://localhost:8080/",
          "height": 87
        }
      },
      "source": [
        "comandos.iloc[100]"
      ],
      "execution_count": 0,
      "outputs": [
        {
          "output_type": "execute_result",
          "data": {
            "text/plain": [
              "freia       0\n",
              "direita     0\n",
              "esquerda    1\n",
              "Name: 100, dtype: int64"
            ]
          },
          "metadata": {
            "tags": []
          },
          "execution_count": 26
        }
      ]
    },
    {
      "cell_type": "code",
      "metadata": {
        "colab_type": "code",
        "id": "ELWkxlwcZNiR",
        "colab": {}
      },
      "source": [
        "#input_shape = (img_rows, img_cols, 1)\n",
        "input_shape = (220, 320,1)\n",
        "num_classes = comandos.shape[1]\n",
        "batch_size = 128\n",
        "epochs = 140 #600"
      ],
      "execution_count": 0,
      "outputs": []
    },
    {
      "cell_type": "code",
      "metadata": {
        "colab_type": "code",
        "id": "2FrWxaiKwz4w",
        "outputId": "1bdec05a-3e60-4711-c307-7f15c9c4dc82",
        "colab": {
          "base_uri": "https://localhost:8080/",
          "height": 349
        }
      },
      "source": [
        "# CRIANDO MODELO\n",
        "\n",
        "model = Sequential()\n",
        "model.add(Conv2D(24, kernel_size=(10, 10), strides=(2, 2), input_shape=input_shape))\n",
        "model.add(BatchNormalization())\n",
        "model.add(Activation('relu'))\n",
        "model.add(Conv2D(36, kernel_size=(5, 5), strides=(2, 2)))\n",
        "model.add(BatchNormalization())\n",
        "model.add(Activation('relu'))\n",
        "model.add(Dropout(rate=0.5))\n",
        "model.add(Conv2D(64, kernel_size=(5, 5), strides=(2, 2)))\n",
        "model.add(BatchNormalization())\n",
        "model.add(Activation('relu'))\n",
        "model.add(Dropout(rate=0.5))\n",
        "model.add(Conv2D(64, kernel_size=(3, 3)))\n",
        "model.add(BatchNormalization())\n",
        "model.add(Activation('relu'))\n",
        "model.add(Dropout(rate=0.5))\n",
        "model.add(Conv2D(64, kernel_size=(3, 3)))\n",
        "model.add(BatchNormalization())\n",
        "model.add(Activation('relu'))\n",
        "model.add(MaxPooling2D(pool_size=(2, 2)))\n",
        "model.add(Dropout(rate=0.5))\n",
        "model.add(Flatten())\n",
        "model.add(Dense(1024, activation='relu'))\n",
        "model.add(Dropout(rate=0.5))\n",
        "model.add(Dense(512, activation='relu'))\n",
        "model.add(Dropout(rate=0.5))\n",
        "model.add(Dense(128, activation='relu'))\n",
        "model.add(Dropout(rate=0.5))\n",
        "model.add(Dense(32, activation='relu'))\n",
        "model.add(Dropout(rate=0.5))\n",
        "model.add(Dense(num_classes, activation='sigmoid'))"
      ],
      "execution_count": 0,
      "outputs": [
        {
          "output_type": "stream",
          "text": [
            "WARNING: Logging before flag parsing goes to stderr.\n",
            "W0831 14:17:05.555456 139995498018688 deprecation_wrapper.py:119] From /usr/local/lib/python3.6/dist-packages/keras/backend/tensorflow_backend.py:66: The name tf.get_default_graph is deprecated. Please use tf.compat.v1.get_default_graph instead.\n",
            "\n",
            "W0831 14:17:05.592324 139995498018688 deprecation_wrapper.py:119] From /usr/local/lib/python3.6/dist-packages/keras/backend/tensorflow_backend.py:541: The name tf.placeholder is deprecated. Please use tf.compat.v1.placeholder instead.\n",
            "\n",
            "W0831 14:17:05.598969 139995498018688 deprecation_wrapper.py:119] From /usr/local/lib/python3.6/dist-packages/keras/backend/tensorflow_backend.py:4432: The name tf.random_uniform is deprecated. Please use tf.random.uniform instead.\n",
            "\n",
            "W0831 14:17:05.631292 139995498018688 deprecation_wrapper.py:119] From /usr/local/lib/python3.6/dist-packages/keras/backend/tensorflow_backend.py:190: The name tf.get_default_session is deprecated. Please use tf.compat.v1.get_default_session instead.\n",
            "\n",
            "W0831 14:17:05.631943 139995498018688 deprecation_wrapper.py:119] From /usr/local/lib/python3.6/dist-packages/keras/backend/tensorflow_backend.py:197: The name tf.ConfigProto is deprecated. Please use tf.compat.v1.ConfigProto instead.\n",
            "\n",
            "W0831 14:17:08.936419 139995498018688 deprecation_wrapper.py:119] From /usr/local/lib/python3.6/dist-packages/keras/backend/tensorflow_backend.py:2041: The name tf.nn.fused_batch_norm is deprecated. Please use tf.compat.v1.nn.fused_batch_norm instead.\n",
            "\n",
            "W0831 14:17:09.072044 139995498018688 deprecation.py:506] From /usr/local/lib/python3.6/dist-packages/keras/backend/tensorflow_backend.py:3733: calling dropout (from tensorflow.python.ops.nn_ops) with keep_prob is deprecated and will be removed in a future version.\n",
            "Instructions for updating:\n",
            "Please use `rate` instead of `keep_prob`. Rate should be set to `rate = 1 - keep_prob`.\n",
            "W0831 14:17:09.321782 139995498018688 deprecation_wrapper.py:119] From /usr/local/lib/python3.6/dist-packages/keras/backend/tensorflow_backend.py:4267: The name tf.nn.max_pool is deprecated. Please use tf.nn.max_pool2d instead.\n",
            "\n"
          ],
          "name": "stderr"
        }
      ]
    },
    {
      "cell_type": "code",
      "metadata": {
        "colab_type": "code",
        "id": "gIXUI0STBeEb",
        "outputId": "f439d867-d715-43a2-ba79-4a1da921e341",
        "colab": {
          "base_uri": "https://localhost:8080/",
          "height": 1000
        }
      },
      "source": [
        "model.summary()"
      ],
      "execution_count": 0,
      "outputs": [
        {
          "output_type": "stream",
          "text": [
            "Model: \"sequential_1\"\n",
            "_________________________________________________________________\n",
            "Layer (type)                 Output Shape              Param #   \n",
            "=================================================================\n",
            "conv2d_1 (Conv2D)            (None, 106, 156, 24)      2424      \n",
            "_________________________________________________________________\n",
            "batch_normalization_1 (Batch (None, 106, 156, 24)      96        \n",
            "_________________________________________________________________\n",
            "activation_1 (Activation)    (None, 106, 156, 24)      0         \n",
            "_________________________________________________________________\n",
            "conv2d_2 (Conv2D)            (None, 51, 76, 36)        21636     \n",
            "_________________________________________________________________\n",
            "batch_normalization_2 (Batch (None, 51, 76, 36)        144       \n",
            "_________________________________________________________________\n",
            "activation_2 (Activation)    (None, 51, 76, 36)        0         \n",
            "_________________________________________________________________\n",
            "dropout_1 (Dropout)          (None, 51, 76, 36)        0         \n",
            "_________________________________________________________________\n",
            "conv2d_3 (Conv2D)            (None, 24, 36, 64)        57664     \n",
            "_________________________________________________________________\n",
            "batch_normalization_3 (Batch (None, 24, 36, 64)        256       \n",
            "_________________________________________________________________\n",
            "activation_3 (Activation)    (None, 24, 36, 64)        0         \n",
            "_________________________________________________________________\n",
            "dropout_2 (Dropout)          (None, 24, 36, 64)        0         \n",
            "_________________________________________________________________\n",
            "conv2d_4 (Conv2D)            (None, 22, 34, 64)        36928     \n",
            "_________________________________________________________________\n",
            "batch_normalization_4 (Batch (None, 22, 34, 64)        256       \n",
            "_________________________________________________________________\n",
            "activation_4 (Activation)    (None, 22, 34, 64)        0         \n",
            "_________________________________________________________________\n",
            "dropout_3 (Dropout)          (None, 22, 34, 64)        0         \n",
            "_________________________________________________________________\n",
            "conv2d_5 (Conv2D)            (None, 20, 32, 64)        36928     \n",
            "_________________________________________________________________\n",
            "batch_normalization_5 (Batch (None, 20, 32, 64)        256       \n",
            "_________________________________________________________________\n",
            "activation_5 (Activation)    (None, 20, 32, 64)        0         \n",
            "_________________________________________________________________\n",
            "max_pooling2d_1 (MaxPooling2 (None, 10, 16, 64)        0         \n",
            "_________________________________________________________________\n",
            "dropout_4 (Dropout)          (None, 10, 16, 64)        0         \n",
            "_________________________________________________________________\n",
            "flatten_1 (Flatten)          (None, 10240)             0         \n",
            "_________________________________________________________________\n",
            "dense_1 (Dense)              (None, 1024)              10486784  \n",
            "_________________________________________________________________\n",
            "dropout_5 (Dropout)          (None, 1024)              0         \n",
            "_________________________________________________________________\n",
            "dense_2 (Dense)              (None, 512)               524800    \n",
            "_________________________________________________________________\n",
            "dropout_6 (Dropout)          (None, 512)               0         \n",
            "_________________________________________________________________\n",
            "dense_3 (Dense)              (None, 128)               65664     \n",
            "_________________________________________________________________\n",
            "dropout_7 (Dropout)          (None, 128)               0         \n",
            "_________________________________________________________________\n",
            "dense_4 (Dense)              (None, 32)                4128      \n",
            "_________________________________________________________________\n",
            "dropout_8 (Dropout)          (None, 32)                0         \n",
            "_________________________________________________________________\n",
            "dense_5 (Dense)              (None, 3)                 99        \n",
            "=================================================================\n",
            "Total params: 11,238,063\n",
            "Trainable params: 11,237,559\n",
            "Non-trainable params: 504\n",
            "_________________________________________________________________\n"
          ],
          "name": "stdout"
        }
      ]
    },
    {
      "cell_type": "code",
      "metadata": {
        "colab_type": "code",
        "id": "Tysw4lCxZ24p",
        "colab": {}
      },
      "source": [
        "# train, test split\n",
        "from sklearn.model_selection import train_test_split\n",
        "X_train, X_test, y_train, y_test = train_test_split(range(0,comandos.shape[0]),range(0,comandos.shape[0]), test_size=0.1, random_state=42)"
      ],
      "execution_count": 0,
      "outputs": []
    },
    {
      "cell_type": "code",
      "metadata": {
        "colab_type": "code",
        "id": "8R2GSmELZghZ",
        "outputId": "0ab30da9-7ce4-4fe6-a1b6-0dd4ba5f4d80",
        "colab": {
          "base_uri": "https://localhost:8080/",
          "height": 124
        }
      },
      "source": [
        "#model.compile(loss=keras.losses.binary_crossentropy,\n",
        "#              optimizer=keras.optimizers.Adam(lr=0.01, beta_1=0.9, beta_2=0.999, epsilon=None, decay=0.0, amsgrad=False),\n",
        "#              metrics=['accuracy'])\n",
        "INIT_LR = 1e-3\n",
        "model.compile(loss=keras.losses.binary_crossentropy,\n",
        "              optimizer=keras.optimizers.Adam(lr=INIT_LR, decay=INIT_LR / epochs),\n",
        "              metrics=['acc'])"
      ],
      "execution_count": 0,
      "outputs": [
        {
          "output_type": "stream",
          "text": [
            "W0831 14:17:09.500696 139995498018688 deprecation_wrapper.py:119] From /usr/local/lib/python3.6/dist-packages/keras/optimizers.py:793: The name tf.train.Optimizer is deprecated. Please use tf.compat.v1.train.Optimizer instead.\n",
            "\n",
            "W0831 14:17:09.509095 139995498018688 deprecation.py:323] From /usr/local/lib/python3.6/dist-packages/tensorflow/python/ops/nn_impl.py:180: add_dispatch_support.<locals>.wrapper (from tensorflow.python.ops.array_ops) is deprecated and will be removed in a future version.\n",
            "Instructions for updating:\n",
            "Use tf.where in 2.0, which has the same broadcast rule as np.where\n"
          ],
          "name": "stderr"
        }
      ]
    },
    {
      "cell_type": "code",
      "metadata": {
        "colab_type": "code",
        "id": "A8pksz8dcSYJ",
        "outputId": "7dc601a2-aca8-48fc-fdc5-d98d1d8c76d9",
        "colab": {
          "base_uri": "https://localhost:8080/",
          "height": 35
        }
      },
      "source": [
        "imagens[X_train,:,:,:].shape,comandos.shape"
      ],
      "execution_count": 0,
      "outputs": [
        {
          "output_type": "execute_result",
          "data": {
            "text/plain": [
              "((6300, 220, 320, 1), (7000, 3))"
            ]
          },
          "metadata": {
            "tags": []
          },
          "execution_count": 32
        }
      ]
    },
    {
      "cell_type": "code",
      "metadata": {
        "colab_type": "code",
        "id": "zIdywIfea8c9",
        "outputId": "6199abfd-483c-4c2b-fb3a-7d6e5b71ddec",
        "colab": {
          "base_uri": "https://localhost:8080/",
          "height": 1000
        }
      },
      "source": [
        "earlyStopping = EarlyStopping(monitor='val_loss', patience=20,verbose=0, mode='min')\n",
        "mcp_save = ModelCheckpoint('/content/drive/My Drive/Colab Notebooks/modelo_outrun_3_outputs.hdf5', save_best_only=True, monitor='val_loss', mode='auto')\n",
        "reduce_lr_loss = ReduceLROnPlateau(monitor='val_loss', factor=0.1, patience=10, verbose=1, epsilon=1e-4, mode='auto')\n",
        "#imagens[X_train,:,:,:] imagens[X_test,:,:,:]\n",
        "model.fit(imagens[X_train,:,:,:], comandos.iloc[X_train].values,\n",
        "          batch_size=batch_size,\n",
        "          epochs=epochs,\n",
        "          verbose=1,\n",
        "          shuffle = True,\n",
        "          validation_data=(imagens[X_test,:,:,:], comandos.iloc[X_test].values))\n",
        "          #,callbacks=[reduce_lr_loss,mcp_save])\n",
        "score = model.evaluate(imagens[X_test,:,:,:], comandos.iloc[X_test].values, verbose=0)\n",
        "print('Test loss:', score[0])"
      ],
      "execution_count": 0,
      "outputs": [
        {
          "output_type": "stream",
          "text": [
            "Train on 6300 samples, validate on 700 samples\n",
            "Epoch 1/140\n",
            "6300/6300 [==============================] - 16s 3ms/step - loss: 1.1205 - acc: 0.7737 - val_loss: 0.8681 - val_acc: 0.8433\n",
            "Epoch 2/140\n",
            "6300/6300 [==============================] - 9s 1ms/step - loss: 0.7383 - acc: 0.8268 - val_loss: 0.7255 - val_acc: 0.8433\n",
            "Epoch 3/140\n",
            "6300/6300 [==============================] - 9s 1ms/step - loss: 0.7092 - acc: 0.8286 - val_loss: 0.7243 - val_acc: 0.8433\n",
            "Epoch 4/140\n",
            "6300/6300 [==============================] - 9s 1ms/step - loss: 0.6206 - acc: 0.8292 - val_loss: 0.5118 - val_acc: 0.8433\n",
            "Epoch 5/140\n",
            "6300/6300 [==============================] - 9s 1ms/step - loss: 0.5331 - acc: 0.8276 - val_loss: 0.4868 - val_acc: 0.7795\n",
            "Epoch 6/140\n",
            "6300/6300 [==============================] - 9s 1ms/step - loss: 0.4698 - acc: 0.8312 - val_loss: 0.4317 - val_acc: 0.8433\n",
            "Epoch 7/140\n",
            "6300/6300 [==============================] - 9s 1ms/step - loss: 0.4356 - acc: 0.8377 - val_loss: 0.5010 - val_acc: 0.8433\n",
            "Epoch 8/140\n",
            "6300/6300 [==============================] - 9s 1ms/step - loss: 0.4218 - acc: 0.8398 - val_loss: 0.4268 - val_acc: 0.8433\n",
            "Epoch 9/140\n",
            "6300/6300 [==============================] - 9s 2ms/step - loss: 0.4146 - acc: 0.8419 - val_loss: 0.4162 - val_acc: 0.8433\n",
            "Epoch 10/140\n",
            "6300/6300 [==============================] - 9s 2ms/step - loss: 0.4013 - acc: 0.8424 - val_loss: 0.4031 - val_acc: 0.8433\n",
            "Epoch 11/140\n",
            "6300/6300 [==============================] - 9s 2ms/step - loss: 0.3855 - acc: 0.8433 - val_loss: 0.3756 - val_acc: 0.8433\n",
            "Epoch 12/140\n",
            "6300/6300 [==============================] - 9s 1ms/step - loss: 0.3796 - acc: 0.8434 - val_loss: 0.4075 - val_acc: 0.8433\n",
            "Epoch 13/140\n",
            "6300/6300 [==============================] - 9s 1ms/step - loss: 0.3678 - acc: 0.8433 - val_loss: 0.3798 - val_acc: 0.8433\n",
            "Epoch 14/140\n",
            "6300/6300 [==============================] - 9s 1ms/step - loss: 0.3631 - acc: 0.8433 - val_loss: 0.3911 - val_acc: 0.8433\n",
            "Epoch 15/140\n",
            "6300/6300 [==============================] - 9s 1ms/step - loss: 0.3592 - acc: 0.8438 - val_loss: 0.3537 - val_acc: 0.8433\n",
            "Epoch 16/140\n",
            "6300/6300 [==============================] - 9s 1ms/step - loss: 0.3579 - acc: 0.8432 - val_loss: 0.3544 - val_acc: 0.8433\n",
            "Epoch 17/140\n",
            "6300/6300 [==============================] - 9s 1ms/step - loss: 0.3563 - acc: 0.8434 - val_loss: 0.3456 - val_acc: 0.8433\n",
            "Epoch 18/140\n",
            "6300/6300 [==============================] - 9s 1ms/step - loss: 0.3555 - acc: 0.8435 - val_loss: 0.3426 - val_acc: 0.8433\n",
            "Epoch 19/140\n",
            "6300/6300 [==============================] - 9s 1ms/step - loss: 0.3540 - acc: 0.8436 - val_loss: 0.3804 - val_acc: 0.8433\n",
            "Epoch 20/140\n",
            "6300/6300 [==============================] - 9s 1ms/step - loss: 0.3519 - acc: 0.8433 - val_loss: 0.3799 - val_acc: 0.8433\n",
            "Epoch 21/140\n",
            "6300/6300 [==============================] - 9s 1ms/step - loss: 0.3504 - acc: 0.8438 - val_loss: 0.3958 - val_acc: 0.8433\n",
            "Epoch 22/140\n",
            "6300/6300 [==============================] - 9s 1ms/step - loss: 0.3477 - acc: 0.8437 - val_loss: 0.3764 - val_acc: 0.8433\n",
            "Epoch 23/140\n",
            "6300/6300 [==============================] - 9s 1ms/step - loss: 0.3436 - acc: 0.8439 - val_loss: 0.3741 - val_acc: 0.8433\n",
            "Epoch 24/140\n",
            "6300/6300 [==============================] - 9s 1ms/step - loss: 0.3478 - acc: 0.8439 - val_loss: 0.3492 - val_acc: 0.8433\n",
            "Epoch 25/140\n",
            "6300/6300 [==============================] - 9s 1ms/step - loss: 0.3442 - acc: 0.8439 - val_loss: 0.3516 - val_acc: 0.8433\n",
            "Epoch 26/140\n",
            "6300/6300 [==============================] - 9s 1ms/step - loss: 0.3435 - acc: 0.8438 - val_loss: 0.3484 - val_acc: 0.8433\n",
            "Epoch 27/140\n",
            "6300/6300 [==============================] - 9s 1ms/step - loss: 0.3436 - acc: 0.8437 - val_loss: 0.3759 - val_acc: 0.8433\n",
            "Epoch 28/140\n",
            "6300/6300 [==============================] - 9s 1ms/step - loss: 0.3385 - acc: 0.8437 - val_loss: 0.3431 - val_acc: 0.8433\n",
            "Epoch 29/140\n",
            "6300/6300 [==============================] - 9s 1ms/step - loss: 0.3415 - acc: 0.8437 - val_loss: 0.3624 - val_acc: 0.8433\n",
            "Epoch 30/140\n",
            "6300/6300 [==============================] - 9s 1ms/step - loss: 0.3368 - acc: 0.8439 - val_loss: 0.3805 - val_acc: 0.8433\n",
            "Epoch 31/140\n",
            "6300/6300 [==============================] - 9s 1ms/step - loss: 0.3379 - acc: 0.8438 - val_loss: 0.3517 - val_acc: 0.8433\n",
            "Epoch 32/140\n",
            "6300/6300 [==============================] - 9s 1ms/step - loss: 0.3438 - acc: 0.8439 - val_loss: 0.3697 - val_acc: 0.8433\n",
            "Epoch 33/140\n",
            "6300/6300 [==============================] - 9s 1ms/step - loss: 0.3388 - acc: 0.8439 - val_loss: 0.3512 - val_acc: 0.8433\n",
            "Epoch 34/140\n",
            "6300/6300 [==============================] - 9s 1ms/step - loss: 0.3380 - acc: 0.8439 - val_loss: 0.3513 - val_acc: 0.8433\n",
            "Epoch 35/140\n",
            "6300/6300 [==============================] - 9s 1ms/step - loss: 0.3370 - acc: 0.8438 - val_loss: 0.3429 - val_acc: 0.8433\n",
            "Epoch 36/140\n",
            "6300/6300 [==============================] - 9s 1ms/step - loss: 0.3319 - acc: 0.8437 - val_loss: 0.3560 - val_acc: 0.8433\n",
            "Epoch 37/140\n",
            "6300/6300 [==============================] - 9s 1ms/step - loss: 0.3293 - acc: 0.8439 - val_loss: 0.3374 - val_acc: 0.8433\n",
            "Epoch 38/140\n",
            "6300/6300 [==============================] - 9s 1ms/step - loss: 0.3304 - acc: 0.8438 - val_loss: 0.3716 - val_acc: 0.8433\n",
            "Epoch 39/140\n",
            "6300/6300 [==============================] - 9s 1ms/step - loss: 0.3300 - acc: 0.8438 - val_loss: 0.3328 - val_acc: 0.8433\n",
            "Epoch 40/140\n",
            "6300/6300 [==============================] - 9s 1ms/step - loss: 0.3313 - acc: 0.8438 - val_loss: 0.3663 - val_acc: 0.8433\n",
            "Epoch 41/140\n",
            "6300/6300 [==============================] - 9s 1ms/step - loss: 0.3281 - acc: 0.8439 - val_loss: 0.3525 - val_acc: 0.8433\n",
            "Epoch 42/140\n",
            "6300/6300 [==============================] - 9s 1ms/step - loss: 0.3268 - acc: 0.8439 - val_loss: 0.3487 - val_acc: 0.8433\n",
            "Epoch 43/140\n",
            "6300/6300 [==============================] - 9s 1ms/step - loss: 0.3268 - acc: 0.8439 - val_loss: 0.3325 - val_acc: 0.8433\n",
            "Epoch 44/140\n",
            "6300/6300 [==============================] - 9s 1ms/step - loss: 0.3269 - acc: 0.8439 - val_loss: 0.3457 - val_acc: 0.8433\n",
            "Epoch 45/140\n",
            "6300/6300 [==============================] - 9s 1ms/step - loss: 0.3267 - acc: 0.8439 - val_loss: 0.3436 - val_acc: 0.8433\n",
            "Epoch 46/140\n",
            "6300/6300 [==============================] - 9s 1ms/step - loss: 0.3256 - acc: 0.8439 - val_loss: 0.3569 - val_acc: 0.8433\n",
            "Epoch 47/140\n",
            "6300/6300 [==============================] - 9s 1ms/step - loss: 0.3232 - acc: 0.8439 - val_loss: 0.3520 - val_acc: 0.8433\n",
            "Epoch 48/140\n",
            "6300/6300 [==============================] - 9s 1ms/step - loss: 0.3224 - acc: 0.8439 - val_loss: 0.3374 - val_acc: 0.8433\n",
            "Epoch 49/140\n",
            "6300/6300 [==============================] - 9s 1ms/step - loss: 0.3205 - acc: 0.8439 - val_loss: 0.3359 - val_acc: 0.8433\n",
            "Epoch 50/140\n",
            "6300/6300 [==============================] - 9s 1ms/step - loss: 0.3240 - acc: 0.8438 - val_loss: 0.3554 - val_acc: 0.8433\n",
            "Epoch 51/140\n",
            "6300/6300 [==============================] - 9s 1ms/step - loss: 0.3254 - acc: 0.8439 - val_loss: 0.3638 - val_acc: 0.8433\n",
            "Epoch 52/140\n",
            "6300/6300 [==============================] - 9s 1ms/step - loss: 0.3234 - acc: 0.8439 - val_loss: 0.3416 - val_acc: 0.8433\n",
            "Epoch 53/140\n",
            "6300/6300 [==============================] - 9s 1ms/step - loss: 0.3244 - acc: 0.8439 - val_loss: 0.3412 - val_acc: 0.8433\n",
            "Epoch 54/140\n",
            "6300/6300 [==============================] - 9s 1ms/step - loss: 0.3235 - acc: 0.8439 - val_loss: 0.3703 - val_acc: 0.8433\n",
            "Epoch 55/140\n",
            "6300/6300 [==============================] - 9s 1ms/step - loss: 0.3232 - acc: 0.8439 - val_loss: 0.3409 - val_acc: 0.8433\n",
            "Epoch 56/140\n",
            "6300/6300 [==============================] - 9s 1ms/step - loss: 0.3183 - acc: 0.8439 - val_loss: 0.3501 - val_acc: 0.8433\n",
            "Epoch 57/140\n",
            "6300/6300 [==============================] - 9s 1ms/step - loss: 0.3165 - acc: 0.8438 - val_loss: 0.3328 - val_acc: 0.8433\n",
            "Epoch 58/140\n",
            "6300/6300 [==============================] - 9s 1ms/step - loss: 0.3182 - acc: 0.8437 - val_loss: 0.3422 - val_acc: 0.8433\n",
            "Epoch 59/140\n",
            "6300/6300 [==============================] - 9s 1ms/step - loss: 0.3176 - acc: 0.8439 - val_loss: 0.3368 - val_acc: 0.8433\n",
            "Epoch 60/140\n",
            "6300/6300 [==============================] - 9s 1ms/step - loss: 0.3228 - acc: 0.8439 - val_loss: 0.3611 - val_acc: 0.8433\n",
            "Epoch 61/140\n",
            "6300/6300 [==============================] - 9s 1ms/step - loss: 0.3260 - acc: 0.8439 - val_loss: 0.3499 - val_acc: 0.8433\n",
            "Epoch 62/140\n",
            "6300/6300 [==============================] - 9s 1ms/step - loss: 0.3172 - acc: 0.8439 - val_loss: 0.3562 - val_acc: 0.8433\n",
            "Epoch 63/140\n",
            "6300/6300 [==============================] - 9s 1ms/step - loss: 0.3367 - acc: 0.8438 - val_loss: 0.4136 - val_acc: 0.8433\n",
            "Epoch 64/140\n",
            "6300/6300 [==============================] - 9s 1ms/step - loss: 0.3255 - acc: 0.8439 - val_loss: 0.3446 - val_acc: 0.8433\n",
            "Epoch 65/140\n",
            "6300/6300 [==============================] - 9s 1ms/step - loss: 0.3188 - acc: 0.8439 - val_loss: 0.3434 - val_acc: 0.8433\n",
            "Epoch 66/140\n",
            "6300/6300 [==============================] - 9s 1ms/step - loss: 0.3198 - acc: 0.8439 - val_loss: 0.3701 - val_acc: 0.8433\n",
            "Epoch 67/140\n",
            "6300/6300 [==============================] - 9s 1ms/step - loss: 0.3160 - acc: 0.8439 - val_loss: 0.3463 - val_acc: 0.8433\n",
            "Epoch 68/140\n",
            "6300/6300 [==============================] - 9s 1ms/step - loss: 0.3144 - acc: 0.8439 - val_loss: 0.3250 - val_acc: 0.8433\n",
            "Epoch 69/140\n",
            "6300/6300 [==============================] - 9s 1ms/step - loss: 0.3136 - acc: 0.8439 - val_loss: 0.3244 - val_acc: 0.8433\n",
            "Epoch 70/140\n",
            "6300/6300 [==============================] - 9s 1ms/step - loss: 0.3145 - acc: 0.8439 - val_loss: 0.3434 - val_acc: 0.8433\n",
            "Epoch 71/140\n",
            "6300/6300 [==============================] - 9s 1ms/step - loss: 0.3148 - acc: 0.8438 - val_loss: 0.3515 - val_acc: 0.8433\n",
            "Epoch 72/140\n",
            "6300/6300 [==============================] - 9s 1ms/step - loss: 0.3138 - acc: 0.8439 - val_loss: 0.3354 - val_acc: 0.8433\n",
            "Epoch 73/140\n",
            "6300/6300 [==============================] - 9s 1ms/step - loss: 0.3096 - acc: 0.8439 - val_loss: 0.3195 - val_acc: 0.8433\n",
            "Epoch 74/140\n",
            "6300/6300 [==============================] - 9s 1ms/step - loss: 0.3111 - acc: 0.8439 - val_loss: 0.3225 - val_acc: 0.8433\n",
            "Epoch 75/140\n",
            "6300/6300 [==============================] - 9s 1ms/step - loss: 0.3138 - acc: 0.8439 - val_loss: 0.3504 - val_acc: 0.8433\n",
            "Epoch 76/140\n",
            "6300/6300 [==============================] - 9s 1ms/step - loss: 0.3116 - acc: 0.8439 - val_loss: 0.3311 - val_acc: 0.8433\n",
            "Epoch 77/140\n",
            "6300/6300 [==============================] - 9s 1ms/step - loss: 0.3109 - acc: 0.8439 - val_loss: 0.3477 - val_acc: 0.8433\n",
            "Epoch 78/140\n",
            "6300/6300 [==============================] - 9s 1ms/step - loss: 0.3129 - acc: 0.8439 - val_loss: 0.3191 - val_acc: 0.8433\n",
            "Epoch 79/140\n",
            "6300/6300 [==============================] - 9s 1ms/step - loss: 0.3101 - acc: 0.8439 - val_loss: 0.3383 - val_acc: 0.8433\n",
            "Epoch 80/140\n",
            "6300/6300 [==============================] - 9s 1ms/step - loss: 0.3096 - acc: 0.8437 - val_loss: 0.3228 - val_acc: 0.8433\n",
            "Epoch 81/140\n",
            "6300/6300 [==============================] - 9s 1ms/step - loss: 0.3053 - acc: 0.8439 - val_loss: 0.3356 - val_acc: 0.8433\n",
            "Epoch 82/140\n",
            "6300/6300 [==============================] - 9s 1ms/step - loss: 0.3038 - acc: 0.8438 - val_loss: 0.3172 - val_acc: 0.8433\n",
            "Epoch 83/140\n",
            "6300/6300 [==============================] - 9s 1ms/step - loss: 0.3051 - acc: 0.8439 - val_loss: 0.3295 - val_acc: 0.8433\n",
            "Epoch 84/140\n",
            "6300/6300 [==============================] - 9s 1ms/step - loss: 0.3058 - acc: 0.8440 - val_loss: 0.3245 - val_acc: 0.8433\n",
            "Epoch 85/140\n",
            "6300/6300 [==============================] - 9s 1ms/step - loss: 0.3039 - acc: 0.8439 - val_loss: 0.3254 - val_acc: 0.8433\n",
            "Epoch 86/140\n",
            "6300/6300 [==============================] - 9s 1ms/step - loss: 0.3025 - acc: 0.8439 - val_loss: 0.3210 - val_acc: 0.8433\n",
            "Epoch 87/140\n",
            "6300/6300 [==============================] - 9s 1ms/step - loss: 0.3027 - acc: 0.8440 - val_loss: 0.3448 - val_acc: 0.8433\n",
            "Epoch 88/140\n",
            "6300/6300 [==============================] - 9s 1ms/step - loss: 0.3032 - acc: 0.8439 - val_loss: 0.3181 - val_acc: 0.8433\n",
            "Epoch 89/140\n",
            "6300/6300 [==============================] - 9s 1ms/step - loss: 0.3020 - acc: 0.8439 - val_loss: 0.3231 - val_acc: 0.8433\n",
            "Epoch 90/140\n",
            "6300/6300 [==============================] - 9s 1ms/step - loss: 0.3021 - acc: 0.8438 - val_loss: 0.3494 - val_acc: 0.8433\n",
            "Epoch 91/140\n",
            "6300/6300 [==============================] - 9s 1ms/step - loss: 0.3012 - acc: 0.8442 - val_loss: 0.3449 - val_acc: 0.8433\n",
            "Epoch 92/140\n",
            "6300/6300 [==============================] - 9s 1ms/step - loss: 0.3018 - acc: 0.8471 - val_loss: 0.3249 - val_acc: 0.8443\n",
            "Epoch 93/140\n",
            "6300/6300 [==============================] - 9s 1ms/step - loss: 0.2903 - acc: 0.8539 - val_loss: 0.3370 - val_acc: 0.8448\n",
            "Epoch 94/140\n",
            "6300/6300 [==============================] - 9s 1ms/step - loss: 0.2940 - acc: 0.8642 - val_loss: 0.3550 - val_acc: 0.8562\n",
            "Epoch 95/140\n",
            "6300/6300 [==============================] - 9s 1ms/step - loss: 0.2916 - acc: 0.8667 - val_loss: 0.3184 - val_acc: 0.8700\n",
            "Epoch 96/140\n",
            "6300/6300 [==============================] - 9s 1ms/step - loss: 0.2737 - acc: 0.8848 - val_loss: 0.3317 - val_acc: 0.8800\n",
            "Epoch 97/140\n",
            "6300/6300 [==============================] - 9s 1ms/step - loss: 0.2652 - acc: 0.8954 - val_loss: 0.2913 - val_acc: 0.8948\n",
            "Epoch 98/140\n",
            "6300/6300 [==============================] - 9s 1ms/step - loss: 0.2587 - acc: 0.8995 - val_loss: 0.3141 - val_acc: 0.8933\n",
            "Epoch 99/140\n",
            "6300/6300 [==============================] - 9s 1ms/step - loss: 0.2567 - acc: 0.9007 - val_loss: 0.2461 - val_acc: 0.9129\n",
            "Epoch 100/140\n",
            "6300/6300 [==============================] - 9s 1ms/step - loss: 0.2475 - acc: 0.9030 - val_loss: 0.2542 - val_acc: 0.9052\n",
            "Epoch 101/140\n",
            "6300/6300 [==============================] - 9s 1ms/step - loss: 0.2480 - acc: 0.9069 - val_loss: 0.2855 - val_acc: 0.9152\n",
            "Epoch 102/140\n",
            "6300/6300 [==============================] - 9s 1ms/step - loss: 0.2476 - acc: 0.9070 - val_loss: 0.2427 - val_acc: 0.9114\n",
            "Epoch 103/140\n",
            "6300/6300 [==============================] - 9s 1ms/step - loss: 0.2343 - acc: 0.9128 - val_loss: 0.2376 - val_acc: 0.9143\n",
            "Epoch 104/140\n",
            "6300/6300 [==============================] - 9s 1ms/step - loss: 0.2285 - acc: 0.9197 - val_loss: 0.2547 - val_acc: 0.9043\n",
            "Epoch 105/140\n",
            "6300/6300 [==============================] - 9s 1ms/step - loss: 0.2383 - acc: 0.9159 - val_loss: 0.3142 - val_acc: 0.9062\n",
            "Epoch 106/140\n",
            "6300/6300 [==============================] - 9s 1ms/step - loss: 0.2476 - acc: 0.9119 - val_loss: 0.3105 - val_acc: 0.9019\n",
            "Epoch 107/140\n",
            "6300/6300 [==============================] - 9s 1ms/step - loss: 0.2292 - acc: 0.9189 - val_loss: 0.2437 - val_acc: 0.9143\n",
            "Epoch 108/140\n",
            "6300/6300 [==============================] - 9s 1ms/step - loss: 0.2299 - acc: 0.9205 - val_loss: 0.2284 - val_acc: 0.9181\n",
            "Epoch 109/140\n",
            "6300/6300 [==============================] - 9s 1ms/step - loss: 0.2202 - acc: 0.9206 - val_loss: 0.2592 - val_acc: 0.9119\n",
            "Epoch 110/140\n",
            "6300/6300 [==============================] - 9s 1ms/step - loss: 0.2435 - acc: 0.9110 - val_loss: 0.3256 - val_acc: 0.8733\n",
            "Epoch 111/140\n",
            "6300/6300 [==============================] - 9s 1ms/step - loss: 0.2268 - acc: 0.9197 - val_loss: 0.3245 - val_acc: 0.8452\n",
            "Epoch 112/140\n",
            "6300/6300 [==============================] - 9s 1ms/step - loss: 0.2215 - acc: 0.9225 - val_loss: 0.2502 - val_acc: 0.9090\n",
            "Epoch 113/140\n",
            "6300/6300 [==============================] - 9s 1ms/step - loss: 0.2120 - acc: 0.9260 - val_loss: 0.2505 - val_acc: 0.9062\n",
            "Epoch 114/140\n",
            "6300/6300 [==============================] - 9s 1ms/step - loss: 0.2048 - acc: 0.9294 - val_loss: 0.2208 - val_acc: 0.9205\n",
            "Epoch 115/140\n",
            "6300/6300 [==============================] - 9s 1ms/step - loss: 0.2104 - acc: 0.9285 - val_loss: 0.2315 - val_acc: 0.9171\n",
            "Epoch 116/140\n",
            "6300/6300 [==============================] - 9s 1ms/step - loss: 0.2059 - acc: 0.9300 - val_loss: 0.2378 - val_acc: 0.9167\n",
            "Epoch 117/140\n",
            "6300/6300 [==============================] - 9s 1ms/step - loss: 0.2092 - acc: 0.9280 - val_loss: 0.4472 - val_acc: 0.8152\n",
            "Epoch 118/140\n",
            "6300/6300 [==============================] - 9s 1ms/step - loss: 0.2025 - acc: 0.9279 - val_loss: 0.2494 - val_acc: 0.9171\n",
            "Epoch 119/140\n",
            "6300/6300 [==============================] - 9s 1ms/step - loss: 0.1952 - acc: 0.9336 - val_loss: 0.2197 - val_acc: 0.9286\n",
            "Epoch 120/140\n",
            "6300/6300 [==============================] - 9s 1ms/step - loss: 0.2162 - acc: 0.9265 - val_loss: 0.3749 - val_acc: 0.8638\n",
            "Epoch 121/140\n",
            "6300/6300 [==============================] - 9s 1ms/step - loss: 0.2048 - acc: 0.9304 - val_loss: 0.2560 - val_acc: 0.9071\n",
            "Epoch 122/140\n",
            "6300/6300 [==============================] - 9s 1ms/step - loss: 0.1912 - acc: 0.9361 - val_loss: 0.2138 - val_acc: 0.9233\n",
            "Epoch 123/140\n",
            "6300/6300 [==============================] - 9s 1ms/step - loss: 0.2006 - acc: 0.9326 - val_loss: 0.1992 - val_acc: 0.9314\n",
            "Epoch 124/140\n",
            "6300/6300 [==============================] - 9s 1ms/step - loss: 0.1949 - acc: 0.9348 - val_loss: 0.2198 - val_acc: 0.9286\n",
            "Epoch 125/140\n",
            "6300/6300 [==============================] - 9s 1ms/step - loss: 0.1893 - acc: 0.9376 - val_loss: 0.3143 - val_acc: 0.8729\n",
            "Epoch 126/140\n",
            "6300/6300 [==============================] - 9s 1ms/step - loss: 0.2004 - acc: 0.9322 - val_loss: 0.2693 - val_acc: 0.9081\n",
            "Epoch 127/140\n",
            "6300/6300 [==============================] - 9s 1ms/step - loss: 0.1911 - acc: 0.9360 - val_loss: 0.2252 - val_acc: 0.9124\n",
            "Epoch 128/140\n",
            "6300/6300 [==============================] - 9s 1ms/step - loss: 0.1886 - acc: 0.9359 - val_loss: 0.2399 - val_acc: 0.9110\n",
            "Epoch 129/140\n",
            "6300/6300 [==============================] - 9s 1ms/step - loss: 0.1885 - acc: 0.9372 - val_loss: 0.2608 - val_acc: 0.8948\n",
            "Epoch 130/140\n",
            "6300/6300 [==============================] - 9s 1ms/step - loss: 0.1839 - acc: 0.9381 - val_loss: 0.2179 - val_acc: 0.9281\n",
            "Epoch 131/140\n",
            "6300/6300 [==============================] - 9s 1ms/step - loss: 0.1834 - acc: 0.9376 - val_loss: 0.2115 - val_acc: 0.9281\n",
            "Epoch 132/140\n",
            "6300/6300 [==============================] - 9s 1ms/step - loss: 0.1837 - acc: 0.9389 - val_loss: 0.2215 - val_acc: 0.9152\n",
            "Epoch 133/140\n",
            "6300/6300 [==============================] - 9s 1ms/step - loss: 0.1910 - acc: 0.9363 - val_loss: 0.2038 - val_acc: 0.9262\n",
            "Epoch 134/140\n",
            "6300/6300 [==============================] - 9s 1ms/step - loss: 0.1788 - acc: 0.9403 - val_loss: 0.2144 - val_acc: 0.9205\n",
            "Epoch 135/140\n",
            "6300/6300 [==============================] - 9s 1ms/step - loss: 0.1747 - acc: 0.9422 - val_loss: 0.1910 - val_acc: 0.9367\n",
            "Epoch 136/140\n",
            "6300/6300 [==============================] - 9s 1ms/step - loss: 0.1820 - acc: 0.9398 - val_loss: 0.1989 - val_acc: 0.9310\n",
            "Epoch 137/140\n",
            "6300/6300 [==============================] - 9s 1ms/step - loss: 0.1810 - acc: 0.9402 - val_loss: 0.2563 - val_acc: 0.9057\n",
            "Epoch 138/140\n",
            "6300/6300 [==============================] - 9s 1ms/step - loss: 0.1841 - acc: 0.9394 - val_loss: 0.2202 - val_acc: 0.9243\n",
            "Epoch 139/140\n",
            "6300/6300 [==============================] - 9s 1ms/step - loss: 0.1745 - acc: 0.9425 - val_loss: 0.2185 - val_acc: 0.9143\n",
            "Epoch 140/140\n",
            "6300/6300 [==============================] - 9s 1ms/step - loss: 0.1747 - acc: 0.9433 - val_loss: 0.1943 - val_acc: 0.9362\n",
            "Test loss: 0.19427596620150975\n"
          ],
          "name": "stdout"
        }
      ]
    },
    {
      "cell_type": "code",
      "metadata": {
        "colab_type": "code",
        "id": "mwja5GCgc3f3",
        "colab": {}
      },
      "source": [
        "resultados = pd.DataFrame(model.predict_proba(imagens),columns=['freia', 'direita', 'esquerda']).round(2)"
      ],
      "execution_count": 0,
      "outputs": []
    },
    {
      "cell_type": "code",
      "metadata": {
        "id": "Q1Q6JDM7-wup",
        "colab_type": "code",
        "colab": {}
      },
      "source": [
        ""
      ],
      "execution_count": 0,
      "outputs": []
    },
    {
      "cell_type": "code",
      "metadata": {
        "id": "KuyMq7HhfI7M",
        "colab_type": "code",
        "outputId": "756f6111-04e6-4929-9434-1a989f6f54cf",
        "colab": {
          "base_uri": "https://localhost:8080/",
          "height": 662
        }
      },
      "source": [
        "resultados.sample(n=20)"
      ],
      "execution_count": 0,
      "outputs": [
        {
          "output_type": "execute_result",
          "data": {
            "text/html": [
              "<div>\n",
              "<style scoped>\n",
              "    .dataframe tbody tr th:only-of-type {\n",
              "        vertical-align: middle;\n",
              "    }\n",
              "\n",
              "    .dataframe tbody tr th {\n",
              "        vertical-align: top;\n",
              "    }\n",
              "\n",
              "    .dataframe thead th {\n",
              "        text-align: right;\n",
              "    }\n",
              "</style>\n",
              "<table border=\"1\" class=\"dataframe\">\n",
              "  <thead>\n",
              "    <tr style=\"text-align: right;\">\n",
              "      <th></th>\n",
              "      <th>freia</th>\n",
              "      <th>direita</th>\n",
              "      <th>esquerda</th>\n",
              "    </tr>\n",
              "  </thead>\n",
              "  <tbody>\n",
              "    <tr>\n",
              "      <th>2868</th>\n",
              "      <td>0.00</td>\n",
              "      <td>0.14</td>\n",
              "      <td>0.09</td>\n",
              "    </tr>\n",
              "    <tr>\n",
              "      <th>2724</th>\n",
              "      <td>0.09</td>\n",
              "      <td>0.02</td>\n",
              "      <td>0.67</td>\n",
              "    </tr>\n",
              "    <tr>\n",
              "      <th>3946</th>\n",
              "      <td>0.00</td>\n",
              "      <td>0.07</td>\n",
              "      <td>0.04</td>\n",
              "    </tr>\n",
              "    <tr>\n",
              "      <th>3901</th>\n",
              "      <td>0.00</td>\n",
              "      <td>0.11</td>\n",
              "      <td>0.06</td>\n",
              "    </tr>\n",
              "    <tr>\n",
              "      <th>1786</th>\n",
              "      <td>0.00</td>\n",
              "      <td>0.24</td>\n",
              "      <td>0.14</td>\n",
              "    </tr>\n",
              "    <tr>\n",
              "      <th>6487</th>\n",
              "      <td>0.00</td>\n",
              "      <td>0.09</td>\n",
              "      <td>0.05</td>\n",
              "    </tr>\n",
              "    <tr>\n",
              "      <th>1342</th>\n",
              "      <td>0.00</td>\n",
              "      <td>0.07</td>\n",
              "      <td>0.06</td>\n",
              "    </tr>\n",
              "    <tr>\n",
              "      <th>6330</th>\n",
              "      <td>0.09</td>\n",
              "      <td>0.03</td>\n",
              "      <td>0.62</td>\n",
              "    </tr>\n",
              "    <tr>\n",
              "      <th>5213</th>\n",
              "      <td>0.00</td>\n",
              "      <td>0.00</td>\n",
              "      <td>0.00</td>\n",
              "    </tr>\n",
              "    <tr>\n",
              "      <th>5041</th>\n",
              "      <td>0.00</td>\n",
              "      <td>0.02</td>\n",
              "      <td>0.01</td>\n",
              "    </tr>\n",
              "    <tr>\n",
              "      <th>4599</th>\n",
              "      <td>0.00</td>\n",
              "      <td>0.00</td>\n",
              "      <td>0.00</td>\n",
              "    </tr>\n",
              "    <tr>\n",
              "      <th>5563</th>\n",
              "      <td>0.00</td>\n",
              "      <td>0.15</td>\n",
              "      <td>0.12</td>\n",
              "    </tr>\n",
              "    <tr>\n",
              "      <th>3943</th>\n",
              "      <td>0.00</td>\n",
              "      <td>0.04</td>\n",
              "      <td>0.02</td>\n",
              "    </tr>\n",
              "    <tr>\n",
              "      <th>2988</th>\n",
              "      <td>0.06</td>\n",
              "      <td>0.86</td>\n",
              "      <td>0.01</td>\n",
              "    </tr>\n",
              "    <tr>\n",
              "      <th>4287</th>\n",
              "      <td>0.09</td>\n",
              "      <td>0.02</td>\n",
              "      <td>0.66</td>\n",
              "    </tr>\n",
              "    <tr>\n",
              "      <th>3001</th>\n",
              "      <td>0.00</td>\n",
              "      <td>0.03</td>\n",
              "      <td>0.02</td>\n",
              "    </tr>\n",
              "    <tr>\n",
              "      <th>2557</th>\n",
              "      <td>0.07</td>\n",
              "      <td>0.00</td>\n",
              "      <td>0.81</td>\n",
              "    </tr>\n",
              "    <tr>\n",
              "      <th>6830</th>\n",
              "      <td>0.00</td>\n",
              "      <td>0.03</td>\n",
              "      <td>0.02</td>\n",
              "    </tr>\n",
              "    <tr>\n",
              "      <th>2149</th>\n",
              "      <td>0.00</td>\n",
              "      <td>0.00</td>\n",
              "      <td>0.00</td>\n",
              "    </tr>\n",
              "    <tr>\n",
              "      <th>3994</th>\n",
              "      <td>0.00</td>\n",
              "      <td>0.25</td>\n",
              "      <td>0.16</td>\n",
              "    </tr>\n",
              "  </tbody>\n",
              "</table>\n",
              "</div>"
            ],
            "text/plain": [
              "      freia  direita  esquerda\n",
              "2868   0.00     0.14      0.09\n",
              "2724   0.09     0.02      0.67\n",
              "3946   0.00     0.07      0.04\n",
              "3901   0.00     0.11      0.06\n",
              "1786   0.00     0.24      0.14\n",
              "6487   0.00     0.09      0.05\n",
              "1342   0.00     0.07      0.06\n",
              "6330   0.09     0.03      0.62\n",
              "5213   0.00     0.00      0.00\n",
              "5041   0.00     0.02      0.01\n",
              "4599   0.00     0.00      0.00\n",
              "5563   0.00     0.15      0.12\n",
              "3943   0.00     0.04      0.02\n",
              "2988   0.06     0.86      0.01\n",
              "4287   0.09     0.02      0.66\n",
              "3001   0.00     0.03      0.02\n",
              "2557   0.07     0.00      0.81\n",
              "6830   0.00     0.03      0.02\n",
              "2149   0.00     0.00      0.00\n",
              "3994   0.00     0.25      0.16"
            ]
          },
          "metadata": {
            "tags": []
          },
          "execution_count": 35
        }
      ]
    },
    {
      "cell_type": "code",
      "metadata": {
        "id": "d-ONnDQFM7Ld",
        "colab_type": "code",
        "colab": {}
      },
      "source": [
        "model.save_weights(\"/content/drive/My Drive/Colab Notebooks/model_3_outputs.h5\")"
      ],
      "execution_count": 0,
      "outputs": []
    },
    {
      "cell_type": "markdown",
      "metadata": {
        "id": "N2Ie3pyleOYf",
        "colab_type": "text"
      },
      "source": [
        ""
      ]
    },
    {
      "cell_type": "code",
      "metadata": {
        "colab_type": "code",
        "id": "X67WDlDzTKlB",
        "outputId": "27b12bcf-e3dc-41f0-8023-2a5ed724f00c",
        "colab": {
          "base_uri": "https://localhost:8080/",
          "height": 297
        }
      },
      "source": [
        "resultados.describe()"
      ],
      "execution_count": 0,
      "outputs": [
        {
          "output_type": "execute_result",
          "data": {
            "text/html": [
              "<div>\n",
              "<style scoped>\n",
              "    .dataframe tbody tr th:only-of-type {\n",
              "        vertical-align: middle;\n",
              "    }\n",
              "\n",
              "    .dataframe tbody tr th {\n",
              "        vertical-align: top;\n",
              "    }\n",
              "\n",
              "    .dataframe thead th {\n",
              "        text-align: right;\n",
              "    }\n",
              "</style>\n",
              "<table border=\"1\" class=\"dataframe\">\n",
              "  <thead>\n",
              "    <tr style=\"text-align: right;\">\n",
              "      <th></th>\n",
              "      <th>freia</th>\n",
              "      <th>direita</th>\n",
              "      <th>esquerda</th>\n",
              "    </tr>\n",
              "  </thead>\n",
              "  <tbody>\n",
              "    <tr>\n",
              "      <th>count</th>\n",
              "      <td>7000.000000</td>\n",
              "      <td>7000.000000</td>\n",
              "      <td>7000.000000</td>\n",
              "    </tr>\n",
              "    <tr>\n",
              "      <th>mean</th>\n",
              "      <td>0.076130</td>\n",
              "      <td>0.308783</td>\n",
              "      <td>0.306051</td>\n",
              "    </tr>\n",
              "    <tr>\n",
              "      <th>std</th>\n",
              "      <td>0.056692</td>\n",
              "      <td>0.048004</td>\n",
              "      <td>0.044500</td>\n",
              "    </tr>\n",
              "    <tr>\n",
              "      <th>min</th>\n",
              "      <td>0.000000</td>\n",
              "      <td>0.020000</td>\n",
              "      <td>0.040000</td>\n",
              "    </tr>\n",
              "    <tr>\n",
              "      <th>25%</th>\n",
              "      <td>0.050000</td>\n",
              "      <td>0.300000</td>\n",
              "      <td>0.290000</td>\n",
              "    </tr>\n",
              "    <tr>\n",
              "      <th>50%</th>\n",
              "      <td>0.050000</td>\n",
              "      <td>0.300000</td>\n",
              "      <td>0.300000</td>\n",
              "    </tr>\n",
              "    <tr>\n",
              "      <th>75%</th>\n",
              "      <td>0.090000</td>\n",
              "      <td>0.320000</td>\n",
              "      <td>0.330000</td>\n",
              "    </tr>\n",
              "    <tr>\n",
              "      <th>max</th>\n",
              "      <td>0.270000</td>\n",
              "      <td>0.400000</td>\n",
              "      <td>0.390000</td>\n",
              "    </tr>\n",
              "  </tbody>\n",
              "</table>\n",
              "</div>"
            ],
            "text/plain": [
              "             freia      direita     esquerda\n",
              "count  7000.000000  7000.000000  7000.000000\n",
              "mean      0.076130     0.308783     0.306051\n",
              "std       0.056692     0.048004     0.044500\n",
              "min       0.000000     0.020000     0.040000\n",
              "25%       0.050000     0.300000     0.290000\n",
              "50%       0.050000     0.300000     0.300000\n",
              "75%       0.090000     0.320000     0.330000\n",
              "max       0.270000     0.400000     0.390000"
            ]
          },
          "metadata": {
            "tags": []
          },
          "execution_count": 94
        }
      ]
    },
    {
      "cell_type": "markdown",
      "metadata": {
        "id": "xq8SAIBYqhCq",
        "colab_type": "text"
      },
      "source": [
        "#### Loading my Model"
      ]
    },
    {
      "cell_type": "code",
      "metadata": {
        "id": "NljFHeRzqhCs",
        "colab_type": "code",
        "colab": {}
      },
      "source": [
        "def generate_model():\n",
        "  model = Sequential()\n",
        "  model.add(Conv2D(24, kernel_size=(10, 10), strides=(2, 2), activation='relu', input_shape=input_shape))\n",
        "  model.add(Conv2D(36, kernel_size=(5, 5), strides=(2, 2), activation='relu'))\n",
        "  model.add(Conv2D(48, kernel_size=(5, 5), strides=(2, 2), activation='relu'))\n",
        "  model.add(Conv2D(64, kernel_size=(3, 3), activation='relu'))\n",
        "  model.add(Conv2D(64, kernel_size=(3, 3), activation='relu'))\n",
        "  model.add(MaxPooling2D(pool_size=(2, 2)))\n",
        "  model.add(Flatten())\n",
        "  model.add(Dense(2056, activation='relu'))\n",
        "  model.add(Dense(512, activation='relu'))\n",
        "  model.add(Dense(128, activation='relu'))\n",
        "  model.add(Dense(32, activation='relu'))\n",
        "  model.add(Dense(num_classes, activation='sigmoid'))\n",
        "  \n",
        "  return model"
      ],
      "execution_count": 0,
      "outputs": []
    },
    {
      "cell_type": "code",
      "metadata": {
        "id": "zO7ry8q6qhCx",
        "colab_type": "code",
        "colab": {}
      },
      "source": [
        "modelz = generate_model()"
      ],
      "execution_count": 0,
      "outputs": []
    },
    {
      "cell_type": "code",
      "metadata": {
        "id": "4af_R68NqhC1",
        "colab_type": "code",
        "colab": {}
      },
      "source": [
        "modelz.load_weights('/content/drive/My Drive/Colab Notebooks/modelo_outrun_3_outputs.hdf5')"
      ],
      "execution_count": 0,
      "outputs": []
    },
    {
      "cell_type": "code",
      "metadata": {
        "id": "eTr8zoaVqhC4",
        "colab_type": "code",
        "colab": {}
      },
      "source": [
        "type(model)"
      ],
      "execution_count": 0,
      "outputs": []
    },
    {
      "cell_type": "code",
      "metadata": {
        "id": "rysk2ZoVqhC-",
        "colab_type": "code",
        "colab": {}
      },
      "source": [
        "imagens.shape"
      ],
      "execution_count": 0,
      "outputs": []
    },
    {
      "cell_type": "code",
      "metadata": {
        "colab_type": "code",
        "id": "xJx-y0y8qhDC",
        "colab": {}
      },
      "source": [
        "resultados = pd.DataFrame(modelz.predict_proba(imagens),columns=['freia', 'direita', 'esquerda']).round(2)"
      ],
      "execution_count": 0,
      "outputs": []
    },
    {
      "cell_type": "code",
      "metadata": {
        "colab_type": "code",
        "id": "IZe3KSGXqhDG",
        "colab": {}
      },
      "source": [
        "resultados.describe()"
      ],
      "execution_count": 0,
      "outputs": []
    },
    {
      "cell_type": "markdown",
      "metadata": {
        "id": "7pfC2MzOqhDK",
        "colab_type": "text"
      },
      "source": [
        "------------------------------------------------------------------------------------------------------------------------"
      ]
    },
    {
      "cell_type": "markdown",
      "metadata": {
        "id": "T3vpuOmiqhDL",
        "colab_type": "text"
      },
      "source": [
        "# Roc of the Models"
      ]
    },
    {
      "cell_type": "code",
      "metadata": {
        "id": "G5aCVgcnqhDM",
        "colab_type": "code",
        "outputId": "46fd0f5d-d1b5-43b6-ddcd-d280de68a5c4",
        "colab": {
          "base_uri": "https://localhost:8080/",
          "height": 35
        }
      },
      "source": [
        "comandos.columns"
      ],
      "execution_count": 0,
      "outputs": [
        {
          "output_type": "execute_result",
          "data": {
            "text/plain": [
              "Index(['freia', 'direita', 'esquerda'], dtype='object')"
            ]
          },
          "metadata": {
            "tags": []
          },
          "execution_count": 37
        }
      ]
    },
    {
      "cell_type": "code",
      "metadata": {
        "id": "R17jqcSBqhDP",
        "colab_type": "code",
        "colab": {}
      },
      "source": [
        "def curva_roc(df_target,predictions,title=''):\n",
        "    fpr, tpr, threshold = roc_curve(df_target, predictions)\n",
        "    plt.figure(figsize=(8,8))\n",
        "    lw = 2\n",
        "    plt.plot(fpr, tpr, color='darkorange',lw=lw, label='ROC curve (area = %0.2f)' % roc_auc_score(df_target, predictions))\n",
        "    plt.plot([0, 1], [0, 1], color='navy', lw=lw, linestyle='--')\n",
        "    plt.xlim([0.0, 1.0])\n",
        "    plt.ylim([0.0, 1.05])\n",
        "    plt.xlabel('False Positive Rate')\n",
        "    plt.ylabel('True Positive Rate')\n",
        "    plt.title('Receiver operating characteristic REAIS'+title)\n",
        "    plt.legend(loc=\"lower right\")\n",
        "    plt.show()"
      ],
      "execution_count": 0,
      "outputs": []
    },
    {
      "cell_type": "code",
      "metadata": {
        "id": "aYJmdOgLqhDS",
        "colab_type": "code",
        "colab": {}
      },
      "source": [
        "def limiar_escore(df_target,predictions):\n",
        "    #Imprimindo limiar de Escore\n",
        "    fpr, tpr, threshold = roc_curve(df_target, predictions)\n",
        "    i = np.arange(len(tpr)) \n",
        "    roc = pd.DataFrame({'tf' : pd.Series(tpr-(1-fpr), index=i), 'threshold' : pd.Series(threshold, index=i)})\n",
        "    roc_t = roc.ix[(roc.tf-0).abs().argsort()[:1]]\n",
        "    print('Limiar que maxima especificidade e sensitividade:')\n",
        "    print(list(roc_t['threshold']))\n",
        "    #analisando modelo com novo limiar\n",
        "    tn, fp, fn, tp = confusion_matrix(df_target, [1 if item>=list(roc_t['threshold'])[0] else 0 for item in predictions]).ravel()\n",
        "    Precision = tp/(tp+fp)\n",
        "    Recall = tp/(tp+fn)\n",
        "    acuracia = (tp+tn)/(tn+fp+fn+tp)\n",
        "    F = (2*Precision*Recall)/(Precision+Recall)\n",
        "    print('Precision',Precision)\n",
        "    print('Recall',Recall)\n",
        "    print('Acuracia',acuracia)\n",
        "    print('F-Score',F)"
      ],
      "execution_count": 0,
      "outputs": []
    },
    {
      "cell_type": "markdown",
      "metadata": {
        "id": "uVBg1BVTqhDi",
        "colab_type": "text"
      },
      "source": [
        "Freio"
      ]
    },
    {
      "cell_type": "code",
      "metadata": {
        "id": "yY-GuNmUqhDj",
        "colab_type": "code",
        "outputId": "4fde1def-6a4a-4a69-a3c0-ec70fd73343b",
        "colab": {
          "base_uri": "https://localhost:8080/",
          "height": 617
        }
      },
      "source": [
        "curva_roc(comandos['freia'],resultados['freia'],' freia')\n",
        "\n",
        "limiar_escore(comandos['freia'],resultados['freia'])"
      ],
      "execution_count": 0,
      "outputs": [
        {
          "output_type": "display_data",
          "data": {
            "image/png": "[encoded data removed]",
            "text/plain": [
              "<Figure size 576x576 with 1 Axes>"
            ]
          },
          "metadata": {
            "tags": []
          }
        },
        {
          "output_type": "stream",
          "text": [
            "Limiar que maxima especificidade e sensitividade:\n",
            "[0.07000000029802322]\n",
            "Precision 0.059571088165210485\n",
            "Recall 0.4716981132075472\n",
            "Acuracia 0.8188571428571428\n",
            "F-Score 0.10578279266572638\n"
          ],
          "name": "stdout"
        }
      ]
    },
    {
      "cell_type": "code",
      "metadata": {
        "id": "-LwgXOMOqhDm",
        "colab_type": "code",
        "outputId": "2e966d38-6ade-43ab-d573-1b58cd0df051",
        "colab": {
          "base_uri": "https://localhost:8080/",
          "height": 283
        }
      },
      "source": [
        "plt.figure(figsize=(10,4))\n",
        "sns.distplot(resultados['freia'].iloc[comandos[comandos['freia'] == 1].index])\n",
        "sns.distplot(resultados['freia'].iloc[comandos[comandos['freia'] == 0].index])\n",
        "plt.legend([1,0])\n",
        "plt.show()"
      ],
      "execution_count": 0,
      "outputs": [
        {
          "output_type": "display_data",
          "data": {
            "image/png": "[encoded data removed]",
            "text/plain": [
              "<Figure size 720x288 with 1 Axes>"
            ]
          },
          "metadata": {
            "tags": []
          }
        }
      ]
    },
    {
      "cell_type": "markdown",
      "metadata": {
        "id": "XdQ3_hkxqhDr",
        "colab_type": "text"
      },
      "source": [
        "direita"
      ]
    },
    {
      "cell_type": "code",
      "metadata": {
        "id": "poLZSvgPqhDs",
        "colab_type": "code",
        "outputId": "3bb14744-2c25-4746-f730-8600a74cca79",
        "colab": {
          "base_uri": "https://localhost:8080/",
          "height": 617
        }
      },
      "source": [
        "curva_roc(comandos['direita'],resultados['direita'],' direita')\n",
        "\n",
        "limiar_escore(comandos['direita'],resultados['direita'])"
      ],
      "execution_count": 0,
      "outputs": [
        {
          "output_type": "display_data",
          "data": {
            "image/png": "[encoded data removed]",
            "text/plain": [
              "<Figure size 576x576 with 1 Axes>"
            ]
          },
          "metadata": {
            "tags": []
          }
        },
        {
          "output_type": "stream",
          "text": [
            "Limiar que maxima especificidade e sensitividade:\n",
            "[0.25999999046325684]\n",
            "Precision 0.7607025246981339\n",
            "Recall 0.9233844103930713\n",
            "Acuracia 0.9212857142857143\n",
            "F-Score 0.8341859765272345\n"
          ],
          "name": "stdout"
        }
      ]
    },
    {
      "cell_type": "code",
      "metadata": {
        "id": "rRccBQfJqhDw",
        "colab_type": "code",
        "outputId": "ea5a7aea-b65d-43da-93a7-7b349d6536fa",
        "colab": {
          "base_uri": "https://localhost:8080/",
          "height": 283
        }
      },
      "source": [
        "plt.figure(figsize=(10,4))\n",
        "sns.distplot(resultados['direita'].iloc[comandos[comandos['direita'] == 1].index])\n",
        "sns.distplot(resultados['direita'].iloc[comandos[comandos['direita'] == 0].index])\n",
        "plt.legend([1,0])\n",
        "plt.show()"
      ],
      "execution_count": 0,
      "outputs": [
        {
          "output_type": "display_data",
          "data": {
            "image/png": "[encoded data removed]",
            "text/plain": [
              "<Figure size 720x288 with 1 Axes>"
            ]
          },
          "metadata": {
            "tags": []
          }
        }
      ]
    },
    {
      "cell_type": "markdown",
      "metadata": {
        "id": "CkjTPdJmqhD0",
        "colab_type": "text"
      },
      "source": [
        "Esquerda"
      ]
    },
    {
      "cell_type": "code",
      "metadata": {
        "id": "ifAxpK6QYbom",
        "colab_type": "code",
        "outputId": "40ce5ee5-baee-491f-a278-c6cfab721e0b",
        "colab": {
          "base_uri": "https://localhost:8080/",
          "height": 69
        }
      },
      "source": [
        "comandos['esquerda'].value_counts(normalize=True)"
      ],
      "execution_count": 0,
      "outputs": [
        {
          "output_type": "execute_result",
          "data": {
            "text/plain": [
              "0    0.768714\n",
              "1    0.231286\n",
              "Name: esquerda, dtype: float64"
            ]
          },
          "metadata": {
            "tags": []
          },
          "execution_count": 44
        }
      ]
    },
    {
      "cell_type": "code",
      "metadata": {
        "id": "02fJBe2yYgyN",
        "colab_type": "code",
        "outputId": "2ecb38c5-de44-49ee-b24b-b4d83714a99b",
        "colab": {
          "base_uri": "https://localhost:8080/",
          "height": 364
        }
      },
      "source": [
        "resultados['esquerda'].unique()"
      ],
      "execution_count": 0,
      "outputs": [
        {
          "output_type": "execute_result",
          "data": {
            "text/plain": [
              "array([0.        , 0.01      , 0.07      , 0.1       , 0.02      ,\n",
              "       0.85000002, 0.83999997, 0.04      , 0.18000001, 0.54000002,\n",
              "       0.87      , 0.2       , 0.14      , 0.31      , 0.05      ,\n",
              "       0.03      , 0.13      , 0.28999999, 0.75999999, 0.30000001,\n",
              "       0.64999998, 0.86000001, 0.92000002, 0.37      , 0.69999999,\n",
              "       0.77999997, 0.17      , 0.76999998, 0.93000001, 0.73000002,\n",
              "       0.75      , 0.88      , 0.25      , 0.44      , 0.67000002,\n",
              "       0.55000001, 0.47      , 0.69      , 0.58999997, 0.49000001,\n",
              "       0.63999999, 0.52999997, 0.81999999, 0.91000003, 0.74000001,\n",
              "       0.15000001, 0.06      , 0.56999999, 0.47999999, 0.23999999,\n",
              "       0.08      , 0.12      , 0.51999998, 0.25999999, 0.20999999,\n",
              "       0.09      , 0.38      , 0.19      , 0.22      , 0.33000001,\n",
              "       0.16      , 0.23      , 0.63      , 0.11      , 0.43000001,\n",
              "       0.62      , 0.44999999, 0.82999998, 0.81      , 0.79000002,\n",
              "       0.50999999, 0.70999998, 0.40000001, 0.27000001, 0.61000001,\n",
              "       0.80000001, 0.60000002, 0.89999998, 0.41999999, 0.72000003,\n",
              "       0.56      , 0.68000001, 0.66000003, 0.5       , 0.57999998,\n",
              "       0.31999999, 0.46000001, 0.34      , 0.41      , 0.28      ,\n",
              "       0.88999999, 0.38999999, 0.36000001, 0.34999999, 0.94      ,\n",
              "       0.95999998, 0.94999999, 0.97000003, 0.98000002])"
            ]
          },
          "metadata": {
            "tags": []
          },
          "execution_count": 45
        }
      ]
    },
    {
      "cell_type": "code",
      "metadata": {
        "id": "jIhgjtH3qhD1",
        "colab_type": "code",
        "outputId": "65b4c6b5-8b83-44e5-da19-7a7c6cf4ae4c",
        "colab": {
          "base_uri": "https://localhost:8080/",
          "height": 617
        }
      },
      "source": [
        "curva_roc(comandos['esquerda'],resultados['esquerda'],' esquerda')\n",
        "\n",
        "limiar_escore(comandos['esquerda'],resultados['esquerda'])"
      ],
      "execution_count": 0,
      "outputs": [
        {
          "output_type": "display_data",
          "data": {
            "image/png": "[encoded data removed]",
            "text/plain": [
              "<Figure size 576x576 with 1 Axes>"
            ]
          },
          "metadata": {
            "tags": []
          }
        },
        {
          "output_type": "stream",
          "text": [
            "Limiar que maxima especificidade e sensitividade:\n",
            "[0.20999999344348907]\n",
            "Precision 0.7838405036726128\n",
            "Recall 0.922791846819024\n",
            "Acuracia 0.9232857142857143\n",
            "F-Score 0.847659574468085\n"
          ],
          "name": "stdout"
        }
      ]
    },
    {
      "cell_type": "code",
      "metadata": {
        "id": "Oitunw06qhD8",
        "colab_type": "code",
        "outputId": "c0cc6c77-44af-4366-cfd7-6671eb7c5fc1",
        "colab": {
          "base_uri": "https://localhost:8080/",
          "height": 283
        }
      },
      "source": [
        "plt.figure(figsize=(10,4))\n",
        "sns.distplot(resultados['esquerda'].iloc[comandos[comandos['esquerda'] == 1].index])\n",
        "sns.distplot(resultados['esquerda'].iloc[comandos[comandos['esquerda'] == 0].index])\n",
        "plt.legend([1,0])\n",
        "plt.show()"
      ],
      "execution_count": 0,
      "outputs": [
        {
          "output_type": "display_data",
          "data": {
            "image/png": "[encoded data removed]",
            "text/plain": [
              "<Figure size 720x288 with 1 Axes>"
            ]
          },
          "metadata": {
            "tags": []
          }
        }
      ]
    },
    {
      "cell_type": "markdown",
      "metadata": {
        "id": "8aZjyrlnqhEA",
        "colab_type": "text"
      },
      "source": [
        "Cima"
      ]
    },
    {
      "cell_type": "code",
      "metadata": {
        "id": "4VwcLo6qqhEB",
        "colab_type": "code",
        "outputId": "32627500-afa6-49b5-8345-f9524324825e",
        "colab": {
          "base_uri": "https://localhost:8080/",
          "height": 883
        }
      },
      "source": [
        "curva_roc(comandos['cima'],resultados['cima'],' cima')\n",
        "\n",
        "limiar_escore(comandos['cima'],resultados['cima'])\n",
        "\n",
        "plt.figure(figsize=(10,4))\n",
        "sns.distplot(resultados['cima'].iloc[comandos[comandos['cima'] == 1].index])\n",
        "sns.distplot(resultados['cima'].iloc[comandos[comandos['cima'] == 0].index])\n",
        "plt.legend([1,0])\n",
        "plt.show()"
      ],
      "execution_count": 0,
      "outputs": [
        {
          "output_type": "display_data",
          "data": {
            "image/png": "[encoded data removed]",
            "text/plain": [
              "<Figure size 576x576 with 1 Axes>"
            ]
          },
          "metadata": {
            "tags": []
          }
        },
        {
          "output_type": "stream",
          "text": [
            "Limiar que maxima especificidade e sensitividade:\n",
            "[0.009999999776482582]\n",
            "Precision 0.0625\n",
            "Recall 0.75\n",
            "Acuracia 0.9823889739663093\n",
            "F-Score 0.11538461538461539\n"
          ],
          "name": "stdout"
        },
        {
          "output_type": "display_data",
          "data": {
            "image/png": "[encoded data removed]",
            "text/plain": [
              "<Figure size 720x288 with 1 Axes>"
            ]
          },
          "metadata": {
            "tags": []
          }
        }
      ]
    },
    {
      "cell_type": "markdown",
      "metadata": {
        "id": "h9e420rXqhEE",
        "colab_type": "text"
      },
      "source": [
        "Baixo"
      ]
    },
    {
      "cell_type": "code",
      "metadata": {
        "id": "9f_1LAR_qhEF",
        "colab_type": "code",
        "outputId": "62a2d39a-3bf1-4a12-f7e8-d3fcc784da7d",
        "colab": {
          "base_uri": "https://localhost:8080/",
          "height": 883
        }
      },
      "source": [
        "curva_roc(comandos['baixo'],resultados['baixo'],' baixo')\n",
        "\n",
        "limiar_escore(comandos['baixo'],resultados['baixo'])\n",
        "\n",
        "plt.figure(figsize=(10,4))\n",
        "sns.distplot(resultados['baixo'].iloc[comandos[comandos['baixo'] == 1].index])\n",
        "sns.distplot(resultados['baixo'].iloc[comandos[comandos['baixo'] == 0].index])\n",
        "plt.legend([1,0])\n",
        "plt.show()"
      ],
      "execution_count": 0,
      "outputs": [
        {
          "output_type": "display_data",
          "data": {
            "image/png": "[encoded data removed]",
            "text/plain": [
              "<Figure size 576x576 with 1 Axes>"
            ]
          },
          "metadata": {
            "tags": []
          }
        },
        {
          "output_type": "stream",
          "text": [
            "Limiar que maxima especificidade e sensitividade:\n",
            "[0.029999999329447746]\n",
            "Precision 0.3184713375796178\n",
            "Recall 0.9615384615384616\n",
            "Acuracia 0.9582695252679939\n",
            "F-Score 0.4784688995215311\n"
          ],
          "name": "stdout"
        },
        {
          "output_type": "display_data",
          "data": {
            "image/png": "[encoded data removed]",
            "text/plain": [
              "<Figure size 720x288 with 1 Axes>"
            ]
          },
          "metadata": {
            "tags": []
          }
        }
      ]
    },
    {
      "cell_type": "markdown",
      "metadata": {
        "id": "iyq3f5iKqhEI",
        "colab_type": "raw"
      },
      "source": [
        "-------------------------------------------------------------------END-----------------------------------------------------------------------------"
      ]
    }
  ]
}